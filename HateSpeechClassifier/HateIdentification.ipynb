{
 "cells": [
  {
   "cell_type": "markdown",
   "metadata": {},
   "source": [
    "# Binary Classifier"
   ]
  },
  {
   "cell_type": "code",
   "execution_count": 2,
   "metadata": {},
   "outputs": [],
   "source": [
    "import pandas as pd\n",
    "import matplotlib.pyplot as plt\n",
    "import seaborn as sns\n",
    "import numpy as np\n",
    "import matplotlib as mpl\n",
    "import pickle\n",
    "\n",
    "from sklearn.feature_extraction.text import TfidfVectorizer\n",
    "from sklearn.linear_model import LogisticRegression\n",
    "from sklearn.ensemble import RandomForestClassifier\n",
    "from sklearn.datasets import make_classification\n",
    "\n",
    "from sklearn.model_selection import train_test_split\n",
    "from sklearn.feature_selection import SelectFromModel\n",
    "from sklearn.metrics import f1_score\n",
    "from sklearn.metrics import confusion_matrix\n",
    "from sklearn.metrics import classification_report\n",
    "from sklearn.metrics import accuracy_score"
   ]
  },
  {
   "cell_type": "markdown",
   "metadata": {},
   "source": [
    "## Importing and Processing Data"
   ]
  },
  {
   "cell_type": "markdown",
   "metadata": {},
   "source": [
    "### Davidson"
   ]
  },
  {
   "cell_type": "code",
   "execution_count": 54,
   "metadata": {},
   "outputs": [],
   "source": [
    "dataset = 'davidson'"
   ]
  },
  {
   "cell_type": "code",
   "execution_count": 14,
   "metadata": {},
   "outputs": [
    {
     "name": "stdout",
     "output_type": "stream",
     "text": [
      "       Unnamed: 0                                              tweet  is_hate\n",
      "0               0  !!! RT @mayasolovely: As a woman you shouldn't...        0\n",
      "1               1  !!!!! RT @mleew17: boy dats cold...tyga dwn ba...        1\n",
      "2               2  !!!!!!! RT @UrKindOfBrand Dawg!!!! RT @80sbaby...        1\n",
      "3               3  !!!!!!!!! RT @C_G_Anderson: @viva_based she lo...        1\n",
      "4               4  !!!!!!!!!!!!! RT @ShenikaRoberts: The shit you...        1\n",
      "...           ...                                                ...      ...\n",
      "24778       25291  you's a muthaf***in lie &#8220;@LifeAsKing: @2...        1\n",
      "24779       25292  you've gone and broke the wrong heart baby, an...        0\n",
      "24780       25294  young buck wanna eat!!.. dat nigguh like I ain...        1\n",
      "24781       25295              youu got wild bitches tellin you lies        1\n",
      "24782       25296  ~~Ruffled | Ntac Eileen Dahlia - Beautiful col...        0\n",
      "\n",
      "[24783 rows x 3 columns]\n"
     ]
    }
   ],
   "source": [
    "# load Davidson dataset (for binary classification)\n",
    "davidson_df = pd.read_csv('Data/davidson_labeled_data.csv')\n",
    "\n",
    "davidson_df = davidson_df.drop(columns=['count', 'hate_speech', 'offensive_language', 'neither'])\n",
    "\n",
    "# convert from classes 0,1,2 (hate, offensive, nonhate) to 0,1 (nonhate, hate)\n",
    "def relabel(row):\n",
    "    return 0 if row['class'] == 2 else 1\n",
    "\n",
    "davidson_df['is_hate'] = davidson_df.apply(lambda row: relabel(row), axis=1)\n",
    "davidson_df = davidson_df.drop(columns=['class'])\n",
    "\n",
    "print(davidson_df)"
   ]
  },
  {
   "cell_type": "code",
   "execution_count": 18,
   "metadata": {},
   "outputs": [],
   "source": [
    "tweets = davidson_df['tweet']"
   ]
  },
  {
   "cell_type": "code",
   "execution_count": 19,
   "metadata": {},
   "outputs": [],
   "source": [
    "labels = davidson_df['is_hate']"
   ]
  },
  {
   "cell_type": "code",
   "execution_count": 22,
   "metadata": {},
   "outputs": [],
   "source": [
    "# clean up tweets\n",
    "# code from Davidson: https://github.com/t-davidson/hate-speech-and-offensive-language/blob/master/classifier/final_classifier.ipynb\n",
    "import re\n",
    "\n",
    "def preprocess(text_string):\n",
    "    \"\"\"\n",
    "    Accepts a text string and replaces:\n",
    "    1) urls with URLHERE\n",
    "    2) lots of whitespace with one instance\n",
    "    3) mentions with MENTIONHERE\n",
    "\n",
    "    This allows us to get standardized counts of urls and mentions\n",
    "    Without caring about specific people mentioned\n",
    "    \"\"\"\n",
    "    space_pattern = '\\s+'\n",
    "    giant_url_regex = ('http[s]?://(?:[a-zA-Z]|[0-9]|[$-_@.&+]|'\n",
    "        '[!*\\(\\),]|(?:%[0-9a-fA-F][0-9a-fA-F]))+')\n",
    "    mention_regex = '@[\\w\\-]+'\n",
    "    parsed_text = re.sub(space_pattern, ' ', text_string)\n",
    "    parsed_text = re.sub(giant_url_regex, '', parsed_text)\n",
    "    parsed_text = re.sub(mention_regex, '', parsed_text)\n",
    "    #parsed_text = parsed_text.code(\"utf-8\", errors='ignore')\n",
    "    return parsed_text\n",
    "\n",
    "def basic_tokenize(tweet):\n",
    "    \"\"\"Same as tokenize but without the stemming\"\"\"\n",
    "    tweet = \" \".join(re.split(\"[^a-zA-Z.,!?]*\", tweet.lower())).strip()\n",
    "    return tweet.split()"
   ]
  },
  {
   "cell_type": "markdown",
   "metadata": {},
   "source": [
    "## Train Models"
   ]
  },
  {
   "cell_type": "code",
   "execution_count": 52,
   "metadata": {},
   "outputs": [],
   "source": [
    "tfidf_vectorizer = TfidfVectorizer(ngram_range=(1, 3),\n",
    "                                   #tokenizer=basic_tokenize,\n",
    "                                   #preprocessor=preprocess,\n",
    "                                   max_df = 0.75, min_df=5, \n",
    "                                   max_features=10000\n",
    "                                   )\n",
    "\n",
    "# TF-IDF feature matrix\n",
    "features = tfidf_vectorizer.fit_transform(tweets)"
   ]
  },
  {
   "cell_type": "code",
   "execution_count": 53,
   "metadata": {},
   "outputs": [],
   "source": [
    "X = features\n",
    "y = labels\n",
    "seed = 42\n",
    "X_train, X_test, y_train, y_test = train_test_split(X, y, random_state=seed, test_size=0.2)"
   ]
  },
  {
   "cell_type": "markdown",
   "metadata": {},
   "source": [
    "### Logistic Regression"
   ]
  },
  {
   "cell_type": "code",
   "execution_count": 51,
   "metadata": {},
   "outputs": [
    {
     "name": "stdout",
     "output_type": "stream",
     "text": [
      "              precision    recall  f1-score   support\n",
      "\n",
      "           0       0.88      0.67      0.76       835\n",
      "           1       0.94      0.98      0.96      4122\n",
      "\n",
      "    accuracy                           0.93      4957\n",
      "   macro avg       0.91      0.83      0.86      4957\n",
      "weighted avg       0.93      0.93      0.93      4957\n",
      "\n",
      "Logistic Regression Train accuracy 95.778%\n",
      "Logistic Regression Test accuracy 92.899%\n"
     ]
    }
   ],
   "source": [
    "LR_model = LogisticRegression().fit(X_train, y_train)\n",
    "y_preds = LR_model.predict(X_test)\n",
    "report = classification_report(y_test, y_preds)\n",
    "acc = accuracy_score(y_test, y_preds)\n",
    "mod_train = LR_model.score(X_train, y_train) \n",
    "\n",
    "print(report)\n",
    "print('Logistic Regression Train accuracy {:.3f}%'.format(mod_train * 100)) \n",
    "print('Logistic Regression Test accuracy {:.3f}%'.format(acc * 100)) \n",
    "\n",
    "with open(f'Models/BinaryClassifier/{dataset}_LR_model_report.txt', 'w+') as f:\n",
    "    f.write(report)\n",
    "    f.write('Logistic Regression Train accuracy {:.3f}%\\n'.format(mod_train * 100)) \n",
    "    f.write('Logistic Regression Test accuracy {:.3f}%\\n'.format(acc * 100)) "
   ]
  },
  {
   "cell_type": "code",
   "execution_count": 35,
   "metadata": {},
   "outputs": [],
   "source": [
    "with open('Models/BinaryClassifier/LR_model', 'wb+') as f:  \n",
    "    pickle.dump(LR_model, f)"
   ]
  },
  {
   "cell_type": "markdown",
   "metadata": {},
   "source": [
    "### Random Forest"
   ]
  },
  {
   "cell_type": "code",
   "execution_count": 48,
   "metadata": {},
   "outputs": [
    {
     "name": "stdout",
     "output_type": "stream",
     "text": [
      "              precision    recall  f1-score   support\n",
      "\n",
      "           0       0.86      0.69      0.77       835\n",
      "           1       0.94      0.98      0.96      4122\n",
      "\n",
      "    accuracy                           0.93      4957\n",
      "   macro avg       0.90      0.83      0.86      4957\n",
      "weighted avg       0.93      0.93      0.93      4957\n",
      "\n",
      "Random Forest Train accuracy 99.950%\n",
      "Random Forest Test accuracy 92.919%\n"
     ]
    }
   ],
   "source": [
    "RF_model = RandomForestClassifier()\n",
    "RF_model.fit(X_train,y_train)\n",
    "y_preds = RF_model.predict(X_test)\n",
    "report = classification_report(y_test, y_preds)\n",
    "acc = accuracy_score(y_test, y_preds)\n",
    "mod_train = RF_model.score(X_train, y_train) \n",
    "\n",
    "print(report)\n",
    "print('Random Forest Train accuracy {:.3f}%'.format(mod_train * 100)) \n",
    "print('Random Forest Test accuracy {:.3f}%'.format(acc * 100)) \n",
    "\n",
    "with open(f'Models/BinaryClassifier/{dataset}_RF_model_report.txt', 'w+') as f:\n",
    "    f.write(report)\n",
    "    f.write('Random Forest Train accuracy {:.3f}%\\n'.format(mod_train * 100))\n",
    "    f.write('Random Forest Test accuracy {:.3f}%'.format(acc * 100))"
   ]
  }
 ],
 "metadata": {
  "kernelspec": {
   "display_name": "Python 3 (ipykernel)",
   "language": "python",
   "name": "python3"
  },
  "language_info": {
   "codemirror_mode": {
    "name": "ipython",
    "version": 3
   },
   "file_extension": ".py",
   "mimetype": "text/x-python",
   "name": "python",
   "nbconvert_exporter": "python",
   "pygments_lexer": "ipython3",
   "version": "3.6.8"
  }
 },
 "nbformat": 4,
 "nbformat_minor": 4
}
