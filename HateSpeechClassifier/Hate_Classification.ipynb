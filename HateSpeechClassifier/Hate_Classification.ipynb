{
 "cells": [
  {
   "cell_type": "code",
   "execution_count": 3,
   "metadata": {},
   "outputs": [],
   "source": [
    "import pandas as pd\n",
    "import matplotlib.pyplot as plt\n",
    "import seaborn as sns\n",
    "#from sklearn.preprocessing import StandardScaler \n",
    "#from sklearn.svm import LinearSVC\n",
    "\n",
    "#from sklearn.feature_extraction.text import CountVectorizer\n",
    "from sklearn.feature_extraction.text import TfidfVectorizer\n",
    "from sklearn.linear_model import LogisticRegression\n",
    "#from sklearn import mixture, metrics\n",
    "from sklearn.ensemble import RandomForestClassifier\n",
    "from sklearn.datasets import make_classification\n",
    "from sklearn.naive_bayes import GaussianNB\n",
    "\n",
    "from sklearn.model_selection import train_test_split\n",
    "#from sklearn.feature_selection import SelectFromModel\n",
    "#from sklearn.metrics import f1_score\n",
    "from sklearn.metrics import confusion_matrix\n",
    "from sklearn.metrics import classification_report\n",
    "from sklearn.metrics import accuracy_score\n",
    "#from sklearn.feature_selection import SelectKBest, f_classif\n",
    "#from sklearn.covariance import empirical_covariance\n",
    "\n",
    "# import scipy\n",
    "import json \n",
    "import random\n",
    "import numpy as np\n",
    "#import itertools \n",
    "#import sys\n",
    "#import os\n",
    "#import matplotlib as mpl\n",
    "# from scipy import linalg\n",
    "import pickle\n",
    "\n",
    "\n",
    "# Remove all the un-necessary warnings\n",
    "# import warnings\n",
    "# warnings.filterwarnings('ignore')\n",
    "path = 'Data/CONAN-master/Multitarget-CONAN/'\n",
    "file = 'Multitarget-CONAN.json'\n",
    "file_p = path + file"
   ]
  },
  {
   "cell_type": "code",
   "execution_count": 4,
   "metadata": {},
   "outputs": [],
   "source": [
    "# opens json file and loads json as dictionary \n",
    "# on Windows encoding is utf8 so make sure to specify \n",
    "with open(file_p, \"r\", encoding=\"utf8\") as f:\n",
    "    multi_target = json.load(f)"
   ]
  },
  {
   "cell_type": "code",
   "execution_count": 16,
   "metadata": {},
   "outputs": [
    {
     "name": "stdout",
     "output_type": "stream",
     "text": [
      "0       Maybe the UN could talk to those asian and afr...\n",
      "1       ‘Juice (Jews) are worse that nukes.’ Caption t...\n",
      "2       Foreigners on UK benefits leaps 41% in 5 years...\n",
      "3       Jews cannot be patriots, since their allegianc...\n",
      "4       Israel, Zionism and Jewish Supremacist control...\n",
      "                              ...                        \n",
      "4998                       Woman are basically childlike.\n",
      "4999                   women should be submissive to men.\n",
      "5000    Women are essentially childlike, unable to und...\n",
      "5001                   Women should be submissive to men.\n",
      "5002    Women should not be allowed to vote, this is a...\n",
      "Name: HATE_SPEECH, Length: 5003, dtype: object\n",
      "['DISABLED' 'JEWS' 'LGBT+' 'MIGRANTS' 'MUSLIMS' 'POC' 'WOMEN' 'other']\n"
     ]
    }
   ],
   "source": [
    "# multi_target = pd.DataFrame(multi_target)\n",
    "# print(multi_target)\n",
    "\n",
    "# for ind in multi_target: \n",
    "# #     print(ind)\n",
    "#     for head in multi_target[ind]:\n",
    "# #         print(\" \" + head)\n",
    "#         # print out 4 types (Hate speech, counter narrative, target person, version) and string value \n",
    "# #         print(\"  \" + multi_target[ind][head])\n",
    "#         multi_target[ind][head]\n",
    "\n",
    "# Turns json file/python dict format into pandas dataframe \n",
    "mt_df = pd.DataFrame(multi_target)\n",
    "# print(mt_df)\n",
    "\n",
    "# collects hate speech into dataframe and series \n",
    "hs_orig = mt_df.iloc[0, :] \n",
    "print(hs_orig)\n",
    "\n",
    "# collects counter narrative into dataframe and series \n",
    "# cn_orig = mt_df.iloc[1, :] \n",
    "# print(cn_orig)\n",
    "\n",
    "# collects target minority into dataframe and series \n",
    "min_tar_orig = mt_df.iloc[2, :] # pd.DataFrame(mt_df.iloc[2, :], columns = [\"TARGET\"])\n",
    "# print(min_tar_orig)\n",
    "\n",
    "labels = np.unique(min_tar_orig)\n",
    "print(labels)\n",
    "\n",
    "# collects version of dataset into dataframe and series \n",
    "# vers_orig = mt_df.iloc[3, :] \n",
    "# print(vers_orig)\n",
    "\n",
    "f.close()"
   ]
  },
  {
   "cell_type": "code",
   "execution_count": 74,
   "metadata": {},
   "outputs": [
    {
     "data": {
      "text/html": [
       "<div>\n",
       "<style scoped>\n",
       "    .dataframe tbody tr th:only-of-type {\n",
       "        vertical-align: middle;\n",
       "    }\n",
       "\n",
       "    .dataframe tbody tr th {\n",
       "        vertical-align: top;\n",
       "    }\n",
       "\n",
       "    .dataframe thead th {\n",
       "        text-align: right;\n",
       "    }\n",
       "</style>\n",
       "<table border=\"1\" class=\"dataframe\">\n",
       "  <thead>\n",
       "    <tr style=\"text-align: right;\">\n",
       "      <th></th>\n",
       "      <th>HATE_SPEECH</th>\n",
       "      <th>COUNTER_NARRATIVE</th>\n",
       "      <th>TARGET</th>\n",
       "      <th>VERSION</th>\n",
       "    </tr>\n",
       "  </thead>\n",
       "  <tbody>\n",
       "    <tr>\n",
       "      <th>0</th>\n",
       "      <td>Maybe the UN could talk to those asian and afr...</td>\n",
       "      <td>You're right, ocean pollution is one of the ma...</td>\n",
       "      <td>other</td>\n",
       "      <td>V1</td>\n",
       "    </tr>\n",
       "    <tr>\n",
       "      <th>1</th>\n",
       "      <td>‘Juice (Jews) are worse that nukes.’ Caption t...</td>\n",
       "      <td>You'd rather be nuked then?</td>\n",
       "      <td>JEWS</td>\n",
       "      <td>V1</td>\n",
       "    </tr>\n",
       "    <tr>\n",
       "      <th>2</th>\n",
       "      <td>Foreigners on UK benefits leaps 41% in 5 years...</td>\n",
       "      <td>You seem to be worried about government expend...</td>\n",
       "      <td>MIGRANTS</td>\n",
       "      <td>V1</td>\n",
       "    </tr>\n",
       "    <tr>\n",
       "      <th>3</th>\n",
       "      <td>Jews cannot be patriots, since their allegianc...</td>\n",
       "      <td>You can have parents and grandparents born els...</td>\n",
       "      <td>JEWS</td>\n",
       "      <td>V1</td>\n",
       "    </tr>\n",
       "    <tr>\n",
       "      <th>4</th>\n",
       "      <td>Israel, Zionism and Jewish Supremacist control...</td>\n",
       "      <td>Wouldn't you say its colonialism from many dif...</td>\n",
       "      <td>JEWS</td>\n",
       "      <td>V1</td>\n",
       "    </tr>\n",
       "  </tbody>\n",
       "</table>\n",
       "</div>"
      ],
      "text/plain": [
       "                                         HATE_SPEECH  \\\n",
       "0  Maybe the UN could talk to those asian and afr...   \n",
       "1  ‘Juice (Jews) are worse that nukes.’ Caption t...   \n",
       "2  Foreigners on UK benefits leaps 41% in 5 years...   \n",
       "3  Jews cannot be patriots, since their allegianc...   \n",
       "4  Israel, Zionism and Jewish Supremacist control...   \n",
       "\n",
       "                                   COUNTER_NARRATIVE    TARGET VERSION  \n",
       "0  You're right, ocean pollution is one of the ma...     other      V1  \n",
       "1                        You'd rather be nuked then?      JEWS      V1  \n",
       "2  You seem to be worried about government expend...  MIGRANTS      V1  \n",
       "3  You can have parents and grandparents born els...      JEWS      V1  \n",
       "4  Wouldn't you say its colonialism from many dif...      JEWS      V1  "
      ]
     },
     "execution_count": 74,
     "metadata": {},
     "output_type": "execute_result"
    }
   ],
   "source": [
    "# transpose to make value feature and number of values x axis (columns) \n",
    "mt_df_T = mt_df.T \n",
    "mt_df_T.head()\n",
    "# mt_df_T[mt_df_T.isnull().any(axis=1)] # remove null values from dataframe - unnecessary for this data \n"
   ]
  },
  {
   "cell_type": "code",
   "execution_count": 75,
   "metadata": {},
   "outputs": [
    {
     "ename": "ModuleNotFoundError",
     "evalue": "No module named 'wordcloud'",
     "output_type": "error",
     "traceback": [
      "\u001b[0;31m---------------------------------------------------------------------------\u001b[0m",
      "\u001b[0;31mModuleNotFoundError\u001b[0m                       Traceback (most recent call last)",
      "\u001b[0;32m<ipython-input-75-6bb8c255f002>\u001b[0m in \u001b[0;36m<module>\u001b[0;34m\u001b[0m\n\u001b[1;32m      1\u001b[0m \u001b[0;31m# visualizing which of the word is most commonly used in the twitter dataset\u001b[0m\u001b[0;34m\u001b[0m\u001b[0;34m\u001b[0m\u001b[0;34m\u001b[0m\u001b[0m\n\u001b[0;32m----> 2\u001b[0;31m \u001b[0;32mfrom\u001b[0m \u001b[0mwordcloud\u001b[0m \u001b[0;32mimport\u001b[0m \u001b[0mWordCloud\u001b[0m\u001b[0;34m\u001b[0m\u001b[0;34m\u001b[0m\u001b[0m\n\u001b[0m\u001b[1;32m      3\u001b[0m \u001b[0;31m# imshow-Display data as an image\u001b[0m\u001b[0;34m\u001b[0m\u001b[0;34m\u001b[0m\u001b[0;34m\u001b[0m\u001b[0m\n\u001b[1;32m      4\u001b[0m \u001b[0;31m# interpolation - https://matplotlib.org/3.2.1/gallery/images_contours_and_fields/interpolation_methods.html\u001b[0m\u001b[0;34m\u001b[0m\u001b[0;34m\u001b[0m\u001b[0;34m\u001b[0m\u001b[0m\n\u001b[1;32m      5\u001b[0m \u001b[0mall_words\u001b[0m \u001b[0;34m=\u001b[0m \u001b[0;34m' '\u001b[0m\u001b[0;34m.\u001b[0m\u001b[0mjoin\u001b[0m\u001b[0;34m(\u001b[0m\u001b[0;34m[\u001b[0m\u001b[0mtext\u001b[0m \u001b[0;32mfor\u001b[0m \u001b[0mtext\u001b[0m \u001b[0;32min\u001b[0m \u001b[0mmt_df_T\u001b[0m\u001b[0;34m[\u001b[0m\u001b[0;34m'HATE_SPEECH'\u001b[0m\u001b[0;34m]\u001b[0m \u001b[0;34m]\u001b[0m\u001b[0;34m)\u001b[0m\u001b[0;34m\u001b[0m\u001b[0;34m\u001b[0m\u001b[0m\n",
      "\u001b[0;31mModuleNotFoundError\u001b[0m: No module named 'wordcloud'"
     ]
    }
   ],
   "source": [
    "# visualizing which of the word is most commonly used in the twitter dataset\n",
    "from wordcloud import WordCloud\n",
    "# imshow-Display data as an image\n",
    "# interpolation - https://matplotlib.org/3.2.1/gallery/images_contours_and_fields/interpolation_methods.html\n",
    "all_words = ' '.join([text for text in mt_df_T['HATE_SPEECH'] ])\n",
    "wordcloud = WordCloud(width=800, height=500, random_state=21, max_font_size=110).generate(all_words)\n",
    "#random=0.30\n",
    "plt.figure(figsize=(10, 7))\n",
    "plt.imshow(wordcloud, interpolation=\"bilinear\")\n",
    "plt.axis('off')\n",
    "plt.show()"
   ]
  },
  {
   "cell_type": "code",
   "execution_count": null,
   "metadata": {},
   "outputs": [
    {
     "name": "stdout",
     "output_type": "stream",
     "text": [
      "      target_DISABLED  target_JEWS  target_LGBT+  target_MIGRANTS  \\\n",
      "0                   0            0             0                0   \n",
      "1                   0            1             0                0   \n",
      "2                   0            0             0                1   \n",
      "3                   0            1             0                0   \n",
      "4                   0            1             0                0   \n",
      "...               ...          ...           ...              ...   \n",
      "4998                0            0             0                0   \n",
      "4999                0            0             0                0   \n",
      "5000                0            0             0                0   \n",
      "5001                0            0             0                0   \n",
      "5002                0            0             0                0   \n",
      "\n",
      "      target_MUSLIMS  target_POC  target_WOMEN  target_other  \n",
      "0                  0           0             0             1  \n",
      "1                  0           0             0             0  \n",
      "2                  0           0             0             0  \n",
      "3                  0           0             0             0  \n",
      "4                  0           0             0             0  \n",
      "...              ...         ...           ...           ...  \n",
      "4998               0           0             1             0  \n",
      "4999               0           0             1             0  \n",
      "5000               0           0             1             0  \n",
      "5001               0           0             1             0  \n",
      "5002               0           0             1             0  \n",
      "\n",
      "[5003 rows x 8 columns]\n"
     ]
    }
   ],
   "source": [
    "# !pip install _ # use ! to call commandline commands \n",
    "\n",
    "# one hot encode target categories \n",
    "pd.get_dummies(min_tar_orig, columns=[\"TARGET\"], prefix=\"target\").head()\n",
    "min_tar_dum = pd.get_dummies(min_tar_orig, columns=[\"TARGET\"], prefix=\"target\")\n",
    "print(min_tar_dum)"
   ]
  },
  {
   "cell_type": "code",
   "execution_count": 17,
   "metadata": {},
   "outputs": [],
   "source": [
    "min_tar = min_tar_orig.replace(labels, range(len(labels)))"
   ]
  },
  {
   "cell_type": "markdown",
   "metadata": {},
   "source": [
    "### Embeddings"
   ]
  },
  {
   "cell_type": "markdown",
   "metadata": {},
   "source": [
    "#### Tf-idf"
   ]
  },
  {
   "cell_type": "code",
   "execution_count": null,
   "metadata": {},
   "outputs": [],
   "source": [
    "embedding = 'tfidf'"
   ]
  },
  {
   "cell_type": "code",
   "execution_count": 76,
   "metadata": {},
   "outputs": [
    {
     "name": "stdout",
     "output_type": "stream",
     "text": [
      "0       7\n",
      "1       1\n",
      "2       3\n",
      "3       1\n",
      "4       1\n",
      "       ..\n",
      "4998    6\n",
      "4999    6\n",
      "5000    6\n",
      "5001    6\n",
      "5002    6\n",
      "Name: TARGET, Length: 5003, dtype: int64\n"
     ]
    },
    {
     "data": {
      "text/plain": [
       "<5003x3602 sparse matrix of type '<class 'numpy.float64'>'\n",
       "\twith 91052 stored elements in Compressed Sparse Row format>"
      ]
     },
     "metadata": {},
     "output_type": "display_data"
    }
   ],
   "source": [
    "\n",
    "#TF-IDF Features-F1\n",
    "# https://scikit-learn.org/stable/modules/generated/sklearn.feature_extraction.text.TfidfVectorizer.html\n",
    "# max and min are cutoffs for document frequency \n",
    "tfidf_vectorizer = TfidfVectorizer(ngram_range=(1, 2),\n",
    "                                   max_df = 0.75, min_df=5, \n",
    "                                   max_features=10000)\n",
    "\n",
    "# TF-IDF feature matrix\n",
    "docs = tfidf_vectorizer.fit_transform(hs_orig)\n",
    "display(docs)"
   ]
  },
  {
   "cell_type": "markdown",
   "metadata": {},
   "source": [
    "#### Doc2Vec"
   ]
  },
  {
   "cell_type": "code",
   "execution_count": 6,
   "metadata": {},
   "outputs": [],
   "source": [
    "from gensim.models.doc2vec import TaggedDocument\n",
    "from gensim.models import Doc2Vec"
   ]
  },
  {
   "cell_type": "code",
   "execution_count": 36,
   "metadata": {},
   "outputs": [],
   "source": [
    "from nltk.tokenize import word_tokenize\n",
    "from nltk.corpus import stopwords\n",
    "stop_words = stopwords.words('english')"
   ]
  },
  {
   "cell_type": "code",
   "execution_count": 13,
   "metadata": {},
   "outputs": [],
   "source": [
    "embedding = 'd2v'"
   ]
  },
  {
   "cell_type": "code",
   "execution_count": 104,
   "metadata": {},
   "outputs": [],
   "source": [
    "# clean data\n",
    "sents = []\n",
    "for id, val in multi_target.items():\n",
    "    hate_text = val['HATE_SPEECH']\n",
    "    \n",
    "    # make lowercase, remove punctuation and stopwords\n",
    "    words = TaggedDocument([w.lower() for w in hate_text.split(' ') if w.isalnum() and not w in stop_words], [id] )\n",
    "    #words = TaggedDocument([w.lower() for w in hate_text.split(' ') if w.isalnum()], [id] )  # make lowercase, remove punctuation\n",
    "    \n",
    "    sents.append(words)\n"
   ]
  },
  {
   "cell_type": "code",
   "execution_count": 121,
   "metadata": {},
   "outputs": [],
   "source": [
    "d2v_model = Doc2Vec(documents=sents, min_count=1, window=10, vector_size=100, sample=1e-4, negative=5, workers=8)"
   ]
  },
  {
   "cell_type": "code",
   "execution_count": 122,
   "metadata": {},
   "outputs": [],
   "source": [
    "num_epochs = 100\n",
    "d2v_model.train(corpus_iterable=sents, total_examples=d2v_model.corpus_count, epochs=num_epochs)\n",
    "\n",
    "save_name = f'd2v_{num_epochs}epochs_{d2v_model.vector_size}dim_2'\n",
    "d2v_model.save('Models/Embeddings/' + save_name)"
   ]
  },
  {
   "cell_type": "code",
   "execution_count": 108,
   "metadata": {},
   "outputs": [
    {
     "name": "stdout",
     "output_type": "stream",
     "text": [
      "Foreigners on UK benefits leaps 41% in 5 years with over 400K now handed payouts. This nonsense has got to stop.\n",
      "118\n",
      "98.95314574241638% similar: Foreigners on UK benefits leaps 41% in 5 years with over 400K now handed payouts. This nonsense has got to stop.\n",
      "84\n",
      "98.6491322517395% similar: Foreigners on UK benefits leaps 41% in 5 years with over 400K now handed payouts. This nonsense has got to stop.\n",
      "69\n",
      "98.15595746040344% similar: Foreigners on UK benefits leaps 41% in 5 years with over 400K now handed payouts. This nonsense has got to stop.\n",
      "74\n",
      "97.71285057067871% similar: Foreigners on UK benefits leaps 41% in 5 years with over 400K now handed payouts. This nonsense has got to stop.\n",
      "104\n",
      "97.59422540664673% similar: Foreigners on UK benefits leaps 41% in 5 years with over 400K now handed payouts. This nonsense has got to stop.\n",
      "1144\n",
      "97.58312702178955% similar: They got nothing but their hateful Islam!\n",
      "3470\n",
      "97.42926955223083% similar: That's the problem with feminism: it only benefits the very rich, and gives them permission to discriminate against men.\n",
      "2014\n",
      "97.33889102935791% similar: Any migrant who has lived in the country for 5 years can become a citizen even if he does not have a valid residence permit or is a criminal. This is how you destroy the welfare state.\n",
      "114\n",
      "96.99386358261108% similar: Foreigners on UK benefits leaps 41% in 5 years with over 400K now handed payouts. This nonsense has got to stop.\n",
      "6\n",
      "96.20755314826965% similar: Foreigners on UK benefits leaps 41% in 5 years with over 400K now handed payouts. This nonsense has got to stop.\n"
     ]
    }
   ],
   "source": [
    "most_similar = d2v_model.dv.most_similar('2')\n",
    "print(multi_target['2']['HATE_SPEECH'])\n",
    "for (id, similarity) in most_similar:\n",
    "    print(id)\n",
    "    print(f'{similarity*100}% similar:', multi_target[id]['HATE_SPEECH'])\n"
   ]
  },
  {
   "cell_type": "code",
   "execution_count": 7,
   "metadata": {},
   "outputs": [],
   "source": [
    "d2v_model = Doc2Vec.load('Models/Embeddings/d2v_100epochs_100dim')"
   ]
  },
  {
   "cell_type": "code",
   "execution_count": 8,
   "metadata": {},
   "outputs": [],
   "source": [
    "docs = [d2v_model.dv[i] for i in range(len(d2v_model.dv))]\n",
    "#print(docs)"
   ]
  },
  {
   "cell_type": "markdown",
   "metadata": {},
   "source": [
    "#### BERT"
   ]
  },
  {
   "cell_type": "markdown",
   "metadata": {},
   "source": [
    "Based on [this tutorial](https://towardsdatascience.com/build-a-bert-sci-kit-transformer-59d60ddd54a5)"
   ]
  },
  {
   "cell_type": "code",
   "execution_count": 5,
   "metadata": {},
   "outputs": [],
   "source": [
    "from transformers import BertTokenizer, BertModel\n",
    "import torch\n",
    "embedding = 'BERT'"
   ]
  },
  {
   "cell_type": "code",
   "execution_count": 6,
   "metadata": {},
   "outputs": [
    {
     "name": "stderr",
     "output_type": "stream",
     "text": [
      "Some weights of the model checkpoint at bert-base-uncased were not used when initializing BertModel: ['cls.predictions.transform.LayerNorm.bias', 'cls.seq_relationship.weight', 'cls.predictions.transform.dense.weight', 'cls.predictions.decoder.weight', 'cls.predictions.transform.dense.bias', 'cls.seq_relationship.bias', 'cls.predictions.bias', 'cls.predictions.transform.LayerNorm.weight']\n",
      "- This IS expected if you are initializing BertModel from the checkpoint of a model trained on another task or with another architecture (e.g. initializing a BertForSequenceClassification model from a BertForPreTraining model).\n",
      "- This IS NOT expected if you are initializing BertModel from the checkpoint of a model that you expect to be exactly identical (initializing a BertForSequenceClassification model from a BertForSequenceClassification model).\n"
     ]
    }
   ],
   "source": [
    "bert_tokenizer = BertTokenizer.from_pretrained(\"bert-base-uncased\")\n",
    "bert_model = BertModel.from_pretrained(\"bert-base-uncased\")"
   ]
  },
  {
   "cell_type": "code",
   "execution_count": 39,
   "metadata": {},
   "outputs": [
    {
     "name": "stdout",
     "output_type": "stream",
     "text": [
      "Maybe the UN could talk to those asian and african nations responsible for 90%+ of the pollution in the oceans' instead of insisting on this bullshit about climate change.\n",
      "maybe un could talk asian african nations responsible 90 pollution oceans instead insisting bullshit climate change\n"
     ]
    }
   ],
   "source": [
    "sent = multi_target['0']['HATE_SPEECH']\n",
    "print(sent)\n",
    "#sent = ' '.join([word for word in sent.split(' ') if word.isalnum() and not word in stop_words])\n",
    "sent = word_tokenize(sent)\n",
    "sent = ' '.join([word.lower() for word in sent if word.isalnum() and not word in stop_words])\n",
    "print(sent)"
   ]
  },
  {
   "cell_type": "code",
   "execution_count": 40,
   "metadata": {},
   "outputs": [],
   "source": [
    "def get_sent_embedding(sent: str):\n",
    "    sent = word_tokenize(sent)\n",
    "    sent = ' '.join([word for word in sent if word.isalnum() and not word in stop_words])\n",
    "    \n",
    "    tokenized = bert_tokenizer.encode_plus(sent, add_special_tokens=True)['input_ids']\n",
    "    attention = [1] * len(tokenized)\n",
    "\n",
    "    tokenized = torch.tensor(tokenized).unsqueeze(0)\n",
    "    attention = torch.tensor(attention).unsqueeze(0)\n",
    "\n",
    "    embedding = bert_model(tokenized, attention)\n",
    "    return embedding[0][:, 0, :].squeeze()\n",
    "\n",
    "all_hs = hs_orig.tolist()\n",
    "with torch.no_grad():\n",
    "    embeddings = torch.stack([get_sent_embedding(text) for text in all_hs])"
   ]
  },
  {
   "cell_type": "code",
   "execution_count": 12,
   "metadata": {},
   "outputs": [
    {
     "name": "stdout",
     "output_type": "stream",
     "text": [
      "tensor([[ 0.1387, -0.0909, -0.1531,  ..., -0.5020,  0.5102,  0.2457],\n",
      "        [ 0.3656,  0.0950, -0.4664,  ...,  0.0372,  0.5690,  0.1505],\n",
      "        [ 0.1575,  0.5153,  0.2592,  ..., -0.2447,  0.3991,  0.7154],\n",
      "        ...,\n",
      "        [-0.1018,  0.0707, -0.5600,  ..., -0.5067,  0.3362,  0.4514],\n",
      "        [-0.6033,  0.1537, -0.6378,  ..., -0.2377,  0.1157,  0.5758],\n",
      "        [-0.1211,  0.1082, -0.4317,  ..., -0.4743,  0.3108,  0.3358]])\n"
     ]
    }
   ],
   "source": [
    "print(embeddings)"
   ]
  },
  {
   "cell_type": "code",
   "execution_count": 41,
   "metadata": {},
   "outputs": [],
   "source": [
    "with open('Models/Embeddings/bert', 'wb+') as f:\n",
    "    pickle.dump(embeddings, f)"
   ]
  },
  {
   "cell_type": "code",
   "execution_count": 42,
   "metadata": {},
   "outputs": [],
   "source": [
    "docs = embeddings"
   ]
  },
  {
   "cell_type": "markdown",
   "metadata": {},
   "source": [
    "### Training"
   ]
  },
  {
   "cell_type": "code",
   "execution_count": 43,
   "metadata": {},
   "outputs": [],
   "source": [
    "X = docs\n",
    "y = min_tar\n",
    "X_train, X_test, y_train, y_test = train_test_split(X, y, random_state=42, test_size=0.2)"
   ]
  },
  {
   "cell_type": "markdown",
   "metadata": {},
   "source": [
    "#### Logistic Regression"
   ]
  },
  {
   "cell_type": "code",
   "execution_count": 44,
   "metadata": {},
   "outputs": [
    {
     "name": "stdout",
     "output_type": "stream",
     "text": [
      "              precision    recall  f1-score   support\n",
      "\n",
      "           0       0.96      0.96      0.96        46\n",
      "           1       0.99      0.94      0.96       129\n",
      "           2       0.93      0.95      0.94       120\n",
      "           3       0.93      0.96      0.95       192\n",
      "           4       0.96      0.98      0.97       265\n",
      "           5       0.84      0.88      0.85        64\n",
      "           6       0.96      0.95      0.96       126\n",
      "           7       0.78      0.66      0.72        59\n",
      "\n",
      "    accuracy                           0.94      1001\n",
      "   macro avg       0.92      0.91      0.91      1001\n",
      "weighted avg       0.94      0.94      0.94      1001\n",
      "\n",
      "Logistic Regression Train accuracy 99.075%\n",
      "Logistic Regression Test accuracy 93.706%\n",
      "Confusion matrix: \n",
      "[[ 44   0   0   0   1   0   0   1]\n",
      " [  0 121   0   2   1   1   0   4]\n",
      " [  1   0 114   0   0   1   3   1]\n",
      " [  0   0   1 184   2   2   0   3]\n",
      " [  0   1   0   3 260   0   0   1]\n",
      " [  0   0   0   6   1  56   0   1]\n",
      " [  0   0   6   0   0   0 120   0]\n",
      " [  1   0   1   2   7   7   2  39]]\n"
     ]
    },
    {
     "name": "stderr",
     "output_type": "stream",
     "text": [
      "/home/marisa/.local/lib/python3.6/site-packages/sklearn/linear_model/_logistic.py:765: ConvergenceWarning: lbfgs failed to converge (status=1):\n",
      "STOP: TOTAL NO. of ITERATIONS REACHED LIMIT.\n",
      "\n",
      "Increase the number of iterations (max_iter) or scale the data as shown in:\n",
      "    https://scikit-learn.org/stable/modules/preprocessing.html\n",
      "Please also refer to the documentation for alternative solver options:\n",
      "    https://scikit-learn.org/stable/modules/linear_model.html#logistic-regression\n",
      "  extra_warning_msg=_LOGISTIC_SOLVER_CONVERGENCE_MSG)\n"
     ]
    }
   ],
   "source": [
    "model = LogisticRegression(max_iter=500).fit(X_train, y_train)\n",
    "y_preds = model.predict(X_test)\n",
    "report = classification_report(y_test, y_preds)\n",
    "print(report)\n",
    "acc = accuracy_score(y_test, y_preds)\n",
    "mod_train = model.score(X_train, y_train) \n",
    "\n",
    "print('Logistic Regression Train accuracy {:.3f}%'.format(mod_train * 100)) \n",
    "print('Logistic Regression Test accuracy {:.3f}%'.format(acc * 100)) \n",
    "\n",
    "confusion = confusion_matrix(y_test, y_preds)\n",
    "print('Confusion matrix: ')\n",
    "print(confusion) "
   ]
  },
  {
   "cell_type": "code",
   "execution_count": 127,
   "metadata": {},
   "outputs": [
    {
     "name": "stdout",
     "output_type": "stream",
     "text": [
      "0: DISABLED 1: JEWS 2: LGBT+ 3: MIGRANTS 4: MUSLIMS 5: POC 6: WOMEN 7: other "
     ]
    }
   ],
   "source": [
    "for i, label in enumerate(labels):\n",
    "    print(f'{i}: {label}', end=' ')"
   ]
  },
  {
   "cell_type": "code",
   "execution_count": 45,
   "metadata": {},
   "outputs": [
    {
     "data": {
      "text/plain": [
       "<AxesSubplot:>"
      ]
     },
     "execution_count": 45,
     "metadata": {},
     "output_type": "execute_result"
    },
    {
     "data": {
      "image/png": "[encoded data removed]",
      "text/plain": [
       "<Figure size 432x288 with 2 Axes>"
      ]
     },
     "metadata": {
      "needs_background": "light"
     },
     "output_type": "display_data"
    }
   ],
   "source": [
    "sns.heatmap(confusion, annot=True, xticklabels=labels, yticklabels=labels)"
   ]
  },
  {
   "cell_type": "code",
   "execution_count": 46,
   "metadata": {},
   "outputs": [],
   "source": [
    "with open(f'Models/MultiClassifier/LR_model_{embedding}_report.txt', 'a') as f:\n",
    "    f.write(report)\n",
    "    f.write('Logistic Regression Train accuracy {:.3f}%\\n'.format(mod_train * 100)) \n",
    "    f.write('Logistic Regression Test accuracy {:.3f}%\\n'.format(acc * 100)) \n",
    "\n",
    "    if embedding == 'd2v':\n",
    "        f.write('\\n')\n",
    "        f.write('d2v info:\\n')\n",
    "        f.write('  Epochs: {}\\n'.format(d2v_model.epochs))\n",
    "        f.write('  Dimensions: {}\\n'.format(d2v_model.vector_size))\n",
    "    f.write('\\n')\n"
   ]
  },
  {
   "cell_type": "code",
   "execution_count": 90,
   "metadata": {},
   "outputs": [
    {
     "name": "stdout",
     "output_type": "stream",
     "text": [
      "414     3\n",
      "1815    0\n",
      "642     7\n",
      "1056    2\n",
      "4507    0\n",
      "       ..\n",
      "1623    3\n",
      "2005    1\n",
      "4174    3\n",
      "3467    7\n",
      "3475    6\n",
      "Name: TARGET, Length: 1001, dtype: int64\n",
      "0       3\n",
      "1       0\n",
      "2       6\n",
      "3       2\n",
      "4       0\n",
      "       ..\n",
      "996     3\n",
      "997     1\n",
      "998     3\n",
      "999     7\n",
      "1000    6\n",
      "Length: 1001, dtype: int64\n"
     ]
    }
   ],
   "source": [
    "print(pd.Series(y_test))\n",
    "print(pd.Series(y_preds))"
   ]
  },
  {
   "cell_type": "markdown",
   "metadata": {},
   "source": [
    "#### Random Forest"
   ]
  },
  {
   "cell_type": "code",
   "execution_count": 47,
   "metadata": {},
   "outputs": [
    {
     "name": "stdout",
     "output_type": "stream",
     "text": [
      "              precision    recall  f1-score   support\n",
      "\n",
      "           0       1.00      0.67      0.81        46\n",
      "           1       0.93      0.83      0.88       129\n",
      "           2       0.82      0.82      0.82       120\n",
      "           3       0.80      0.94      0.86       192\n",
      "           4       0.85      0.98      0.91       265\n",
      "           5       0.93      0.59      0.72        64\n",
      "           6       0.84      0.87      0.86       126\n",
      "           7       1.00      0.54      0.70        59\n",
      "\n",
      "    accuracy                           0.86      1001\n",
      "   macro avg       0.90      0.78      0.82      1001\n",
      "weighted avg       0.87      0.86      0.85      1001\n",
      "\n",
      "Random Forest Train accuracy 99.850%\n",
      "Random Forest Test accuracy 85.514%\n",
      "Confusion matrix: \n",
      "[[ 31   0   3   5   3   0   4   0]\n",
      " [  0 107   2   6   9   0   5   0]\n",
      " [  0   3  99   7   7   0   4   0]\n",
      " [  0   1   3 180   5   1   2   0]\n",
      " [  0   0   0   6 259   0   0   0]\n",
      " [  0   3   6  10   5  38   2   0]\n",
      " [  0   1   6   4   5   0 110   0]\n",
      " [  0   0   2   8  11   2   4  32]]\n"
     ]
    }
   ],
   "source": [
    "RF = RandomForestClassifier()\n",
    "RF.fit(X_train,y_train)\n",
    "y_preds = RF.predict(X_test)\n",
    "report = classification_report(y_test, y_preds)\n",
    "acc = accuracy_score(y_test, y_preds)\n",
    "RF_train = RF.score(X_train, y_train) \n",
    "\n",
    "print(report)\n",
    "\n",
    "print('Random Forest Train accuracy {:.3f}%'.format(RF_train * 100)) \n",
    "print('Random Forest Test accuracy {:.3f}%'.format(acc * 100)) \n",
    "\n",
    "confusion = confusion_matrix(y_test, y_preds)\n",
    "print('Confusion matrix: ')\n",
    "print(confusion) "
   ]
  },
  {
   "cell_type": "code",
   "execution_count": 48,
   "metadata": {},
   "outputs": [
    {
     "data": {
      "text/plain": [
       "<AxesSubplot:>"
      ]
     },
     "execution_count": 48,
     "metadata": {},
     "output_type": "execute_result"
    },
    {
     "data": {
      "image/png": "[encoded data removed]",
      "text/plain": [
       "<Figure size 432x288 with 2 Axes>"
      ]
     },
     "metadata": {
      "needs_background": "light"
     },
     "output_type": "display_data"
    }
   ],
   "source": [
    "sns.heatmap(confusion, annot=True, xticklabels=labels, yticklabels=labels)"
   ]
  },
  {
   "cell_type": "code",
   "execution_count": 49,
   "metadata": {},
   "outputs": [],
   "source": [
    "with open(f'Models/MultiClassifier/RF_model_{embedding}_report.txt', 'a') as f:\n",
    "    f.write(report)\n",
    "    f.write('Random Forest Train accuracy {:.3f}%\\n'.format(RF_train * 100)) \n",
    "    f.write('Random Forest Test accuracy {:.3f}%\\n'.format(acc * 100)) \n",
    "\n",
    "    if embedding == 'd2v':\n",
    "        f.write('\\n')\n",
    "        f.write('d2v info:\\n')\n",
    "        f.write('  Epochs: {}\\n'.format(d2v_model.epochs))\n",
    "        f.write('  Dimensions: {}\\n'.format(d2v_model.vector_size))\n",
    "    f.write('\\n')"
   ]
  },
  {
   "cell_type": "markdown",
   "metadata": {},
   "source": [
    "#### Naive Bayes"
   ]
  },
  {
   "cell_type": "code",
   "execution_count": 24,
   "metadata": {},
   "outputs": [
    {
     "name": "stdout",
     "output_type": "stream",
     "text": [
      "              precision    recall  f1-score   support\n",
      "\n",
      "           0       0.80      0.85      0.82        46\n",
      "           1       0.94      0.83      0.88       129\n",
      "           2       0.93      0.78      0.85       120\n",
      "           3       0.82      0.88      0.85       192\n",
      "           4       0.94      0.83      0.88       265\n",
      "           5       0.88      0.78      0.83        64\n",
      "           6       0.90      0.85      0.87       126\n",
      "           7       0.27      0.56      0.36        59\n",
      "\n",
      "    accuracy                           0.82      1001\n",
      "   macro avg       0.81      0.79      0.79      1001\n",
      "weighted avg       0.86      0.82      0.83      1001\n",
      "\n",
      "Naive Bayes Train accuracy 99.375%\n",
      "Naive Bayes Test accuracy 81.718%\n",
      "Confusion matrix: \n",
      "[[ 39   0   0   3   0   0   2   2]\n",
      " [  0 107   0   3   5   0   0  14]\n",
      " [  0   1  94   7   1   1   4  12]\n",
      " [  3   1   1 169   0   2   0  16]\n",
      " [  0   3   0   6 219   0   3  34]\n",
      " [  0   1   1   5   0  50   1   6]\n",
      " [  3   1   3   6   1   0 107   5]\n",
      " [  4   0   2   8   6   4   2  33]]\n"
     ]
    }
   ],
   "source": [
    "nb = GaussianNB()\n",
    "nb.fit(X_train, y_train)\n",
    "y_preds = nb.predict(X_test)\n",
    "report = classification_report(y_test, y_preds)\n",
    "acc2 = accuracy_score(y_test, y_preds)\n",
    "mod_train2 = model.score(X_train, y_train) \n",
    "\n",
    "print(report)\n",
    "\n",
    "print('Naive Bayes Train accuracy {:.3f}%'.format(mod_train2 * 100)) \n",
    "print('Naive Bayes Test accuracy {:.3f}%'.format(acc2 * 100)) \n",
    "\n",
    "print('Confusion matrix: ')\n",
    "print(confusion_matrix(y_test, y_preds)) "
   ]
  },
  {
   "cell_type": "code",
   "execution_count": 85,
   "metadata": {},
   "outputs": [],
   "source": [
    "# display(y)\n",
    "# display(pd.Series(y_preds))"
   ]
  },
  {
   "cell_type": "code",
   "execution_count": 69,
   "metadata": {},
   "outputs": [
    {
     "data": {
      "application/vnd.jupyter.widget-view+json": {
       "model_id": "923a23a746ac4e58845617e683a6fa01",
       "version_major": 2,
       "version_minor": 0
      },
      "text/plain": [
       "Downloading:   0%|          | 0.00/208k [00:00<?, ?B/s]"
      ]
     },
     "metadata": {},
     "output_type": "display_data"
    },
    {
     "data": {
      "application/vnd.jupyter.widget-view+json": {
       "model_id": "389495c540e145198bb72d7e9d42e5d9",
       "version_major": 2,
       "version_minor": 0
      },
      "text/plain": [
       "Downloading:   0%|          | 0.00/29.0 [00:00<?, ?B/s]"
      ]
     },
     "metadata": {},
     "output_type": "display_data"
    },
    {
     "data": {
      "application/vnd.jupyter.widget-view+json": {
       "model_id": "9811d8cca6354d7998306bd3f2bc15e6",
       "version_major": 2,
       "version_minor": 0
      },
      "text/plain": [
       "Downloading:   0%|          | 0.00/426k [00:00<?, ?B/s]"
      ]
     },
     "metadata": {},
     "output_type": "display_data"
    },
    {
     "data": {
      "application/vnd.jupyter.widget-view+json": {
       "model_id": "7bb0f39b0cda4d0380569544551fa653",
       "version_major": 2,
       "version_minor": 0
      },
      "text/plain": [
       "Downloading:   0%|          | 0.00/570 [00:00<?, ?B/s]"
      ]
     },
     "metadata": {},
     "output_type": "display_data"
    },
    {
     "data": {
      "application/vnd.jupyter.widget-view+json": {
       "model_id": "6671c2b2901440c4ac1286b17539a731",
       "version_major": 2,
       "version_minor": 0
      },
      "text/plain": [
       "Downloading:   0%|          | 0.00/416M [00:00<?, ?B/s]"
      ]
     },
     "metadata": {},
     "output_type": "display_data"
    },
    {
     "name": "stderr",
     "output_type": "stream",
     "text": [
      "Some weights of the model checkpoint at bert-base-cased were not used when initializing BertModel: ['cls.predictions.transform.dense.bias', 'cls.predictions.decoder.weight', 'cls.predictions.transform.dense.weight', 'cls.predictions.transform.LayerNorm.weight', 'cls.predictions.transform.LayerNorm.bias', 'cls.seq_relationship.weight', 'cls.seq_relationship.bias', 'cls.predictions.bias']\n",
      "- This IS expected if you are initializing BertModel from the checkpoint of a model trained on another task or with another architecture (e.g. initializing a BertForSequenceClassification model from a BertForPreTraining model).\n",
      "- This IS NOT expected if you are initializing BertModel from the checkpoint of a model that you expect to be exactly identical (initializing a BertForSequenceClassification model from a BertForSequenceClassification model).\n"
     ]
    }
   ],
   "source": [
    "#t = BertTokenizer.from_pretrained(\"bert-base-cased\")\n",
    "#\n",
    "#model = BertModel.from_pretrained(\"bert-base-cased\", \n",
    "#                                  output_hidden_states = True,) "
   ]
  },
  {
   "cell_type": "code",
   "execution_count": 70,
   "metadata": {},
   "outputs": [],
   "source": [
    "hs_tok = [] # pd.DataFrame(dtype = 'object') \n",
    "hs_feat = [] # pd.DataFrame(dtype = 'object') \n",
    "target_word_embeddings = []\n",
    "# Tweet 1 \n",
    "embed1 = \"Maybe the UN could talk to those asian and african nations responsible for 90%+ of the pollution in the oceans' instead of insisting on this bullshit about climate change.\"\n",
    "\n",
    "ind = 0 \n",
    "for doc in hs_orig: \n",
    "    # doc = \"[CLS] \" + doc + \" [SEP]\"\n",
    "    t1 = t.tokenize(doc)\n",
    "    ind_t1 = t.convert_tokens_to_ids(t1)\n",
    "    seg_ids = [1]*len(ind_t1)\n",
    "#     print(t1)\n",
    "    hs_tok.append(t1) \n",
    "    \n",
    "    # encode document text as quantitative features for training \n",
    "    t2 = t.encode(t1)\n",
    "    #     print(t2)\n",
    "    hs_feat.append(t2)\n",
    "    \n",
    "    # Convert inputs to PyTorch tensors\n",
    "    tokens_tensor = torch.tensor([ind_t1])\n",
    "    segments_tensors = torch.tensor([seg_ids])\n",
    "    # Model is in inference mode\n",
    "    with torch.no_grad():\n",
    "        outputs = model(tokens_tensor, segments_tensors)\n",
    "        # Removing the first hidden state\n",
    "        # The first state is the input state\n",
    "        hidden_states = outputs[2][1:]\n",
    "\n",
    "    # Getting embeddings from the final BERT layer\n",
    "    token_embeddings = hidden_states[-1]\n",
    "    # Collapsing the tensor into 1-dimension\n",
    "    token_embeddings = torch.squeeze(token_embeddings, dim=0)\n",
    "    # Converting torchtensors to lists\n",
    "    list_token_embeddings = [token_embed.tolist() for token_embed in token_embeddings]\n",
    "\n",
    "# print(list_token_embeddings)\n",
    "    # Find the position 'hate' in list of tokens\n",
    "    # Get the embedding for hate\n",
    "    if embed1 in hs_tok[ind]: \n",
    "        # print(\"len hs_tok[ind]:\", len(hs_tok[ind]))\n",
    "        word_index = (hs_tok[ind]).index(embed1)\n",
    "        print(\"word_index:\", word_index)\n",
    "        # print(\"hs_tok[ind]:\", hs_tok[ind]) \n",
    "        # print(\"list_token_embeddings:\", list_token_embeddings)\n",
    "        # print(\"len list_token_embeddings:\", len(list_token_embeddings))\n",
    "        # print(\"list_token_embeddings[word_index]:\", list_token_embeddings[word_index])\n",
    "        word_embedding = list_token_embeddings[word_index]\n",
    "        target_word_embeddings.append(word_embedding)\n",
    "    else:\n",
    "        ind = ind \n",
    "        # target_word_embeddings.append(0.0)\n",
    "        # target_word_embeddings.append(\"\")\n",
    "\n",
    "    ind += 1 \n",
    "\n",
    "# print(hs_tok)\n",
    "# print(hs_feat)\n",
    "# print(pd.DataFrame(hs_feat))"
   ]
  },
  {
   "cell_type": "code",
   "execution_count": 43,
   "metadata": {},
   "outputs": [
    {
     "name": "stderr",
     "output_type": "stream",
     "text": [
      "C:\\Python37\\lib\\site-packages\\scipy\\spatial\\distance.py:699: RuntimeWarning: invalid value encountered in double_scalars\n",
      "  dist = 1.0 - uv / np.sqrt(uu * vv)\n"
     ]
    },
    {
     "data": {
      "text/html": [
       "<div>\n",
       "<style scoped>\n",
       "    .dataframe tbody tr th:only-of-type {\n",
       "        vertical-align: middle;\n",
       "    }\n",
       "\n",
       "    .dataframe tbody tr th {\n",
       "        vertical-align: top;\n",
       "    }\n",
       "\n",
       "    .dataframe thead th {\n",
       "        text-align: right;\n",
       "    }\n",
       "</style>\n",
       "<table border=\"1\" class=\"dataframe\">\n",
       "  <thead>\n",
       "    <tr style=\"text-align: right;\">\n",
       "      <th></th>\n",
       "      <th>text1</th>\n",
       "      <th>text2</th>\n",
       "      <th>distance</th>\n",
       "    </tr>\n",
       "  </thead>\n",
       "  <tbody>\n",
       "    <tr>\n",
       "      <th>0</th>\n",
       "      <td>Maybe the UN could talk to those asian and afr...</td>\n",
       "      <td>Maybe the UN could talk to those asian and afr...</td>\n",
       "      <td>1</td>\n",
       "    </tr>\n",
       "    <tr>\n",
       "      <th>1</th>\n",
       "      <td>Maybe the UN could talk to those asian and afr...</td>\n",
       "      <td>‘Juice (Jews) are worse that nukes.’ Caption t...</td>\n",
       "      <td>1</td>\n",
       "    </tr>\n",
       "    <tr>\n",
       "      <th>2</th>\n",
       "      <td>Maybe the UN could talk to those asian and afr...</td>\n",
       "      <td>Foreigners on UK benefits leaps 41% in 5 years...</td>\n",
       "      <td>1</td>\n",
       "    </tr>\n",
       "    <tr>\n",
       "      <th>3</th>\n",
       "      <td>Maybe the UN could talk to those asian and afr...</td>\n",
       "      <td>Jews cannot be patriots, since their allegianc...</td>\n",
       "      <td>1</td>\n",
       "    </tr>\n",
       "    <tr>\n",
       "      <th>4</th>\n",
       "      <td>Maybe the UN could talk to those asian and afr...</td>\n",
       "      <td>Israel, Zionism and Jewish Supremacist control...</td>\n",
       "      <td>1</td>\n",
       "    </tr>\n",
       "    <tr>\n",
       "      <th>...</th>\n",
       "      <td>...</td>\n",
       "      <td>...</td>\n",
       "      <td>...</td>\n",
       "    </tr>\n",
       "    <tr>\n",
       "      <th>25030004</th>\n",
       "      <td>Women should not be allowed to vote, this is a...</td>\n",
       "      <td>Woman are basically childlike.</td>\n",
       "      <td>1</td>\n",
       "    </tr>\n",
       "    <tr>\n",
       "      <th>25030005</th>\n",
       "      <td>Women should not be allowed to vote, this is a...</td>\n",
       "      <td>women should be submissive to men.</td>\n",
       "      <td>1</td>\n",
       "    </tr>\n",
       "    <tr>\n",
       "      <th>25030006</th>\n",
       "      <td>Women should not be allowed to vote, this is a...</td>\n",
       "      <td>Women are essentially childlike, unable to und...</td>\n",
       "      <td>1</td>\n",
       "    </tr>\n",
       "    <tr>\n",
       "      <th>25030007</th>\n",
       "      <td>Women should not be allowed to vote, this is a...</td>\n",
       "      <td>Women should be submissive to men.</td>\n",
       "      <td>1</td>\n",
       "    </tr>\n",
       "    <tr>\n",
       "      <th>25030008</th>\n",
       "      <td>Women should not be allowed to vote, this is a...</td>\n",
       "      <td>Women should not be allowed to vote, this is a...</td>\n",
       "      <td>1</td>\n",
       "    </tr>\n",
       "  </tbody>\n",
       "</table>\n",
       "<p>25030009 rows × 3 columns</p>\n",
       "</div>"
      ],
      "text/plain": [
       "                                                      text1  \\\n",
       "0         Maybe the UN could talk to those asian and afr...   \n",
       "1         Maybe the UN could talk to those asian and afr...   \n",
       "2         Maybe the UN could talk to those asian and afr...   \n",
       "3         Maybe the UN could talk to those asian and afr...   \n",
       "4         Maybe the UN could talk to those asian and afr...   \n",
       "...                                                     ...   \n",
       "25030004  Women should not be allowed to vote, this is a...   \n",
       "25030005  Women should not be allowed to vote, this is a...   \n",
       "25030006  Women should not be allowed to vote, this is a...   \n",
       "25030007  Women should not be allowed to vote, this is a...   \n",
       "25030008  Women should not be allowed to vote, this is a...   \n",
       "\n",
       "                                                      text2  distance  \n",
       "0         Maybe the UN could talk to those asian and afr...         1  \n",
       "1         ‘Juice (Jews) are worse that nukes.’ Caption t...         1  \n",
       "2         Foreigners on UK benefits leaps 41% in 5 years...         1  \n",
       "3         Jews cannot be patriots, since their allegianc...         1  \n",
       "4         Israel, Zionism and Jewish Supremacist control...         1  \n",
       "...                                                     ...       ...  \n",
       "25030004                     Woman are basically childlike.         1  \n",
       "25030005                 women should be submissive to men.         1  \n",
       "25030006  Women are essentially childlike, unable to und...         1  \n",
       "25030007                 Women should be submissive to men.         1  \n",
       "25030008  Women should not be allowed to vote, this is a...         1  \n",
       "\n",
       "[25030009 rows x 3 columns]"
      ]
     },
     "metadata": {},
     "output_type": "display_data"
    }
   ],
   "source": [
    "from scipy.spatial.distance import cosine\n",
    "\n",
    "# Calculating the distance between the\n",
    "# embeddings of '' in all the\n",
    "# given contexts of the word\n",
    "\n",
    "list_of_distances = []\n",
    "for text1, embed1 in zip(hs_orig, target_word_embeddings):\n",
    "    for text2, embed2 in zip(hs_orig, target_word_embeddings):\n",
    "        cos_dist = 1 - cosine(embed1, embed2)\n",
    "        list_of_distances.append([text1, text2, cos_dist])\n",
    "\n",
    "distances_df = pd.DataFrame(list_of_distances, columns=['text1', 'text2', 'distance'])\n",
    "display(distances_df)"
   ]
  },
  {
   "cell_type": "code",
   "execution_count": 69,
   "metadata": {},
   "outputs": [
    {
     "name": "stdout",
     "output_type": "stream",
     "text": [
      "      target_DISABLED  target_JEWS  target_LGBT+  target_MIGRANTS  \\\n",
      "0                   0            0             0                0   \n",
      "1                   0            1             0                0   \n",
      "2                   0            0             0                1   \n",
      "3                   0            1             0                0   \n",
      "4                   0            1             0                0   \n",
      "...               ...          ...           ...              ...   \n",
      "4998                0            0             0                0   \n",
      "4999                0            0             0                0   \n",
      "5000                0            0             0                0   \n",
      "5001                0            0             0                0   \n",
      "5002                0            0             0                0   \n",
      "\n",
      "      target_MUSLIMS  target_POC  target_WOMEN  target_other  \n",
      "0                  0           0             0             1  \n",
      "1                  0           0             0             0  \n",
      "2                  0           0             0             0  \n",
      "3                  0           0             0             0  \n",
      "4                  0           0             0             0  \n",
      "...              ...         ...           ...           ...  \n",
      "4998               0           0             1             0  \n",
      "4999               0           0             1             0  \n",
      "5000               0           0             1             0  \n",
      "5001               0           0             1             0  \n",
      "5002               0           0             1             0  \n",
      "\n",
      "[5003 rows x 8 columns]\n"
     ]
    }
   ],
   "source": [
    "# test_df = mt_df_T\n",
    "# test_df[\"TARGET\"] = min_tar\n",
    "# print(test_df)\n",
    "\n",
    "# select K best of top 8 features probably \n",
    "\n",
    "# Likely candidates for feature reduction \n",
    "# mt_df['TARGET']=np.where(mt_df['TARGET'] =='POC', 'FOREIGNER', mt_df['TARGET'])\n",
    "# mt_df['TARGET']=np.where(mt_df['TARGET'] =='MUSLIM', 'FOREIGNER', mt_df['TARGET'])\n",
    "# mt_df['TARGET']=np.where(mt_df['TARGET'] =='MIGRANTS', 'FOREIGNER', mt_df['TARGET'])"
   ]
  },
  {
   "cell_type": "code",
   "execution_count": null,
   "metadata": {},
   "outputs": [],
   "source": [
    "from sklearn.tree import DecisionTreeClassifier\n",
    "from sklearn.ensemble import RandomForestClassifier\n",
    "\n",
    "# test new Decision and RandomForest \n",
    "trees = DecisionTreeClassifier(random_state=0)\n",
    "forest = RandomForestClassifier(n_estimators=15, random_state=2)\n",
    "preds_trees = trees.fit(X_train,y_train).predict(X_test)\n",
    "preds_forest = forest.fit(X_train,y_train).predict(X_test)\n",
    "print('Trees Train accuracy %s' % model.score(X_train, y_train)) \n",
    "print('Forest Train accuracy %s' % model.score(X_train, y_train)) \n",
    "\n",
    "print('Trees Test accuracy %s' % accuracy_score(preds_trees, y_test)) \n",
    "print('Forest Test accuracy %s' % accuracy_score(preds_forest, y_test)) "
   ]
  }
 ],
 "metadata": {
  "kernelspec": {
   "display_name": "Python 3 (ipykernel)",
   "language": "python",
   "name": "python3"
  },
  "language_info": {
   "codemirror_mode": {
    "name": "ipython",
    "version": 3
   },
   "file_extension": ".py",
   "mimetype": "text/x-python",
   "name": "python",
   "nbconvert_exporter": "python",
   "pygments_lexer": "ipython3",
   "version": "3.6.8"
  }
 },
 "nbformat": 4,
 "nbformat_minor": 4
}
