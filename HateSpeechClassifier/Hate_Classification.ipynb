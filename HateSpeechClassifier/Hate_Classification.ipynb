{
 "cells": [
  {
   "cell_type": "code",
   "execution_count": 9,
   "metadata": {},
   "outputs": [],
   "source": [
    "import pandas as pd\n",
    "import matplotlib.pyplot as plt\n",
    "import seaborn as sns\n",
    "#from sklearn.preprocessing import StandardScaler \n",
    "#from sklearn.svm import LinearSVC\n",
    "\n",
    "#from sklearn.feature_extraction.text import CountVectorizer\n",
    "from sklearn.feature_extraction.text import TfidfVectorizer\n",
    "from sklearn.linear_model import LogisticRegression\n",
    "#from sklearn import mixture, metrics\n",
    "from sklearn.ensemble import RandomForestClassifier\n",
    "from sklearn.datasets import make_classification\n",
    "from sklearn.naive_bayes import GaussianNB\n",
    "\n",
    "from sklearn.model_selection import train_test_split\n",
    "#from sklearn.feature_selection import SelectFromModel\n",
    "#from sklearn.metrics import f1_score\n",
    "from sklearn.metrics import confusion_matrix\n",
    "from sklearn.metrics import classification_report\n",
    "from sklearn.metrics import accuracy_score\n",
    "from sklearn.metrics import plot_roc_curve\n",
    "#from sklearn.feature_selection import SelectKBest, f_classif\n",
    "#from sklearn.covariance import empirical_covariance\n",
    "\n",
    "# import scipy\n",
    "import json \n",
    "import random\n",
    "import numpy as np\n",
    "#import itertools \n",
    "#import sys\n",
    "#import os\n",
    "#import matplotlib as mpl\n",
    "# from scipy import linalg\n",
    "import pickle\n",
    "from collections import defaultdict\n",
    "\n",
    "\n",
    "# Remove all the un-necessary warnings\n",
    "# import warnings\n",
    "# warnings.filterwarnings('ignore')\n",
    "multitarget_data_path = 'Data/CONAN-master/Multitarget-CONAN/Multitarget-CONAN.json'\n",
    "combined_data_path = 'Data/combined_data.csv'"
   ]
  },
  {
   "cell_type": "code",
   "execution_count": 2,
   "metadata": {},
   "outputs": [],
   "source": [
    "from nltk.tokenize import word_tokenize\n",
    "from nltk.stem.porter import PorterStemmer\n",
    "from nltk.stem.wordnet import WordNetLemmatizer\n",
    "from nltk.corpus import stopwords\n",
    "stop_words = stopwords.words('english')"
   ]
  },
  {
   "cell_type": "code",
   "execution_count": 3,
   "metadata": {},
   "outputs": [],
   "source": [
    "with open(combined_data_path, 'r', encoding='utf8') as f:\n",
    "    combined = pd.read_csv(f).to_dict()"
   ]
  },
  {
   "cell_type": "code",
   "execution_count": 4,
   "metadata": {},
   "outputs": [],
   "source": [
    "import re\n",
    "def utils_preprocess_text(text: str, flg_stemm=False, flg_lemm=False, lst_stopwords=None):\n",
    "    '''\n",
    "    Code from https://towardsdatascience.com/text-classification-with-nlp-tf-idf-vs-word2vec-vs-bert-41ff868d1794\n",
    "    Preprocess a string.\n",
    "    :parameter\n",
    "        :param text: string - text to process\n",
    "        :param lst_stopwords: list - list of stopwords to remove\n",
    "        :param flg_stemm: bool - whether stemming is to be applied\n",
    "        :param flg_lemm: bool - whether lemmitization is to be applied\n",
    "    :return\n",
    "        cleaned text\n",
    "    '''\n",
    "    \n",
    "    # clean (convert to lowercase and remove punctuations and   \n",
    "    # characters and then strip)\n",
    "    text = re.sub(r'[^\\w\\s]', '', str(text).lower().strip())\n",
    "            \n",
    "    # Tokenize (convert from string to list)\n",
    "    lst_text = text.split()\n",
    "    \n",
    "    # remove Stopwords\n",
    "    if lst_stopwords is not None:\n",
    "        lst_text = [word for word in lst_text if word not in \n",
    "                    lst_stopwords]\n",
    "                \n",
    "    # Stemming (remove -ing, -ly, ...)\n",
    "    if flg_stemm == True:\n",
    "        ps = PorterStemmer()\n",
    "        lst_text = [ps.stem(word) for word in lst_text]\n",
    "                \n",
    "    # Lemmatization (convert the word into root word)\n",
    "    if flg_lemm == True:\n",
    "        lem = WordNetLemmatizer()\n",
    "        lst_text = [lem.lemmatize(word) for word in lst_text]\n",
    "            \n",
    "    # back to string from list\n",
    "    text = \" \".join(lst_text)\n",
    "    return text"
   ]
  },
  {
   "cell_type": "code",
   "execution_count": 45,
   "metadata": {},
   "outputs": [
    {
     "data": {
      "text/plain": [
       "'im hungry'"
      ]
     },
     "execution_count": 45,
     "metadata": {},
     "output_type": "execute_result"
    }
   ],
   "source": [
    "\n",
    "utils_preprocess_text(combined['HATE_SPEECH'][6909])"
   ]
  },
  {
   "cell_type": "code",
   "execution_count": 26,
   "metadata": {},
   "outputs": [],
   "source": [
    "# preprocessing: remove symbols, divide into tweets and labels\n",
    "tweets = [] # these arrays are aligned by index; tweet[i] has label[i]\n",
    "labels = []\n",
    "for tweet, label in zip(combined['HATE_SPEECH'].values(), combined['CLASS'].values()):\n",
    "\n",
    "    tweet = utils_preprocess_text(tweet) #, lst_stopwords=stop_words)\n",
    "\n",
    "    tweets.append(tweet)\n",
    "    labels.append(label)\n"
   ]
  },
  {
   "cell_type": "code",
   "execution_count": 6,
   "metadata": {},
   "outputs": [],
   "source": [
    "target_types = ['Disabled', 'Jews', 'LGBT+', 'Migrants', 'Muslims', 'POC', 'Women', 'Other/Mixed', 'None']"
   ]
  },
  {
   "cell_type": "code",
   "execution_count": 27,
   "metadata": {},
   "outputs": [],
   "source": [
    "seed = 42\n",
    "X_train, X_test, y_train, y_test = train_test_split(tweets, labels, random_state=seed, test_size=0.2)"
   ]
  },
  {
   "cell_type": "markdown",
   "metadata": {},
   "source": [
    "### Embeddings/Vectors"
   ]
  },
  {
   "cell_type": "markdown",
   "metadata": {},
   "source": [
    "#### Tf-idf"
   ]
  },
  {
   "cell_type": "code",
   "execution_count": 13,
   "metadata": {},
   "outputs": [],
   "source": [
    "embedding = 'tfidf'"
   ]
  },
  {
   "cell_type": "code",
   "execution_count": 14,
   "metadata": {},
   "outputs": [],
   "source": [
    "\n",
    "#TF-IDF Features-F1\n",
    "# https://scikit-learn.org/stable/modules/generated/sklearn.feature_extraction.text.TfidfVectorizer.html\n",
    "# max and min are cutoffs for document frequency \n",
    "tfidf_vectorizer = TfidfVectorizer(ngram_range=(1, 2),\n",
    "                                   max_df = 0.75, min_df=5, \n",
    "                                   max_features=10000)\n",
    "\n",
    "# TF-IDF feature matrix\n",
    "#docs = tfidf_vectorizer.fit_transform(tweets) # if using whole dataset, for deployment\n",
    "\n",
    "X_train = tfidf_vectorizer.fit_transform(X_train)\n",
    "X_test = tfidf_vectorizer.transform(X_test)"
   ]
  },
  {
   "cell_type": "code",
   "execution_count": 15,
   "metadata": {},
   "outputs": [
    {
     "data": {
      "text/plain": [
       "scipy.sparse.csr.csr_matrix"
      ]
     },
     "execution_count": 15,
     "metadata": {},
     "output_type": "execute_result"
    }
   ],
   "source": [
    "type(X_train)"
   ]
  },
  {
   "cell_type": "code",
   "execution_count": 170,
   "metadata": {},
   "outputs": [],
   "source": [
    "with open('Models/Embeddings/tfidf_vectorizer_traintestsplit_withstop', 'wb+') as f:\n",
    "    pickle.dump(tfidf_vectorizer, f)"
   ]
  },
  {
   "cell_type": "code",
   "execution_count": 171,
   "metadata": {},
   "outputs": [],
   "source": [
    "with open('Models/Embeddings/tfidf_train_matrix_withstop', 'wb+') as f:\n",
    "    pickle.dump(X_train, f)\n",
    "with open('Models/Embeddings/tfidf_test_matrix_withstop', 'wb+') as f:\n",
    "    pickle.dump(X_test, f)"
   ]
  },
  {
   "cell_type": "code",
   "execution_count": 131,
   "metadata": {},
   "outputs": [],
   "source": [
    "with open('Models/Embeddings/tfidf_train_matrix_nostop', 'rb') as f:\n",
    "    X_train = pickle.load(f)\n",
    "with open('Models/Embeddings/tfidf_test_matrix_nostop', 'rb') as f:\n",
    "    X_test = pickle.load(f)"
   ]
  },
  {
   "cell_type": "markdown",
   "metadata": {},
   "source": [
    "#### Doc2Vec"
   ]
  },
  {
   "cell_type": "code",
   "execution_count": 24,
   "metadata": {},
   "outputs": [],
   "source": [
    "from gensim.models.doc2vec import TaggedDocument\n",
    "from gensim.models import Doc2Vec"
   ]
  },
  {
   "cell_type": "code",
   "execution_count": 25,
   "metadata": {},
   "outputs": [],
   "source": [
    "embedding = 'd2v'"
   ]
  },
  {
   "cell_type": "code",
   "execution_count": 141,
   "metadata": {},
   "outputs": [],
   "source": [
    "# clean data, format as TaggedDocument to work with Doc2Vec\n",
    "sents = []\n",
    "\n",
    "# train on all data\n",
    "#for id, tweet in enumerate(tweets):\n",
    "#    words = TaggedDocument([w for w in tweet.split(' ') if not w in stop_words], [id])\n",
    "#    sents.append(words)\n",
    "\n",
    "# for proper train/test split\n",
    "for id, tweet in enumerate(X_train):\n",
    "    #words = TaggedDocument([w for w in tweet.split(' ') if not w in stop_words], [id])\n",
    "    words = TaggedDocument([w for w in tweet.split(' ')], [id]) # keep stopwords\n",
    "    sents.append(words)"
   ]
  },
  {
   "cell_type": "code",
   "execution_count": 142,
   "metadata": {},
   "outputs": [],
   "source": [
    "dimensions = 50\n",
    "d2v_model = Doc2Vec(documents=sents, min_count=1, window=10, vector_size=dimensions, sample=1e-4, negative=5, workers=8)"
   ]
  },
  {
   "cell_type": "code",
   "execution_count": 143,
   "metadata": {},
   "outputs": [],
   "source": [
    "num_epochs = 100\n",
    "d2v_model.train(corpus_iterable=sents, total_examples=d2v_model.corpus_count, epochs=num_epochs)\n",
    "\n",
    "save_name = f'd2v_{num_epochs}epochs_{d2v_model.vector_size}dim_traintestsplit_withstop'\n",
    "d2v_model.save('Models/Embeddings/' + save_name)"
   ]
  },
  {
   "cell_type": "code",
   "execution_count": 42,
   "metadata": {},
   "outputs": [
    {
     "name": "stdout",
     "output_type": "stream",
     "text": [
      "foreigners on uk benefits leaps 41 in 5 years with over 400k now handed payouts this nonsense has got to stop\n",
      "69\n",
      "98.28548431396484% similar: foreigners on uk benefits leaps 41 in 5 years with over 400k now handed payouts this nonsense has got to stop\n",
      "104\n",
      "97.06794023513794% similar: foreigners on uk benefits leaps 41 in 5 years with over 400k now handed payouts this nonsense has got to stop\n",
      "84\n",
      "96.85047268867493% similar: foreigners on uk benefits leaps 41 in 5 years with over 400k now handed payouts this nonsense has got to stop\n",
      "6\n",
      "96.15724682807922% similar: foreigners on uk benefits leaps 41 in 5 years with over 400k now handed payouts this nonsense has got to stop\n",
      "118\n",
      "95.89678645133972% similar: foreigners on uk benefits leaps 41 in 5 years with over 400k now handed payouts this nonsense has got to stop\n",
      "74\n",
      "95.590078830719% similar: foreigners on uk benefits leaps 41 in 5 years with over 400k now handed payouts this nonsense has got to stop\n",
      "114\n",
      "93.96886229515076% similar: foreigners on uk benefits leaps 41 in 5 years with over 400k now handed payouts this nonsense has got to stop\n",
      "328\n",
      "90.06692171096802% similar: immigrants are entering the just to obtain welfare and other benefits\n",
      "488\n",
      "89.592045545578% similar: more than half of the prisoners in our jails are foreigners\n",
      "327\n",
      "89.54105377197266% similar: immigrants are entering the just to obtain welfare and other benefits\n"
     ]
    }
   ],
   "source": [
    "# find most similar tweets to given tweet\n",
    "tweet_index = 2\n",
    "most_similar = d2v_model.dv.most_similar(tweet_index)\n",
    "print(tweets[tweet_index])\n",
    "for (id, similarity) in most_similar:\n",
    "    print(id)\n",
    "    print(f'{similarity*100}% similar:', tweets[id])\n"
   ]
  },
  {
   "cell_type": "code",
   "execution_count": 28,
   "metadata": {},
   "outputs": [],
   "source": [
    "d2v_model = Doc2Vec.load('Models/Embeddings/d2v_100epochs_50dim_traintestsplit')"
   ]
  },
  {
   "cell_type": "code",
   "execution_count": 44,
   "metadata": {},
   "outputs": [],
   "source": [
    "docs = [d2v_model.dv[i] for i in range(len(d2v_model.dv))]\n",
    "#print(docs)"
   ]
  },
  {
   "cell_type": "code",
   "execution_count": 153,
   "metadata": {},
   "outputs": [],
   "source": [
    "# transform test set\n",
    "for i, tweet in enumerate(X_test):\n",
    "    words = [w for w in tweet.split(' ') if not w in stop_words]\n",
    "    #words = [w for w in tweet.split(' ')] # keep stopwords\n",
    "    X_test[i] = d2v_model.infer_vector(words)\n",
    "\n",
    "# get vectors for train set\n",
    "X_train = [d2v_model.dv[i] for i in range(len(d2v_model.dv))]\n"
   ]
  },
  {
   "cell_type": "markdown",
   "metadata": {},
   "source": [
    "#### Word2Vec"
   ]
  },
  {
   "cell_type": "code",
   "execution_count": 160,
   "metadata": {},
   "outputs": [],
   "source": [
    "embedding = 'w2v'"
   ]
  },
  {
   "cell_type": "code",
   "execution_count": 51,
   "metadata": {},
   "outputs": [],
   "source": [
    "from gensim.models import Word2Vec, KeyedVectors"
   ]
  },
  {
   "cell_type": "code",
   "execution_count": 161,
   "metadata": {},
   "outputs": [],
   "source": [
    "w2v_model = KeyedVectors.load_word2vec_format('Data/GoogleNews-vectors-negative300.bin.gz',binary=True)"
   ]
  },
  {
   "cell_type": "code",
   "execution_count": 116,
   "metadata": {},
   "outputs": [
    {
     "data": {
      "text/plain": [
       "[('woman', 1.0000001192092896),\n",
       " ('man', 0.7664012908935547),\n",
       " ('girl', 0.7494640946388245),\n",
       " ('teenage_girl', 0.7336829304695129),\n",
       " ('teenager', 0.6317085027694702),\n",
       " ('lady', 0.6288785934448242),\n",
       " ('mother', 0.6076306104660034),\n",
       " ('policewoman', 0.6069462299346924),\n",
       " ('boy', 0.5975907444953918),\n",
       " ('Woman', 0.5770983099937439)]"
      ]
     },
     "execution_count": 116,
     "metadata": {},
     "output_type": "execute_result"
    }
   ],
   "source": [
    "w2v_model.most_similar(w2v_model['woman'])"
   ]
  },
  {
   "cell_type": "code",
   "execution_count": 162,
   "metadata": {},
   "outputs": [],
   "source": [
    "avg_vector = sum(vec for vec in w2v_model.vectors) / len(w2v_model)"
   ]
  },
  {
   "cell_type": "markdown",
   "metadata": {},
   "source": [
    "Tf-idf weighted sentence vectors:"
   ]
  },
  {
   "cell_type": "code",
   "execution_count": 172,
   "metadata": {},
   "outputs": [],
   "source": [
    "with open('Models/Embeddings/tfidf_vectorizer_traintestsplit_withstop', 'rb') as f:\n",
    "    tfidf_vectorizer = pickle.load(f)\n",
    "with open('Models/Embeddings/tfidf_train_matrix_withstop', 'rb') as f:\n",
    "    tfidf_train_matrix = pickle.load(f)\n",
    "with open('Models/Embeddings/tfidf_test_matrix_withstop', 'rb') as f:\n",
    "    tfidf_test_matrix = pickle.load(f)"
   ]
  },
  {
   "cell_type": "code",
   "execution_count": 173,
   "metadata": {},
   "outputs": [],
   "source": [
    "terms = tfidf_vectorizer.get_feature_names()\n",
    "term_w2v_embeddings = np.zeros((len(terms), 300)) # w2v dimensions are 300\n",
    "for i, term in enumerate(terms):\n",
    "    term_w2v_embeddings[i] = w2v_model[term] if term in w2v_model else avg_vector"
   ]
  },
  {
   "cell_type": "code",
   "execution_count": 174,
   "metadata": {},
   "outputs": [],
   "source": [
    "# get document vectors weighted by tfidf matrix\n",
    "X_train = tfidf_train_matrix @ term_w2v_embeddings\n",
    "X_test = tfidf_test_matrix @ term_w2v_embeddings"
   ]
  },
  {
   "cell_type": "code",
   "execution_count": 175,
   "metadata": {},
   "outputs": [],
   "source": [
    "with open('Models/Embeddings/w2v_tfidfweighted_train_withstop', 'wb+') as f:\n",
    "    pickle.dump(X_train, f)\n",
    "with open('Models/Embeddings/w2v_tfidfweighted_test_withstop', 'wb+') as f:\n",
    "    pickle.dump(X_test, f)"
   ]
  },
  {
   "cell_type": "markdown",
   "metadata": {},
   "source": [
    "Simple average for sentence vectors:"
   ]
  },
  {
   "cell_type": "code",
   "execution_count": 63,
   "metadata": {},
   "outputs": [
    {
     "name": "stdout",
     "output_type": "stream",
     "text": [
      "foreigners uk benefits leaps 41 5 years 400k handed payouts nonsense got stop\n"
     ]
    },
    {
     "data": {
      "text/plain": [
       "array([ 0.04949396,  0.06494141, -0.01019842,  0.06617321, -0.00502708,\n",
       "       -0.15469083,  0.03431424, -0.03090044,  0.03632147,  0.10506925,\n",
       "       -0.01337225, -0.07110041, -0.01158836,  0.07100053, -0.09599165,\n",
       "        0.06651965,  0.0967711 ,  0.11170543, -0.00211404, -0.12347412,\n",
       "       -0.00724654, -0.01043701,  0.07491788,  0.06471946,  0.11238792,\n",
       "        0.00963801, -0.05286754,  0.04691037,  0.02895008, -0.01149126,\n",
       "       -0.01772239, -0.0763966 , -0.09011009, -0.03231534,  0.01438765,\n",
       "        0.01324047, -0.00939941,  0.03039412,  0.05974509,  0.06804865,\n",
       "        0.04432262, -0.05731201,  0.09343928,  0.03384677, -0.02680553,\n",
       "       -0.17671342, -0.06461958,  0.0118866 , -0.00049383, -0.01472612,\n",
       "       -0.04496626, -0.0057706 ,  0.03288963, -0.02984064, -0.01338335,\n",
       "       -0.00716886, -0.12071089, -0.07595548,  0.0074879 , -0.10675604,\n",
       "       -0.06230025,  0.07955655, -0.0324929 , -0.05276489, -0.0029935 ,\n",
       "       -0.03661   , -0.02335843,  0.07874645, -0.06545188,  0.01331676,\n",
       "       -0.04569869, -0.06061901,  0.0119407 ,  0.10592929, -0.06871449,\n",
       "       -0.05481928,  0.05004883,  0.13318981, -0.01795959,  0.07910711,\n",
       "       -0.06642012, -0.05113636,  0.02126243,  0.07207697, -0.02643377,\n",
       "       -0.05224609, -0.11606667,  0.06490534,  0.03391335, -0.04706365,\n",
       "        0.04279952,  0.09187456, -0.08441162, -0.04273571, -0.06063565,\n",
       "        0.00077681,  0.00670832,  0.01580811,  0.13385287, -0.04097124,\n",
       "        0.00715776, -0.0038466 , -0.01045921,  0.13483221, -0.02108487,\n",
       "       -0.0427579 ,  0.02426078, -0.05373036,  0.08575162, -0.0818093 ,\n",
       "        0.03520064, -0.01535866,  0.02379261,  0.04683061, -0.01507013,\n",
       "        0.03087269, -0.0205744 , -0.04724468,  0.15906941,  0.07368608,\n",
       "       -0.13229648,  0.11957342, -0.02807062,  0.02972967,  0.10137939,\n",
       "        0.03138039, -0.01373846, -0.00639205,  0.0600142 , -0.03830788,\n",
       "       -0.06690563, -0.03835227, -0.026021  , -0.06072443, -0.1060902 ,\n",
       "       -0.01757812, -0.00148704,  0.01421564,  0.02066872,  0.1501021 ,\n",
       "        0.07952326, -0.10069691,  0.01344993,  0.08487216,  0.03543368,\n",
       "        0.06449751,  0.01514782, -0.04154552, -0.02061046, -0.10177335,\n",
       "        0.09816673, -0.02350408, -0.12700722, -0.02879195, -0.03980602,\n",
       "       -0.00335832, -0.02640048, -0.03623269, -0.06394265, -0.07841353,\n",
       "       -0.01467202,  0.07604426,  0.01117845, -0.04204767, -0.06554135,\n",
       "       -0.13811146, -0.05285645, -0.11423562, -0.03578325, -0.01423784,\n",
       "       -0.15683816, -0.049512  , -0.0637207 , -0.00756281, -0.08777965,\n",
       "        0.00951039,  0.09401634, -0.03896262,  0.07527854,  0.04642556,\n",
       "       -0.04630904, -0.09805575, -0.0058455 , -0.00629772,  0.02826483,\n",
       "        0.00272994,  0.02638938,  0.07628285,  0.02542392, -0.04914995,\n",
       "        0.03231534,  0.00202734,  0.05973885,  0.05666282, -0.04245966,\n",
       "        0.1008821 , -0.0454268 , -0.00395064, -0.05331143, -0.13201488,\n",
       "       -0.09736772,  0.05761719,  0.03891061,  0.06661987,  0.02338201,\n",
       "       -0.0435139 , -0.03397994, -0.09272905, -0.07458496,  0.03605513,\n",
       "        0.03569169,  0.00546681, -0.05816715,  0.0760609 , -0.12318282,\n",
       "        0.04614258,  0.04956055,  0.03842995, -0.06044145,  0.01174094,\n",
       "       -0.00189764, -0.06325184,  0.06212269, -0.05564742,  0.03639915,\n",
       "       -0.02782093,  0.05575353, -0.0200334 ,  0.01905684, -0.13285689,\n",
       "        0.01591006, -0.1050637 ,  0.08920288,  0.13947504, -0.04660866,\n",
       "       -0.01736728,  0.04381769, -0.03769753,  0.11421342, -0.05979503,\n",
       "        0.05610795,  0.02481357, -0.01440291, -0.13103693,  0.01341802,\n",
       "        0.04512718,  0.00418299,  0.04378752,  0.0982666 , -0.02791249,\n",
       "        0.07064264, -0.04462502,  0.00372592,  0.0795732 ,  0.03219604,\n",
       "       -0.03588867, -0.02733889,  0.01240123, -0.00031523,  0.0145985 ,\n",
       "        0.04139293,  0.00319602,  0.01180753,  0.02464225, -0.01786665,\n",
       "        0.07599432, -0.03420466,  0.00679155, -0.06868662, -0.05174672,\n",
       "        0.0024636 ,  0.10357111,  0.08276593, -0.00944935,  0.09575861,\n",
       "        0.01397705, -0.09585849, -0.0569347 , -0.02335982,  0.09161932,\n",
       "       -0.00464977, -0.04252486,  0.05409934,  0.10015869,  0.07168857,\n",
       "       -0.01689564, -0.02927884,  0.05391346,  0.04742536,  0.04556344,\n",
       "       -0.02780429,  0.08666021, -0.06815962,  0.00415039, -0.0164351 ,\n",
       "        0.0024597 , -0.01821622, -0.0357666 , -0.03254561, -0.03014027])"
      ]
     },
     "execution_count": 63,
     "metadata": {},
     "output_type": "execute_result"
    }
   ],
   "source": [
    "# simple average of words in sentence\n",
    "def get_sent_embedding(sent: str, remove_stopwords=True):\n",
    "    sent_tokens = [word for word in sent.split(' ') if (remove_stopwords and not word in stop_words) or not remove_stopwords]\n",
    "    #print(sent_tokens)\n",
    "    embedding_sum = np.zeros(300)\n",
    "    total = 0\n",
    "    for word in sent_tokens:\n",
    "        if word in w2v_model:\n",
    "            embedding_sum += w2v_model[word]\n",
    "            total += 1\n",
    "    if total == 0:\n",
    "        embedding = avg_vector\n",
    "    else:\n",
    "        embedding = embedding_sum / total\n",
    "    return embedding\n",
    "sent = tweets[2]\n",
    "print(sent)\n",
    "get_sent_embedding(sent)"
   ]
  },
  {
   "cell_type": "code",
   "execution_count": 139,
   "metadata": {},
   "outputs": [],
   "source": [
    "docs = [get_sent_embedding(tweet) for tweet in tweets]"
   ]
  },
  {
   "cell_type": "code",
   "execution_count": 163,
   "metadata": {},
   "outputs": [],
   "source": [
    "remove_stopwords = False\n",
    "X_train = [get_sent_embedding(tweet, remove_stopwords=remove_stopwords) for tweet in X_train]\n",
    "X_test = [get_sent_embedding(tweet, remove_stopwords=remove_stopwords) for tweet in X_test]"
   ]
  },
  {
   "cell_type": "code",
   "execution_count": 164,
   "metadata": {},
   "outputs": [],
   "source": [
    "with open('Models/Embeddings/w2v_train_equalweights_withstop', 'wb+') as f:\n",
    "    pickle.dump(X_train, f)\n",
    "with open('Models/Embeddings/w2v_test_equalweights_withstop', 'wb+') as f:\n",
    "    pickle.dump(X_test, f)"
   ]
  },
  {
   "cell_type": "code",
   "execution_count": 145,
   "metadata": {},
   "outputs": [],
   "source": [
    "with open('Models/Embeddings/w2v_equalweights', 'wb+') as f:\n",
    "    pickle.dump(docs, f)"
   ]
  },
  {
   "cell_type": "code",
   "execution_count": null,
   "metadata": {},
   "outputs": [],
   "source": [
    "with open('Models/Embeddings/w2v_equalweights', 'rb') as f:\n",
    "    docs = pickle.load(f)"
   ]
  },
  {
   "cell_type": "markdown",
   "metadata": {},
   "source": [
    "#### BERT"
   ]
  },
  {
   "cell_type": "markdown",
   "metadata": {},
   "source": [
    "Based on [this tutorial](https://towardsdatascience.com/build-a-bert-sci-kit-transformer-59d60ddd54a5)"
   ]
  },
  {
   "cell_type": "code",
   "execution_count": 16,
   "metadata": {},
   "outputs": [],
   "source": [
    "from transformers import BertTokenizer, BertModel\n",
    "import torch\n",
    "embedding = 'BERT'"
   ]
  },
  {
   "cell_type": "code",
   "execution_count": 17,
   "metadata": {},
   "outputs": [
    {
     "name": "stderr",
     "output_type": "stream",
     "text": [
      "Some weights of the model checkpoint at bert-base-uncased were not used when initializing BertModel: ['cls.seq_relationship.weight', 'cls.predictions.transform.LayerNorm.weight', 'cls.predictions.transform.dense.weight', 'cls.predictions.transform.dense.bias', 'cls.predictions.transform.LayerNorm.bias', 'cls.seq_relationship.bias', 'cls.predictions.bias', 'cls.predictions.decoder.weight']\n",
      "- This IS expected if you are initializing BertModel from the checkpoint of a model trained on another task or with another architecture (e.g. initializing a BertForSequenceClassification model from a BertForPreTraining model).\n",
      "- This IS NOT expected if you are initializing BertModel from the checkpoint of a model that you expect to be exactly identical (initializing a BertForSequenceClassification model from a BertForSequenceClassification model).\n"
     ]
    }
   ],
   "source": [
    "bert_tokenizer = BertTokenizer.from_pretrained(\"bert-base-uncased\")\n",
    "bert_model = BertModel.from_pretrained(\"bert-base-uncased\")"
   ]
  },
  {
   "cell_type": "code",
   "execution_count": 109,
   "metadata": {},
   "outputs": [
    {
     "name": "stdout",
     "output_type": "stream",
     "text": [
      "maybe the un could talk to those asian and african nations responsible for 90 of the pollution in the oceans instead of insisting on this bullshit about climate change\n",
      "maybe un could talk asian african nations responsible 90 pollution oceans instead insisting bullshit climate change\n"
     ]
    }
   ],
   "source": [
    "#sent = multi_target['0']['HATE_SPEECH']\n",
    "sent = tweets[0]\n",
    "print(sent)\n",
    "#sent = ' '.join([word for word in sent.split(' ') if word.isalnum() and not word in stop_words])\n",
    "sent = word_tokenize(sent)\n",
    "sent = ' '.join([word.lower() for word in sent if word.isalnum() and not word in stop_words])\n",
    "print(sent)"
   ]
  },
  {
   "cell_type": "code",
   "execution_count": 18,
   "metadata": {},
   "outputs": [],
   "source": [
    "def get_sent_embedding(sent: str, remove_stopwords=False):\n",
    "    if remove_stopwords:\n",
    "        sent = ' '.join(word for word in sent.split() if not word in stop_words)\n",
    "    \n",
    "    tokenized = bert_tokenizer.encode_plus(sent, add_special_tokens=True)['input_ids']\n",
    "    attention = [1] * len(tokenized)\n",
    "\n",
    "    tokenized = torch.tensor(tokenized).unsqueeze(0)\n",
    "    attention = torch.tensor(attention).unsqueeze(0)\n",
    "\n",
    "    embedding = bert_model(tokenized, attention)\n",
    "    return embedding[0][:, 0, :].squeeze()\n",
    "\n",
    "with torch.no_grad():\n",
    "    #embeddings = torch.stack([get_sent_embedding(tweet, remove_stopwords=False) for tweet in tweets])\n",
    "    X_train = torch.stack([get_sent_embedding(tweet, remove_stopwords=True) for tweet in X_train])\n",
    "    X_test = torch.stack([get_sent_embedding(tweet, remove_stopwords=True) for tweet in X_test])"
   ]
  },
  {
   "cell_type": "code",
   "execution_count": 251,
   "metadata": {},
   "outputs": [],
   "source": [
    "with open('Models/Embeddings/bert_train_nostop', 'wb+') as f:\n",
    "    pickle.dump(X_train, f)\n",
    "with open('Models/Embeddings/bert_test_nostop', 'wb+') as f:\n",
    "    pickle.dump(X_test, f)"
   ]
  },
  {
   "cell_type": "code",
   "execution_count": 58,
   "metadata": {},
   "outputs": [],
   "source": [
    "# save embeddings\n",
    "with open('Models/Embeddings/bert', 'wb+') as f:\n",
    "    pickle.dump(embeddings, f)"
   ]
  },
  {
   "cell_type": "code",
   "execution_count": 21,
   "metadata": {},
   "outputs": [],
   "source": [
    "# load embeddings\n",
    "with open('Models/Embeddings/bert', 'rb') as f:\n",
    "    embeddings = pickle.load(f)"
   ]
  },
  {
   "cell_type": "code",
   "execution_count": 59,
   "metadata": {},
   "outputs": [],
   "source": [
    "docs = embeddings"
   ]
  },
  {
   "cell_type": "markdown",
   "metadata": {},
   "source": [
    "#### GLoVe"
   ]
  },
  {
   "cell_type": "code",
   "execution_count": 181,
   "metadata": {},
   "outputs": [],
   "source": [
    "embedding = 'glove'"
   ]
  },
  {
   "cell_type": "code",
   "execution_count": 223,
   "metadata": {},
   "outputs": [],
   "source": [
    "dimensions = 300"
   ]
  },
  {
   "cell_type": "code",
   "execution_count": 224,
   "metadata": {},
   "outputs": [],
   "source": [
    "glove_path = f'Data/glove.6B.{dimensions}d.txt'"
   ]
  },
  {
   "cell_type": "code",
   "execution_count": 225,
   "metadata": {},
   "outputs": [],
   "source": [
    "glove_embeddings = []\n",
    "word_to_index = defaultdict(lambda: -1) # return index -1 on key error \n",
    "with open(glove_path, 'r') as f:\n",
    "    for i, line in enumerate(f):\n",
    "        word, *vector = line.rstrip().split(' ')\n",
    "        vector = np.array([float(v) for v in vector])\n",
    "        glove_embeddings.append(vector)\n",
    "        word_to_index[word] = i"
   ]
  },
  {
   "cell_type": "code",
   "execution_count": 226,
   "metadata": {},
   "outputs": [],
   "source": [
    "# create an embedding for unknown words by averaging all glove embeddings in vocab file\n",
    "unknown_vec = np.mean(glove_embeddings, axis=0)"
   ]
  },
  {
   "cell_type": "code",
   "execution_count": 227,
   "metadata": {},
   "outputs": [],
   "source": [
    "# place at end of glove_embeddings so that when we come across unknown words, \n",
    "# they can be indexed with -1\n",
    "glove_embeddings.append(unknown_vec)"
   ]
  },
  {
   "cell_type": "markdown",
   "metadata": {},
   "source": [
    "Get a sentence vector by weighting each word based on its frequency (using the tf idf matrix):"
   ]
  },
  {
   "cell_type": "code",
   "execution_count": 228,
   "metadata": {},
   "outputs": [],
   "source": [
    "with open('Models/Embeddings/tfidf_vectorizer_traintestsplit_withstop', 'rb') as f:\n",
    "    tfidf_vectorizer = pickle.load(f)\n",
    "with open('Models/Embeddings/tfidf_train_matrix_withstop', 'rb') as f:\n",
    "    tfidf_train_matrix = pickle.load(f)\n",
    "with open('Models/Embeddings/tfidf_test_matrix_withstop', 'rb') as f:\n",
    "    tfidf_test_matrix = pickle.load(f)"
   ]
  },
  {
   "cell_type": "code",
   "execution_count": 229,
   "metadata": {},
   "outputs": [],
   "source": [
    "# get the glove embedding for each term in the tfidf matrix\n",
    "terms = tfidf_vectorizer.get_feature_names()\n",
    "term_glove_embeddings = np.zeros((len(terms), dimensions)) \n",
    "for i, term in enumerate(terms):\n",
    "    term_glove_embeddings[i] = glove_embeddings[i]"
   ]
  },
  {
   "cell_type": "code",
   "execution_count": 230,
   "metadata": {},
   "outputs": [],
   "source": [
    "# get document vectors weighted by tfidf matrix\n",
    "X_train = tfidf_train_matrix @ term_glove_embeddings\n",
    "X_test = tfidf_test_matrix @ term_glove_embeddings"
   ]
  },
  {
   "cell_type": "code",
   "execution_count": 231,
   "metadata": {},
   "outputs": [],
   "source": [
    "with open('Models/Embeddings/glove_300tfidfweighted_train_withstop', 'wb+') as f:\n",
    "    pickle.dump(X_train, f)\n",
    "with open('Models/Embeddings/glove_300tfidfweighted_test_withstop', 'wb+') as f:\n",
    "    pickle.dump(X_test, f)"
   ]
  },
  {
   "cell_type": "markdown",
   "metadata": {},
   "source": [
    "Alternatively, get a sentence vector by weighting each word equally:"
   ]
  },
  {
   "cell_type": "code",
   "execution_count": 80,
   "metadata": {},
   "outputs": [],
   "source": [
    "# simple average of each word embedding\n",
    "def get_sent_embedding(sent: str, remove_stopwords=True):\n",
    "    sent_tokens = [word_to_index[word] for word in sent.split(' ') if (remove_stopwords and not word in stop_words) or not remove_stopwords]\n",
    "\n",
    "    sent_embedding = sum(glove_embeddings[i] for i in sent_tokens)/len(sent_tokens)\n",
    "    return sent_embedding\n",
    "\n",
    "#sent = multi_target['10']['HATE_SPEECH']\n",
    "#sent = tweets[6909]\n",
    "#print(sent)\n",
    "#print(get_sent_embedding(sent))\n"
   ]
  },
  {
   "cell_type": "code",
   "execution_count": 29,
   "metadata": {},
   "outputs": [],
   "source": [
    "docs = [get_sent_embedding(tweet) for tweet in tweets]"
   ]
  },
  {
   "cell_type": "code",
   "execution_count": 236,
   "metadata": {},
   "outputs": [],
   "source": [
    "X_train = [get_sent_embedding(tweet, remove_stopwords=False) for tweet in X_train]\n",
    "X_test = [get_sent_embedding(tweet, remove_stopwords=False) for tweet in X_test]"
   ]
  },
  {
   "cell_type": "code",
   "execution_count": 237,
   "metadata": {},
   "outputs": [],
   "source": [
    "with open('Models/Embeddings/glove300_train_equalweight_withstop', 'wb+') as f:\n",
    "    pickle.dump(X_train, f)\n",
    "with open('Models/Embeddings/glove300_test_equalweight_withstop', 'wb+') as f:\n",
    "    pickle.dump(X_test, f)"
   ]
  },
  {
   "cell_type": "code",
   "execution_count": null,
   "metadata": {},
   "outputs": [],
   "source": [
    "with open('Models/Embeddings/glove_equalweight', 'wb+') as f:\n",
    "    pickle.dump(docs, f)"
   ]
  },
  {
   "cell_type": "code",
   "execution_count": null,
   "metadata": {},
   "outputs": [],
   "source": [
    "with open('Models/Embeddings/glove_equalweight', 'rb') as f:\n",
    "    docs = pickle.load(f)"
   ]
  },
  {
   "cell_type": "markdown",
   "metadata": {},
   "source": [
    "### Training"
   ]
  },
  {
   "cell_type": "code",
   "execution_count": 140,
   "metadata": {},
   "outputs": [],
   "source": [
    "X = docs\n",
    "y = labels\n",
    "seed = 42\n",
    "X_train, X_test, y_train, y_test = train_test_split(X, y, random_state=seed, test_size=0.2)"
   ]
  },
  {
   "cell_type": "code",
   "execution_count": 259,
   "metadata": {},
   "outputs": [],
   "source": [
    "def save_heatmap_fig(confusion_matrix, model_name: str, embedding_name: str, filetype='png'):\n",
    "    plt.subplots(tight_layout=True)\n",
    "    fig = sns.heatmap(confusion_matrix, vmax=817.0, annot=True, fmt='g', xticklabels=target_types, yticklabels=target_types)\n",
    "    fig.set_xlabel('Predicted')\n",
    "    fig.set_ylabel('Actual')\n",
    "\n",
    "    plt.savefig(f'Figures/Confusion_{model_name}_model_{embedding_name}.{filetype}')"
   ]
  },
  {
   "cell_type": "code",
   "execution_count": 260,
   "metadata": {},
   "outputs": [
    {
     "data": {
      "image/png": "[encoded data removed]",
      "text/plain": [
       "<Figure size 432x288 with 2 Axes>"
      ]
     },
     "metadata": {
      "needs_background": "light"
     },
     "output_type": "display_data"
    }
   ],
   "source": [
    "d2v_confusion = [[ 32,   0,   7,   1,   2,   0,   3,   1,   9],\n",
    "                [  3,  79,   5,   8,  6,   6,   3,   2,  16],\n",
    "                [  4,   3,  74,   1,   9,   2,   6,   1,  12],\n",
    "                [  0,   1,   3, 117,  14,   4,   1,   1,  45],\n",
    "                [  4,  15,   9,  18, 183,   2,  10,   3,  29],\n",
    "                [  2,   2,   1,   6,  11,  37,   6,   2,  12],\n",
    "                [  2,   3,   2,   4,  10,   4,  63,   1,  28],\n",
    "                [  0,   3,   1,  15,  11,   4,   1,   6,  18],\n",
    "                [ 33,  47,  37,  60,  94,  12,  53,   8, 481]]\n",
    "\n",
    "save_heatmap_fig(d2v_confusion, 'LR_50nostop', 'd2v')\n"
   ]
  },
  {
   "cell_type": "code",
   "execution_count": 39,
   "metadata": {},
   "outputs": [],
   "source": [
    "# from https://www.kaggle.com/kmkarakaya/multi-label-model-evaluation#PART-B:-ROC-&-AUC\n",
    "def save_roc_curve(model_name: str, embedding_name: str, X_train, X_test, y_train, y_test, filetype='png'):\n",
    "  new_y_train = np.zeros((len(y_train), len(target_types)), dtype=np.int32)\n",
    "  for i, label in enumerate(y_train):\n",
    "      new_y_train[i, label] = 1\n",
    "  new_y_test = np.zeros((len(y_test), len(target_types)), dtype=np.int32)\n",
    "  for i, label in enumerate(y_test):\n",
    "      new_y_test[i, label] = 1\n",
    "  y_train = new_y_train\n",
    "  y_test = new_y_test\n",
    "  \n",
    "  labelPlots ={}\n",
    "  for i in range (len(target_types)):\n",
    "    if model_name.startswith('LR'):\n",
    "      model = LogisticRegression(random_state=0, max_iter=1000)\n",
    "    elif model_name == 'RF':\n",
    "      model = RandomForestClassifier(random_state=0)\n",
    "    elif model_name == 'NB':\n",
    "      model = GaussianNB()\n",
    "    model.fit(X_train, y_train[:,i])\n",
    "    ax = plt.gca()\n",
    "    labelPlots[i]= plot_roc_curve(model, X_test, y_test[:,i], name=(target_types[i]), ax=ax, alpha=0.8)\n",
    "  plt.savefig(f'Figures/ROC_{model_name}_{embedding_name}.{filetype}')\n",
    "    "
   ]
  },
  {
   "cell_type": "code",
   "execution_count": 103,
   "metadata": {},
   "outputs": [
    {
     "data": {
      "text/plain": [
       "(7332, 4452)"
      ]
     },
     "execution_count": 103,
     "metadata": {},
     "output_type": "execute_result"
    }
   ],
   "source": [
    "X_train.shape"
   ]
  },
  {
   "cell_type": "code",
   "execution_count": 105,
   "metadata": {},
   "outputs": [
    {
     "data": {
      "text/plain": [
       "7332"
      ]
     },
     "execution_count": 105,
     "metadata": {},
     "output_type": "execute_result"
    }
   ],
   "source": [
    "len(y_train)"
   ]
  },
  {
   "cell_type": "markdown",
   "metadata": {},
   "source": [
    "#### Logistic Regression"
   ]
  },
  {
   "cell_type": "code",
   "execution_count": 253,
   "metadata": {},
   "outputs": [
    {
     "name": "stdout",
     "output_type": "stream",
     "text": [
      "              precision    recall  f1-score   support\n",
      "\n",
      "           0       0.98      0.95      0.96        55\n",
      "           1       0.97      0.96      0.96       128\n",
      "           2       0.95      0.94      0.94       112\n",
      "           3       0.91      0.98      0.94       186\n",
      "           4       0.94      0.96      0.95       273\n",
      "           5       0.92      0.89      0.90        79\n",
      "           6       0.96      0.97      0.96       117\n",
      "           7       0.78      0.61      0.69        59\n",
      "           8       0.99      0.99      0.99       825\n",
      "\n",
      "    accuracy                           0.96      1834\n",
      "   macro avg       0.93      0.91      0.92      1834\n",
      "weighted avg       0.96      0.96      0.96      1834\n",
      "\n",
      "Logistic Regression Train accuracy 99.673%\n",
      "Logistic Regression Test accuracy 95.747%\n",
      "Confusion matrix: \n",
      "[[ 52   0   1   1   0   0   0   0   1]\n",
      " [  0 123   1   0   2   0   0   0   2]\n",
      " [  0   1 105   1   0   0   2   1   2]\n",
      " [  0   0   0 182   2   1   0   1   0]\n",
      " [  0   0   2   4 261   0   0   4   2]\n",
      " [  0   0   0   2   1  70   1   4   1]\n",
      " [  0   0   0   1   1   1 113   0   1]\n",
      " [  1   2   0   9   8   1   0  36   2]\n",
      " [  0   1   2   0   3   3   2   0 814]]\n"
     ]
    }
   ],
   "source": [
    "model = LogisticRegression(max_iter=2000).fit(X_train, y_train)\n",
    "y_preds = model.predict(X_test)\n",
    "report = classification_report(y_test, y_preds)\n",
    "print(report)\n",
    "acc = accuracy_score(y_test, y_preds)\n",
    "mod_train = model.score(X_train, y_train) \n",
    "\n",
    "print('Logistic Regression Train accuracy {:.3f}%'.format(mod_train * 100)) \n",
    "print('Logistic Regression Test accuracy {:.3f}%'.format(acc * 100)) \n",
    "\n",
    "confusion = confusion_matrix(y_test, y_preds)\n",
    "print('Confusion matrix: ')\n",
    "print(confusion) "
   ]
  },
  {
   "cell_type": "code",
   "execution_count": 254,
   "metadata": {},
   "outputs": [
    {
     "data": {
      "image/png": "[encoded data removed]",
      "text/plain": [
       "<Figure size 432x288 with 2 Axes>"
      ]
     },
     "metadata": {
      "needs_background": "light"
     },
     "output_type": "display_data"
    }
   ],
   "source": [
    "save_heatmap_fig(confusion, 'LR_nostop', embedding)"
   ]
  },
  {
   "cell_type": "code",
   "execution_count": 255,
   "metadata": {},
   "outputs": [],
   "source": [
    "with open(f'Models/MultiClassifier/LR_model_{embedding}_report.txt', 'a') as f:\n",
    "    f.write(report)\n",
    "    f.write('Logistic Regression Train accuracy {:.3f}%\\n'.format(mod_train * 100)) \n",
    "    f.write('Logistic Regression Test accuracy {:.3f}%\\n'.format(acc * 100)) \n",
    "    f.write('Confusion Matrix:\\n')\n",
    "    f.write(str(confusion) + '\\n')\n",
    "\n",
    "    if embedding == 'd2v':\n",
    "        f.write('\\n')\n",
    "        f.write('d2v info:\\n')\n",
    "        f.write('  Epochs: {}\\n'.format(d2v_model.epochs))\n",
    "        f.write('  Dimensions: {}\\n'.format(d2v_model.vector_size))\n",
    "    f.write('\\n')\n"
   ]
  },
  {
   "cell_type": "code",
   "execution_count": 29,
   "metadata": {},
   "outputs": [],
   "source": [
    "with open(f'Models/MultiClassifier/LR_model_{embedding}', 'wb+') as f:\n",
    "    pickle.dump(model, f)"
   ]
  },
  {
   "cell_type": "code",
   "execution_count": 256,
   "metadata": {},
   "outputs": [
    {
     "data": {
      "image/png": "[encoded data removed]",
      "text/plain": [
       "<Figure size 432x288 with 1 Axes>"
      ]
     },
     "metadata": {
      "needs_background": "light"
     },
     "output_type": "display_data"
    }
   ],
   "source": [
    "save_roc_curve('LR_nostop', embedding, X_train, X_test, y_train, y_test)"
   ]
  },
  {
   "cell_type": "markdown",
   "metadata": {},
   "source": [
    "#### Random Forest"
   ]
  },
  {
   "cell_type": "code",
   "execution_count": 148,
   "metadata": {},
   "outputs": [
    {
     "name": "stdout",
     "output_type": "stream",
     "text": [
      "              precision    recall  f1-score   support\n",
      "\n",
      "           0       1.00      0.71      0.83        55\n",
      "           1       0.99      0.87      0.92       128\n",
      "           2       0.98      0.81      0.89       112\n",
      "           3       0.92      0.95      0.93       186\n",
      "           4       0.90      0.95      0.92       273\n",
      "           5       1.00      0.57      0.73        79\n",
      "           6       0.95      0.91      0.93       117\n",
      "           7       1.00      0.58      0.73        59\n",
      "           8       0.89      0.99      0.94       825\n",
      "\n",
      "    accuracy                           0.92      1834\n",
      "   macro avg       0.96      0.81      0.87      1834\n",
      "weighted avg       0.92      0.92      0.91      1834\n",
      "\n",
      "Random Forest Train accuracy 99.905%\n",
      "Random Forest Test accuracy 91.603%\n",
      "Confusion matrix: \n",
      "[[ 39   0   2   0   0   0   0   0  14]\n",
      " [  0 111   0   0   4   0   0   0  13]\n",
      " [  0   0  91   2   2   0   4   0  13]\n",
      " [  0   0   0 176   3   0   0   0   7]\n",
      " [  0   0   0   3 258   0   0   0  12]\n",
      " [  0   0   0   4   5  45   0   0  25]\n",
      " [  0   0   0   0   0   0 106   0  11]\n",
      " [  0   1   0   7  10   0   1  34   6]\n",
      " [  0   0   0   0   4   0   1   0 820]]\n"
     ]
    }
   ],
   "source": [
    "model = RandomForestClassifier()\n",
    "model.fit(X_train,y_train)\n",
    "y_preds = model.predict(X_test)\n",
    "report = classification_report(y_test, y_preds)\n",
    "acc = accuracy_score(y_test, y_preds)\n",
    "mod_train = model.score(X_train, y_train) \n",
    "\n",
    "print(report)\n",
    "\n",
    "print('Random Forest Train accuracy {:.3f}%'.format(mod_train * 100)) \n",
    "print('Random Forest Test accuracy {:.3f}%'.format(acc * 100)) \n",
    "\n",
    "confusion = confusion_matrix(y_test, y_preds)\n",
    "print('Confusion matrix: ')\n",
    "print(confusion) "
   ]
  },
  {
   "cell_type": "code",
   "execution_count": 149,
   "metadata": {},
   "outputs": [
    {
     "data": {
      "image/png": "[encoded data removed]",
      "text/plain": [
       "<Figure size 432x288 with 2 Axes>"
      ]
     },
     "metadata": {
      "needs_background": "light"
     },
     "output_type": "display_data"
    }
   ],
   "source": [
    "save_heatmap_fig(confusion, 'RF', embedding)"
   ]
  },
  {
   "cell_type": "code",
   "execution_count": 150,
   "metadata": {},
   "outputs": [
    {
     "data": {
      "image/png": "[encoded data removed]",
      "text/plain": [
       "<Figure size 432x288 with 1 Axes>"
      ]
     },
     "metadata": {
      "needs_background": "light"
     },
     "output_type": "display_data"
    }
   ],
   "source": [
    "save_roc_curve('RF', embedding, X_train, X_test, y_train, y_test)"
   ]
  },
  {
   "cell_type": "code",
   "execution_count": 151,
   "metadata": {},
   "outputs": [],
   "source": [
    "with open(f'Models/MultiClassifier/RF_model_{embedding}_report.txt', 'a') as f:\n",
    "    f.write(report)\n",
    "    f.write('Random Forest Train accuracy {:.3f}%\\n'.format(mod_train * 100)) \n",
    "    f.write('Random Forest Test accuracy {:.3f}%\\n'.format(acc * 100)) \n",
    "    f.write('Confusion Matrix:\\n')\n",
    "    f.write(str(confusion) + '\\n')\n",
    "\n",
    "    if embedding == 'd2v':\n",
    "        f.write('\\n')\n",
    "        f.write('d2v info:\\n')\n",
    "        f.write('  Epochs: {}\\n'.format(d2v_model.epochs))\n",
    "        f.write('  Dimensions: {}\\n'.format(d2v_model.vector_size))\n",
    "    f.write('\\n')"
   ]
  },
  {
   "cell_type": "code",
   "execution_count": 152,
   "metadata": {},
   "outputs": [],
   "source": [
    "with open(f'Models/MultiClassifier/RF_model_{embedding}', 'wb+') as f:\n",
    "    pickle.dump(model, f)"
   ]
  },
  {
   "cell_type": "markdown",
   "metadata": {},
   "source": [
    "#### Naive Bayes"
   ]
  },
  {
   "cell_type": "markdown",
   "metadata": {},
   "source": [
    "Note: can't use naive bayes with tf-idf matrix because nb needs dense vectors"
   ]
  },
  {
   "cell_type": "code",
   "execution_count": 153,
   "metadata": {},
   "outputs": [
    {
     "name": "stdout",
     "output_type": "stream",
     "text": [
      "              precision    recall  f1-score   support\n",
      "\n",
      "           0       0.75      0.93      0.83        55\n",
      "           1       0.89      0.84      0.86       128\n",
      "           2       0.93      0.67      0.78       112\n",
      "           3       0.94      0.87      0.90       186\n",
      "           4       0.93      0.82      0.87       273\n",
      "           5       0.76      0.90      0.82        79\n",
      "           6       0.81      0.96      0.88       117\n",
      "           7       0.27      0.51      0.36        59\n",
      "           8       0.96      0.94      0.95       825\n",
      "\n",
      "    accuracy                           0.88      1834\n",
      "   macro avg       0.80      0.83      0.81      1834\n",
      "weighted avg       0.90      0.88      0.89      1834\n",
      "\n",
      "Naive Bayes Train accuracy 88.257%\n",
      "Naive Bayes Test accuracy 87.786%\n",
      "Confusion matrix: \n",
      "[[ 51   0   0   0   0   0   0   0   4]\n",
      " [  0 107   1   0   3   1   1   7   8]\n",
      " [  5   0  75   0   1   2  14   9   6]\n",
      " [  4   0   0 161   1   2   0  14   4]\n",
      " [  0   3   1   2 225   1   6  33   2]\n",
      " [  1   0   0   0   0  71   1   4   2]\n",
      " [  1   0   2   0   0   0 112   0   2]\n",
      " [  1   6   0   8   8   3   1  30   2]\n",
      " [  5   4   2   1   5  14   3  13 778]]\n"
     ]
    }
   ],
   "source": [
    "model = GaussianNB()\n",
    "model.fit(X_train, y_train)\n",
    "y_preds = model.predict(X_test)\n",
    "report = classification_report(y_test, y_preds)\n",
    "acc = accuracy_score(y_test, y_preds)\n",
    "mod_train = model.score(X_train, y_train) \n",
    "\n",
    "print(report)\n",
    "\n",
    "print('Naive Bayes Train accuracy {:.3f}%'.format(mod_train * 100)) \n",
    "print('Naive Bayes Test accuracy {:.3f}%'.format(acc * 100)) \n",
    "\n",
    "print('Confusion matrix: ')\n",
    "print(confusion_matrix(y_test, y_preds)) "
   ]
  },
  {
   "cell_type": "code",
   "execution_count": 154,
   "metadata": {},
   "outputs": [
    {
     "data": {
      "image/png": "[encoded data removed]",
      "text/plain": [
       "<Figure size 432x288 with 2 Axes>"
      ]
     },
     "metadata": {
      "needs_background": "light"
     },
     "output_type": "display_data"
    }
   ],
   "source": [
    "save_heatmap_fig(confusion, 'NB', embedding)"
   ]
  },
  {
   "cell_type": "code",
   "execution_count": 36,
   "metadata": {},
   "outputs": [],
   "source": [
    "with open(f'Models/MultiClassifier/NB_model_{embedding}_report.txt', 'a') as f:\n",
    "    f.write(report)\n",
    "    f.write('Naive Bayes Train accuracy {:.3f}%\\n'.format(mod_train * 100)) \n",
    "    f.write('Naive Bayes Test accuracy {:.3f}%\\n'.format(acc * 100)) \n",
    "    f.write('Confusion Matrix:\\n')\n",
    "    f.write(str(confusion) + '\\n')\n",
    "    \n",
    "    if embedding == 'd2v':\n",
    "        f.write('\\n')\n",
    "        f.write('d2v info:\\n')\n",
    "        f.write('  Epochs: {}\\n'.format(d2v_model.epochs))\n",
    "        f.write('  Dimensions: {}\\n'.format(d2v_model.vector_size))\n",
    "    f.write('\\n')"
   ]
  },
  {
   "cell_type": "code",
   "execution_count": 155,
   "metadata": {},
   "outputs": [],
   "source": [
    "with open(f'Models/MultiClassifier/NB_model_{embedding}', 'wb+') as f:\n",
    "    pickle.dump(model, f)"
   ]
  }
 ],
 "metadata": {
  "kernelspec": {
   "display_name": "Python 3 (ipykernel)",
   "language": "python",
   "name": "python3"
  },
  "language_info": {
   "codemirror_mode": {
    "name": "ipython",
    "version": 3
   },
   "file_extension": ".py",
   "mimetype": "text/x-python",
   "name": "python",
   "nbconvert_exporter": "python",
   "pygments_lexer": "ipython3",
   "version": "3.6.8"
  }
 },
 "nbformat": 4,
 "nbformat_minor": 4
}
