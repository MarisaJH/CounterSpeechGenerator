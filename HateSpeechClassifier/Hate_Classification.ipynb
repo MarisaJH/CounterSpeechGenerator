{
 "cells": [
  {
   "cell_type": "code",
   "execution_count": 9,
   "metadata": {},
   "outputs": [],
   "source": [
    "import pandas as pd\n",
    "import matplotlib.pyplot as plt\n",
    "import seaborn as sns\n",
    "#from sklearn.preprocessing import StandardScaler \n",
    "#from sklearn.svm import LinearSVC\n",
    "\n",
    "#from sklearn.feature_extraction.text import CountVectorizer\n",
    "from sklearn.feature_extraction.text import TfidfVectorizer\n",
    "from sklearn.linear_model import LogisticRegression\n",
    "#from sklearn import mixture, metrics\n",
    "from sklearn.ensemble import RandomForestClassifier\n",
    "from sklearn.datasets import make_classification\n",
    "from sklearn.naive_bayes import GaussianNB\n",
    "\n",
    "from sklearn.model_selection import train_test_split\n",
    "#from sklearn.feature_selection import SelectFromModel\n",
    "#from sklearn.metrics import f1_score\n",
    "from sklearn.metrics import confusion_matrix\n",
    "from sklearn.metrics import classification_report\n",
    "from sklearn.metrics import accuracy_score\n",
    "#from sklearn.feature_selection import SelectKBest, f_classif\n",
    "#from sklearn.covariance import empirical_covariance\n",
    "\n",
    "# import scipy\n",
    "import json \n",
    "import random\n",
    "import numpy as np\n",
    "#import itertools \n",
    "#import sys\n",
    "#import os\n",
    "#import matplotlib as mpl\n",
    "# from scipy import linalg\n",
    "import pickle\n",
    "from collections import defaultdict\n",
    "\n",
    "\n",
    "# Remove all the un-necessary warnings\n",
    "# import warnings\n",
    "# warnings.filterwarnings('ignore')\n",
    "multitarget_data_path = 'Data/CONAN-master/Multitarget-CONAN/Multitarget-CONAN.json'\n",
    "combined_data_path = 'Data/combined_data.csv'"
   ]
  },
  {
   "cell_type": "code",
   "execution_count": 34,
   "metadata": {},
   "outputs": [],
   "source": [
    "from nltk.tokenize import word_tokenize\n",
    "from nltk.stem.porter import PorterStemmer\n",
    "from nltk.stem.wordnet import WordNetLemmatizer\n",
    "from nltk.corpus import stopwords\n",
    "stop_words = stopwords.words('english')"
   ]
  },
  {
   "cell_type": "code",
   "execution_count": 13,
   "metadata": {},
   "outputs": [],
   "source": [
    "with open(combined_data_path, 'r', encoding='utf8') as f:\n",
    "    combined = pd.read_csv(f).to_dict()"
   ]
  },
  {
   "cell_type": "code",
   "execution_count": 74,
   "metadata": {},
   "outputs": [
    {
     "data": {
      "text/plain": [
       "['1-800-slap-a-hoe']"
      ]
     },
     "execution_count": 74,
     "metadata": {},
     "output_type": "execute_result"
    }
   ],
   "source": [
    "combined['HATE_SPEECH'][5339]\n",
    "word_tokenize(_)"
   ]
  },
  {
   "cell_type": "code",
   "execution_count": 88,
   "metadata": {},
   "outputs": [
    {
     "data": {
      "text/plain": [
       "['I', \"'m\", 'Hun-gry']"
      ]
     },
     "execution_count": 88,
     "metadata": {},
     "output_type": "execute_result"
    }
   ],
   "source": [
    "combined['HATE_SPEECH'][6909]\n",
    "word_tokenize(_)"
   ]
  },
  {
   "cell_type": "code",
   "execution_count": 37,
   "metadata": {},
   "outputs": [],
   "source": [
    "import re\n",
    "def utils_preprocess_text(text: str, flg_stemm=False, flg_lemm=False, lst_stopwords=None):\n",
    "    '''\n",
    "    Code from https://towardsdatascience.com/text-classification-with-nlp-tf-idf-vs-word2vec-vs-bert-41ff868d1794\n",
    "    Preprocess a string.\n",
    "    :parameter\n",
    "        :param text: string - text to process\n",
    "        :param lst_stopwords: list - list of stopwords to remove\n",
    "        :param flg_stemm: bool - whether stemming is to be applied\n",
    "        :param flg_lemm: bool - whether lemmitization is to be applied\n",
    "    :return\n",
    "        cleaned text\n",
    "    '''\n",
    "    \n",
    "    # clean (convert to lowercase and remove punctuations and   \n",
    "    # characters and then strip)\n",
    "    text = re.sub(r'[^\\w\\s]', '', str(text).lower().strip())\n",
    "            \n",
    "    # Tokenize (convert from string to list)\n",
    "    lst_text = text.split()\n",
    "    \n",
    "    # remove Stopwords\n",
    "    if lst_stopwords is not None:\n",
    "        lst_text = [word for word in lst_text if word not in \n",
    "                    lst_stopwords]\n",
    "                \n",
    "    # Stemming (remove -ing, -ly, ...)\n",
    "    if flg_stemm == True:\n",
    "        ps = PorterStemmer()\n",
    "        lst_text = [ps.stem(word) for word in lst_text]\n",
    "                \n",
    "    # Lemmatization (convert the word into root word)\n",
    "    if flg_lemm == True:\n",
    "        lem = WordNetLemmatizer()\n",
    "        lst_text = [lem.lemmatize(word) for word in lst_text]\n",
    "            \n",
    "    # back to string from list\n",
    "    text = \" \".join(lst_text)\n",
    "    return text"
   ]
  },
  {
   "cell_type": "code",
   "execution_count": 45,
   "metadata": {},
   "outputs": [
    {
     "data": {
      "text/plain": [
       "'im hungry'"
      ]
     },
     "execution_count": 45,
     "metadata": {},
     "output_type": "execute_result"
    }
   ],
   "source": [
    "\n",
    "utils_preprocess_text(combined['HATE_SPEECH'][6909])"
   ]
  },
  {
   "cell_type": "code",
   "execution_count": 46,
   "metadata": {},
   "outputs": [],
   "source": [
    "# preprocessing: remove symbols, divide into tweets and labels\n",
    "tweets = [] # these arrays are aligned by index; tweet[i] has label[i]\n",
    "labels = []\n",
    "for tweet, label in zip(combined['HATE_SPEECH'].values(), combined['CLASS'].values()):\n",
    "    #print(str(label) + ': ' + tweet)\n",
    "    \n",
    "    #tweet_tokens = word_tokenize(tweet)\n",
    "    #if len(tweet_tokens) == 1:\n",
    "    #    continue # this one tweet messes things up later\n",
    "    #tweet = ' '.join(word.lower() for word in tweet_tokens if word.isalnum())\n",
    "\n",
    "    tweet = utils_preprocess_text(tweet)\n",
    "\n",
    "    tweets.append(tweet)\n",
    "    labels.append(label)\n"
   ]
  },
  {
   "cell_type": "code",
   "execution_count": 47,
   "metadata": {},
   "outputs": [],
   "source": [
    "target_types = ['Disabled', 'Jews', 'LGBT+', 'Migrants', 'Muslims', 'POC', 'Women', 'Other/Mixed', 'None']"
   ]
  },
  {
   "cell_type": "markdown",
   "metadata": {},
   "source": [
    "### Embeddings"
   ]
  },
  {
   "cell_type": "markdown",
   "metadata": {},
   "source": [
    "#### Tf-idf"
   ]
  },
  {
   "cell_type": "code",
   "execution_count": 48,
   "metadata": {},
   "outputs": [],
   "source": [
    "embedding = 'tfidf'"
   ]
  },
  {
   "cell_type": "code",
   "execution_count": 49,
   "metadata": {},
   "outputs": [],
   "source": [
    "\n",
    "#TF-IDF Features-F1\n",
    "# https://scikit-learn.org/stable/modules/generated/sklearn.feature_extraction.text.TfidfVectorizer.html\n",
    "# max and min are cutoffs for document frequency \n",
    "tfidf_vectorizer = TfidfVectorizer(ngram_range=(1, 2),\n",
    "                                   max_df = 0.75, min_df=5, \n",
    "                                   max_features=10000)\n",
    "\n",
    "# TF-IDF feature matrix\n",
    "docs = tfidf_vectorizer.fit_transform(tweets)"
   ]
  },
  {
   "cell_type": "code",
   "execution_count": 50,
   "metadata": {},
   "outputs": [],
   "source": [
    "with open('Models/Embeddings/tfidf_vectorizer', 'wb+') as f:\n",
    "    pickle.dump(tfidf_vectorizer, f)"
   ]
  },
  {
   "cell_type": "markdown",
   "metadata": {},
   "source": [
    "#### Doc2Vec"
   ]
  },
  {
   "cell_type": "code",
   "execution_count": 31,
   "metadata": {},
   "outputs": [],
   "source": [
    "from gensim.models.doc2vec import TaggedDocument\n",
    "from gensim.models import Doc2Vec"
   ]
  },
  {
   "cell_type": "code",
   "execution_count": 32,
   "metadata": {},
   "outputs": [],
   "source": [
    "embedding = 'd2v'"
   ]
  },
  {
   "cell_type": "code",
   "execution_count": 35,
   "metadata": {},
   "outputs": [
    {
     "data": {
      "text/plain": [
       "\"\\nfor id, val in multi_target.items():\\n    hate_text = val['HATE_SPEECH']\\n    \\n    # remove stopwords\\n    words = TaggedDocument([w.lower() for w in hate_text.split(' ') if w.isalnum() and not w in stop_words], [id])\\n    #words = TaggedDocument([w.lower() for w in hate_text.split(' ') if w.isalnum()], [id] )  # make lowercase, remove punctuation\\n    \\n    sents.append(words)\\n\""
      ]
     },
     "execution_count": 35,
     "metadata": {},
     "output_type": "execute_result"
    }
   ],
   "source": [
    "# clean data, format as TaggedDocument to work with Doc2Vec\n",
    "sents = []\n",
    "for id, tweet in enumerate(tweets):\n",
    "    words = TaggedDocument([w for w in tweet.split(' ') if not w in stop_words], [id])\n",
    "    sents.append(words)"
   ]
  },
  {
   "cell_type": "code",
   "execution_count": 38,
   "metadata": {},
   "outputs": [],
   "source": [
    "d2v_model = Doc2Vec(documents=sents, min_count=1, window=10, vector_size=100, sample=1e-4, negative=5, workers=8)"
   ]
  },
  {
   "cell_type": "code",
   "execution_count": 39,
   "metadata": {},
   "outputs": [],
   "source": [
    "num_epochs = 100\n",
    "d2v_model.train(corpus_iterable=sents, total_examples=d2v_model.corpus_count, epochs=num_epochs)\n",
    "\n",
    "save_name = f'd2v_{num_epochs}epochs_{d2v_model.vector_size}dim'\n",
    "d2v_model.save('Models/Embeddings/' + save_name)"
   ]
  },
  {
   "cell_type": "code",
   "execution_count": 42,
   "metadata": {},
   "outputs": [
    {
     "name": "stdout",
     "output_type": "stream",
     "text": [
      "foreigners on uk benefits leaps 41 in 5 years with over 400k now handed payouts this nonsense has got to stop\n",
      "69\n",
      "98.28548431396484% similar: foreigners on uk benefits leaps 41 in 5 years with over 400k now handed payouts this nonsense has got to stop\n",
      "104\n",
      "97.06794023513794% similar: foreigners on uk benefits leaps 41 in 5 years with over 400k now handed payouts this nonsense has got to stop\n",
      "84\n",
      "96.85047268867493% similar: foreigners on uk benefits leaps 41 in 5 years with over 400k now handed payouts this nonsense has got to stop\n",
      "6\n",
      "96.15724682807922% similar: foreigners on uk benefits leaps 41 in 5 years with over 400k now handed payouts this nonsense has got to stop\n",
      "118\n",
      "95.89678645133972% similar: foreigners on uk benefits leaps 41 in 5 years with over 400k now handed payouts this nonsense has got to stop\n",
      "74\n",
      "95.590078830719% similar: foreigners on uk benefits leaps 41 in 5 years with over 400k now handed payouts this nonsense has got to stop\n",
      "114\n",
      "93.96886229515076% similar: foreigners on uk benefits leaps 41 in 5 years with over 400k now handed payouts this nonsense has got to stop\n",
      "328\n",
      "90.06692171096802% similar: immigrants are entering the just to obtain welfare and other benefits\n",
      "488\n",
      "89.592045545578% similar: more than half of the prisoners in our jails are foreigners\n",
      "327\n",
      "89.54105377197266% similar: immigrants are entering the just to obtain welfare and other benefits\n"
     ]
    }
   ],
   "source": [
    "# find most similar tweets to given tweet\n",
    "tweet_index = 2\n",
    "most_similar = d2v_model.dv.most_similar(tweet_index)\n",
    "print(tweets[tweet_index])\n",
    "for (id, similarity) in most_similar:\n",
    "    print(id)\n",
    "    print(f'{similarity*100}% similar:', tweets[id])\n"
   ]
  },
  {
   "cell_type": "code",
   "execution_count": 43,
   "metadata": {},
   "outputs": [],
   "source": [
    "d2v_model = Doc2Vec.load('Models/Embeddings/d2v_100epochs_100dim')"
   ]
  },
  {
   "cell_type": "code",
   "execution_count": 44,
   "metadata": {},
   "outputs": [],
   "source": [
    "docs = [d2v_model.dv[i] for i in range(len(d2v_model.dv))]\n",
    "#print(docs)"
   ]
  },
  {
   "cell_type": "markdown",
   "metadata": {},
   "source": [
    "#### BERT"
   ]
  },
  {
   "cell_type": "markdown",
   "metadata": {},
   "source": [
    "Based on [this tutorial](https://towardsdatascience.com/build-a-bert-sci-kit-transformer-59d60ddd54a5)"
   ]
  },
  {
   "cell_type": "code",
   "execution_count": 107,
   "metadata": {},
   "outputs": [],
   "source": [
    "from transformers import BertTokenizer, BertModel\n",
    "import torch\n",
    "embedding = 'BERT'"
   ]
  },
  {
   "cell_type": "code",
   "execution_count": 108,
   "metadata": {},
   "outputs": [
    {
     "name": "stderr",
     "output_type": "stream",
     "text": [
      "Some weights of the model checkpoint at bert-base-uncased were not used when initializing BertModel: ['cls.seq_relationship.weight', 'cls.predictions.transform.dense.bias', 'cls.predictions.transform.dense.weight', 'cls.predictions.bias', 'cls.seq_relationship.bias', 'cls.predictions.decoder.weight', 'cls.predictions.transform.LayerNorm.bias', 'cls.predictions.transform.LayerNorm.weight']\n",
      "- This IS expected if you are initializing BertModel from the checkpoint of a model trained on another task or with another architecture (e.g. initializing a BertForSequenceClassification model from a BertForPreTraining model).\n",
      "- This IS NOT expected if you are initializing BertModel from the checkpoint of a model that you expect to be exactly identical (initializing a BertForSequenceClassification model from a BertForSequenceClassification model).\n"
     ]
    }
   ],
   "source": [
    "bert_tokenizer = BertTokenizer.from_pretrained(\"bert-base-uncased\")\n",
    "bert_model = BertModel.from_pretrained(\"bert-base-uncased\")"
   ]
  },
  {
   "cell_type": "code",
   "execution_count": 109,
   "metadata": {},
   "outputs": [
    {
     "name": "stdout",
     "output_type": "stream",
     "text": [
      "maybe the un could talk to those asian and african nations responsible for 90 of the pollution in the oceans instead of insisting on this bullshit about climate change\n",
      "maybe un could talk asian african nations responsible 90 pollution oceans instead insisting bullshit climate change\n"
     ]
    }
   ],
   "source": [
    "#sent = multi_target['0']['HATE_SPEECH']\n",
    "sent = tweets[0]\n",
    "print(sent)\n",
    "#sent = ' '.join([word for word in sent.split(' ') if word.isalnum() and not word in stop_words])\n",
    "sent = word_tokenize(sent)\n",
    "sent = ' '.join([word.lower() for word in sent if word.isalnum() and not word in stop_words])\n",
    "print(sent)"
   ]
  },
  {
   "cell_type": "code",
   "execution_count": 110,
   "metadata": {},
   "outputs": [],
   "source": [
    "remove_stopwords = False\n",
    "\n",
    "def get_sent_embedding(sent: str):\n",
    "    if remove_stopwords:\n",
    "        sent = ' '.join(word for word in sent.split() if not word in stop_words)\n",
    "    \n",
    "    tokenized = bert_tokenizer.encode_plus(sent, add_special_tokens=True)['input_ids']\n",
    "    attention = [1] * len(tokenized)\n",
    "\n",
    "    tokenized = torch.tensor(tokenized).unsqueeze(0)\n",
    "    attention = torch.tensor(attention).unsqueeze(0)\n",
    "\n",
    "    embedding = bert_model(tokenized, attention)\n",
    "    return embedding[0][:, 0, :].squeeze()\n",
    "\n",
    "with torch.no_grad():\n",
    "    embeddings = torch.stack([get_sent_embedding(tweet) for tweet in tweets])"
   ]
  },
  {
   "cell_type": "code",
   "execution_count": 111,
   "metadata": {},
   "outputs": [],
   "source": [
    "# save embeddings\n",
    "with open('Models/Embeddings/bert', 'wb+') as f:\n",
    "    pickle.dump(embeddings, f)"
   ]
  },
  {
   "cell_type": "code",
   "execution_count": null,
   "metadata": {},
   "outputs": [],
   "source": [
    "# load embeddings\n",
    "with open('Models/Embeddings/bert', 'rb') as f:\n",
    "    embeddings = pickle.load(f)"
   ]
  },
  {
   "cell_type": "code",
   "execution_count": 112,
   "metadata": {},
   "outputs": [],
   "source": [
    "docs = embeddings"
   ]
  },
  {
   "cell_type": "markdown",
   "metadata": {},
   "source": [
    "#### GLoVe"
   ]
  },
  {
   "cell_type": "code",
   "execution_count": 61,
   "metadata": {},
   "outputs": [],
   "source": [
    "embedding = 'glove'"
   ]
  },
  {
   "cell_type": "code",
   "execution_count": 62,
   "metadata": {},
   "outputs": [],
   "source": [
    "glove_path = 'Data/glove.6B.100d.txt'"
   ]
  },
  {
   "cell_type": "code",
   "execution_count": 63,
   "metadata": {},
   "outputs": [],
   "source": [
    "glove_embeddings = []\n",
    "word_to_index = defaultdict(lambda: -1) # return index -1 on key error \n",
    "with open(glove_path, 'r') as f:\n",
    "    for i, line in enumerate(f):\n",
    "        word, *vector = line.rstrip().split(' ')\n",
    "        vector = np.array([float(v) for v in vector])\n",
    "        glove_embeddings.append(vector)\n",
    "        word_to_index[word] = i"
   ]
  },
  {
   "cell_type": "code",
   "execution_count": 94,
   "metadata": {},
   "outputs": [],
   "source": [
    "# create an embedding for unknown words by averaging all glove embeddings in vocab file\n",
    "unknown_vec = np.mean(glove_embeddings, axis=0)"
   ]
  },
  {
   "cell_type": "code",
   "execution_count": 95,
   "metadata": {},
   "outputs": [],
   "source": [
    "glove_embeddings.append(unknown_vec)"
   ]
  },
  {
   "cell_type": "code",
   "execution_count": null,
   "metadata": {},
   "outputs": [],
   "source": [
    "remove_stopwords = False\n",
    "\n",
    "# simple average of each word embedding\n",
    "def get_sent_embedding(sent: str):\n",
    "    #sent = sent.lower()\n",
    "    #sent = word_tokenize(sent)\n",
    "    #print(sent)\n",
    "    # convert each word to index into glove embeddings list and\n",
    "    # remove stopwords if needed\n",
    "    sent_tokens = [word_to_index[word] for word in sent if (remove_stopwords and not word in stop_words) or not remove_stopwords]\n",
    "    #print(sent_tokens)\n",
    "    #sent_tokens = [i for i in sent_tokens if i != -1] # remove any words not in vocab\n",
    "    \n",
    "\n",
    "    sent_embedding = sum(glove_embeddings[i] for i in sent_tokens)/len(sent_tokens)\n",
    "    return sent_embedding\n",
    "\n",
    "#sent = multi_target['10']['HATE_SPEECH']\n",
    "sent = tweets[6908]\n",
    "print(sent)\n",
    "print(get_sent_embedding(sent))\n"
   ]
  },
  {
   "cell_type": "code",
   "execution_count": null,
   "metadata": {},
   "outputs": [],
   "source": [
    "docs = [get_sent_embedding(tweet) for tweet in tweets]"
   ]
  },
  {
   "cell_type": "markdown",
   "metadata": {},
   "source": [
    "### Training"
   ]
  },
  {
   "cell_type": "code",
   "execution_count": 51,
   "metadata": {},
   "outputs": [],
   "source": [
    "X = docs\n",
    "y = labels\n",
    "X_train, X_test, y_train, y_test = train_test_split(X, y, random_state=42, test_size=0.2)"
   ]
  },
  {
   "cell_type": "markdown",
   "metadata": {},
   "source": [
    "#### Logistic Regression"
   ]
  },
  {
   "cell_type": "code",
   "execution_count": 52,
   "metadata": {},
   "outputs": [
    {
     "name": "stdout",
     "output_type": "stream",
     "text": [
      "              precision    recall  f1-score   support\n",
      "\n",
      "           0       1.00      0.76      0.87        55\n",
      "           1       0.98      0.92      0.95       128\n",
      "           2       0.97      0.82      0.89       112\n",
      "           3       0.94      0.97      0.95       186\n",
      "           4       0.95      0.96      0.95       273\n",
      "           5       0.98      0.77      0.87        79\n",
      "           6       0.97      0.95      0.96       117\n",
      "           7       1.00      0.41      0.58        59\n",
      "           8       0.91      1.00      0.95       825\n",
      "\n",
      "    accuracy                           0.94      1834\n",
      "   macro avg       0.97      0.84      0.89      1834\n",
      "weighted avg       0.94      0.94      0.93      1834\n",
      "\n",
      "Logistic Regression Train accuracy 96.181%\n",
      "Logistic Regression Test accuracy 93.511%\n",
      "Confusion matrix: \n",
      "[[ 42   0   2   0   0   1   1   0   9]\n",
      " [  0 118   0   0   0   0   0   0  10]\n",
      " [  0   0  92   0   2   0   3   0  15]\n",
      " [  0   0   0 180   2   0   0   0   4]\n",
      " [  0   0   0   4 262   0   0   0   7]\n",
      " [  0   0   0   1   0  61   0   0  17]\n",
      " [  0   0   0   0   0   0 111   0   6]\n",
      " [  0   2   1   7  10   0   0  24  15]\n",
      " [  0   0   0   0   0   0   0   0 825]]\n"
     ]
    }
   ],
   "source": [
    "model = LogisticRegression(max_iter=1000).fit(X_train, y_train)\n",
    "y_preds = model.predict(X_test)\n",
    "report = classification_report(y_test, y_preds)\n",
    "print(report)\n",
    "acc = accuracy_score(y_test, y_preds)\n",
    "mod_train = model.score(X_train, y_train) \n",
    "\n",
    "print('Logistic Regression Train accuracy {:.3f}%'.format(mod_train * 100)) \n",
    "print('Logistic Regression Test accuracy {:.3f}%'.format(acc * 100)) \n",
    "\n",
    "confusion = confusion_matrix(y_test, y_preds)\n",
    "print('Confusion matrix: ')\n",
    "print(confusion) "
   ]
  },
  {
   "cell_type": "code",
   "execution_count": 52,
   "metadata": {},
   "outputs": [
    {
     "name": "stdout",
     "output_type": "stream",
     "text": [
      "0 : 220\n",
      "1 : 594\n",
      "2 : 617\n",
      "3 : 957\n",
      "4 : 1335\n",
      "5 : 352\n",
      "6 : 662\n",
      "7 : 266\n",
      "8 : 4163\n"
     ]
    }
   ],
   "source": [
    "for i in range(9):\n",
    "    print(i, ':', labels.count(i))"
   ]
  },
  {
   "cell_type": "code",
   "execution_count": 116,
   "metadata": {},
   "outputs": [
    {
     "data": {
      "text/plain": [
       "<AxesSubplot:>"
      ]
     },
     "execution_count": 116,
     "metadata": {},
     "output_type": "execute_result"
    },
    {
     "data": {
      "image/png": "[encoded data removed]",
      "text/plain": [
       "<Figure size 432x288 with 2 Axes>"
      ]
     },
     "metadata": {
      "needs_background": "light"
     },
     "output_type": "display_data"
    }
   ],
   "source": [
    "sns.heatmap(confusion, annot=True, xticklabels=target_types, yticklabels=target_types)"
   ]
  },
  {
   "cell_type": "code",
   "execution_count": 53,
   "metadata": {},
   "outputs": [],
   "source": [
    "with open(f'Models/MultiClassifier/LR_model_{embedding}_report.txt', 'a') as f:\n",
    "    f.write(report)\n",
    "    f.write('Logistic Regression Train accuracy {:.3f}%\\n'.format(mod_train * 100)) \n",
    "    f.write('Logistic Regression Test accuracy {:.3f}%\\n'.format(acc * 100)) \n",
    "\n",
    "    if embedding == 'd2v':\n",
    "        f.write('\\n')\n",
    "        f.write('d2v info:\\n')\n",
    "        f.write('  Epochs: {}\\n'.format(d2v_model.epochs))\n",
    "        f.write('  Dimensions: {}\\n'.format(d2v_model.vector_size))\n",
    "    f.write('\\n')\n"
   ]
  },
  {
   "cell_type": "code",
   "execution_count": 54,
   "metadata": {},
   "outputs": [],
   "source": [
    "with open(f'Models/MultiClassifier/LR_model_{embedding}', 'wb+') as f:\n",
    "    pickle.dump(model, f)"
   ]
  },
  {
   "cell_type": "markdown",
   "metadata": {},
   "source": [
    "#### Random Forest"
   ]
  },
  {
   "cell_type": "code",
   "execution_count": 118,
   "metadata": {},
   "outputs": [
    {
     "name": "stdout",
     "output_type": "stream",
     "text": [
      "              precision    recall  f1-score   support\n",
      "\n",
      "           0       1.00      0.67      0.80        55\n",
      "           1       0.98      0.85      0.91       128\n",
      "           2       0.93      0.84      0.88       111\n",
      "           3       0.82      0.94      0.87       185\n",
      "           4       0.89      0.97      0.93       269\n",
      "           5       0.94      0.62      0.75        79\n",
      "           6       0.91      0.91      0.91       115\n",
      "           7       0.97      0.53      0.68        59\n",
      "           8       0.95      1.00      0.97       832\n",
      "\n",
      "    accuracy                           0.92      1833\n",
      "   macro avg       0.93      0.81      0.86      1833\n",
      "weighted avg       0.93      0.92      0.92      1833\n",
      "\n",
      "Random Forest Train accuracy 99.932%\n",
      "Random Forest Test accuracy 92.144%\n",
      "Confusion matrix: \n",
      "[[ 37   0   1   6   0   0   4   1   6]\n",
      " [  0 109   3   2   7   1   1   0   5]\n",
      " [  0   0  93   6   2   0   3   0   7]\n",
      " [  0   0   0 174   4   1   0   0   6]\n",
      " [  0   0   0   5 260   0   0   0   4]\n",
      " [  0   1   2   8   7  49   3   0   9]\n",
      " [  0   0   0   2   1   0 105   0   7]\n",
      " [  0   1   1  10  11   1   0  31   4]\n",
      " [  0   0   0   0   1   0   0   0 831]]\n"
     ]
    }
   ],
   "source": [
    "RF = RandomForestClassifier()\n",
    "RF.fit(X_train,y_train)\n",
    "y_preds = RF.predict(X_test)\n",
    "report = classification_report(y_test, y_preds)\n",
    "acc = accuracy_score(y_test, y_preds)\n",
    "RF_train = RF.score(X_train, y_train) \n",
    "\n",
    "print(report)\n",
    "\n",
    "print('Random Forest Train accuracy {:.3f}%'.format(RF_train * 100)) \n",
    "print('Random Forest Test accuracy {:.3f}%'.format(acc * 100)) \n",
    "\n",
    "confusion = confusion_matrix(y_test, y_preds)\n",
    "print('Confusion matrix: ')\n",
    "print(confusion) "
   ]
  },
  {
   "cell_type": "code",
   "execution_count": 55,
   "metadata": {},
   "outputs": [
    {
     "data": {
      "text/plain": [
       "<AxesSubplot:>"
      ]
     },
     "execution_count": 55,
     "metadata": {},
     "output_type": "execute_result"
    },
    {
     "data": {
      "image/png": "[encoded data removed]",
      "text/plain": [
       "<Figure size 432x288 with 2 Axes>"
      ]
     },
     "metadata": {
      "needs_background": "light"
     },
     "output_type": "display_data"
    }
   ],
   "source": [
    "sns.heatmap(confusion, annot=True, xticklabels=target_types, yticklabels=target_types)"
   ]
  },
  {
   "cell_type": "code",
   "execution_count": 119,
   "metadata": {},
   "outputs": [],
   "source": [
    "with open(f'Models/MultiClassifier/RF_model_{embedding}_report.txt', 'a') as f:\n",
    "    f.write(report)\n",
    "    f.write('Random Forest Train accuracy {:.3f}%\\n'.format(RF_train * 100)) \n",
    "    f.write('Random Forest Test accuracy {:.3f}%\\n'.format(acc * 100)) \n",
    "\n",
    "    if embedding == 'd2v':\n",
    "        f.write('\\n')\n",
    "        f.write('d2v info:\\n')\n",
    "        f.write('  Epochs: {}\\n'.format(d2v_model.epochs))\n",
    "        f.write('  Dimensions: {}\\n'.format(d2v_model.vector_size))\n",
    "    f.write('\\n')"
   ]
  },
  {
   "cell_type": "markdown",
   "metadata": {},
   "source": [
    "#### Naive Bayes"
   ]
  },
  {
   "cell_type": "code",
   "execution_count": 120,
   "metadata": {},
   "outputs": [
    {
     "name": "stdout",
     "output_type": "stream",
     "text": [
      "              precision    recall  f1-score   support\n",
      "\n",
      "           0       0.96      0.80      0.87        55\n",
      "           1       0.91      0.84      0.87       128\n",
      "           2       0.90      0.77      0.83       111\n",
      "           3       0.84      0.86      0.85       185\n",
      "           4       0.94      0.80      0.86       269\n",
      "           5       0.75      0.73      0.74        79\n",
      "           6       0.95      0.88      0.91       115\n",
      "           7       0.22      0.47      0.30        59\n",
      "           8       0.96      0.97      0.97       832\n",
      "\n",
      "    accuracy                           0.88      1833\n",
      "   macro avg       0.83      0.79      0.80      1833\n",
      "weighted avg       0.90      0.88      0.89      1833\n",
      "\n",
      "Naive Bayes Train accuracy 99.645%\n",
      "Naive Bayes Test accuracy 87.670%\n",
      "Confusion matrix: \n",
      "[[ 44   0   0   2   0   1   0   5   3]\n",
      " [  0 107   0   1   1   3   0  10   6]\n",
      " [  1   3  85   5   0   3   2   5   7]\n",
      " [  0   2   0 159   2   3   0  13   6]\n",
      " [  0   2   2   7 214   1   0  41   2]\n",
      " [  1   1   0   4   1  58   2   9   3]\n",
      " [  0   0   4   2   0   0 101   5   3]\n",
      " [  0   2   1   8   8   4   1  28   7]\n",
      " [  0   0   2   1   1   4   0  13 811]]\n"
     ]
    }
   ],
   "source": [
    "nb = GaussianNB()\n",
    "nb.fit(X_train, y_train)\n",
    "y_preds = nb.predict(X_test)\n",
    "report = classification_report(y_test, y_preds)\n",
    "acc2 = accuracy_score(y_test, y_preds)\n",
    "mod_train2 = model.score(X_train, y_train) \n",
    "\n",
    "print(report)\n",
    "\n",
    "print('Naive Bayes Train accuracy {:.3f}%'.format(mod_train2 * 100)) \n",
    "print('Naive Bayes Test accuracy {:.3f}%'.format(acc2 * 100)) \n",
    "\n",
    "print('Confusion matrix: ')\n",
    "print(confusion_matrix(y_test, y_preds)) "
   ]
  },
  {
   "cell_type": "code",
   "execution_count": 121,
   "metadata": {},
   "outputs": [],
   "source": [
    "with open(f'Models/MultiClassifier/NB_model_{embedding}_report.txt', 'a') as f:\n",
    "    f.write(report)\n",
    "    f.write('Naive Bayes Train accuracy {:.3f}%\\n'.format(RF_train * 100)) \n",
    "    f.write('Naive Bayes Test accuracy {:.3f}%\\n'.format(acc * 100)) \n",
    "\n",
    "    if embedding == 'd2v':\n",
    "        f.write('\\n')\n",
    "        f.write('d2v info:\\n')\n",
    "        f.write('  Epochs: {}\\n'.format(d2v_model.epochs))\n",
    "        f.write('  Dimensions: {}\\n'.format(d2v_model.vector_size))\n",
    "    f.write('\\n')"
   ]
  }
 ],
 "metadata": {
  "kernelspec": {
   "display_name": "Python 3 (ipykernel)",
   "language": "python",
   "name": "python3"
  },
  "language_info": {
   "codemirror_mode": {
    "name": "ipython",
    "version": 3
   },
   "file_extension": ".py",
   "mimetype": "text/x-python",
   "name": "python",
   "nbconvert_exporter": "python",
   "pygments_lexer": "ipython3",
   "version": "3.6.8"
  }
 },
 "nbformat": 4,
 "nbformat_minor": 4
}
