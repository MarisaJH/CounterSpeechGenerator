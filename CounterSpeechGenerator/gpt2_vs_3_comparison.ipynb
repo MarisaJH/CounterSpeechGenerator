{
 "cells": [
  {
   "cell_type": "code",
   "execution_count": 6,
   "metadata": {},
   "outputs": [],
   "source": [
    "import pandas as pd\n",
    "import numpy as np\n",
    "from CounterSpeechGenerator import process_train_data"
   ]
  },
  {
   "cell_type": "markdown",
   "metadata": {},
   "source": [
    "Setting up an example: list of hate speech, list of \"gpt2\" counterspeech, list of \"gpt3\" counterspeech (not actually, just pretending)"
   ]
  },
  {
   "cell_type": "code",
   "execution_count": 4,
   "metadata": {},
   "outputs": [],
   "source": [
    "hs_cs_pairs, targets = process_train_data()"
   ]
  },
  {
   "cell_type": "code",
   "execution_count": 5,
   "metadata": {},
   "outputs": [],
   "source": [
    "hatespeech = [hs for (hs, _, _) in hs_cs_pairs]\n",
    "counterspeech = [cs for (_, cs, _) in hs_cs_pairs]"
   ]
  },
  {
   "cell_type": "code",
   "execution_count": 7,
   "metadata": {},
   "outputs": [],
   "source": [
    "hatespeech = np.array(hatespeech)"
   ]
  },
  {
   "cell_type": "code",
   "execution_count": 8,
   "metadata": {},
   "outputs": [],
   "source": [
    "unique, counts = np.unique(hatespeech, return_counts=True)\n",
    "duplicates = unique[counts > 1]"
   ]
  },
  {
   "cell_type": "code",
   "execution_count": 10,
   "metadata": {},
   "outputs": [],
   "source": [
    "duplicates = duplicates[:5]"
   ]
  },
  {
   "cell_type": "code",
   "execution_count": 22,
   "metadata": {},
   "outputs": [],
   "source": [
    "hatespeeches = []\n",
    "target_labels = []\n",
    "gpt2_counterspeech = []\n",
    "gpt3_counterspeech = []"
   ]
  },
  {
   "cell_type": "code",
   "execution_count": 23,
   "metadata": {},
   "outputs": [],
   "source": [
    "for hs in duplicates:\n",
    "    indices = np.where(hatespeech == hs)[0]\n",
    "    cs1 = counterspeech[indices[0]]\n",
    "    cs2 = counterspeech[indices[1]]\n",
    "    target_labels.append(targets[indices[0]])\n",
    "    hatespeeches.append(hs)\n",
    "    gpt2_counterspeech.append(cs1)\n",
    "    gpt3_counterspeech.append(cs2)"
   ]
  },
  {
   "cell_type": "code",
   "execution_count": 24,
   "metadata": {},
   "outputs": [
    {
     "data": {
      "text/plain": [
       "['99% of Muslims in the UK are unemployable and refuse to work.',\n",
       " \"A Muslim's only real allegiance is to Allah (as a comment in relation to election for public office etc.)\",\n",
       " 'According to the Bible, then gays are an abomination to God.',\n",
       " 'Afghanistan or maybe Pakistan? I bet this does not look like an English town to you? #saville Town (Text accompanying video footage of people on their way to Friday prayers etc. )',\n",
       " 'Africans are the cause of all the ills in the world. Plus, their bodies are weak and we are born to dominate them.']"
      ]
     },
     "execution_count": 24,
     "metadata": {},
     "output_type": "execute_result"
    }
   ],
   "source": [
    "hatespeeches"
   ]
  },
  {
   "cell_type": "code",
   "execution_count": 25,
   "metadata": {},
   "outputs": [
    {
     "data": {
      "text/plain": [
       "['MUSLIMS', 'MUSLIMS', 'LGBT+', 'MUSLIMS', 'POC']"
      ]
     },
     "execution_count": 25,
     "metadata": {},
     "output_type": "execute_result"
    }
   ],
   "source": [
    "target_labels"
   ]
  },
  {
   "cell_type": "code",
   "execution_count": 26,
   "metadata": {},
   "outputs": [
    {
     "data": {
      "text/plain": [
       "['That is a blatant lie. (attach unemployment statistics)',\n",
       " 'So their faith and belief in the teachings of God guides them to a virtuous path of public service. What exactly are you complaining about?',\n",
       " 'The Bible clearly teaches that everyone is born equal in dignity with the Lord.',\n",
       " 'Small groups of people peacefully gather to pray, but because they do not look like you, you are outraged? Why am I not surprised?',\n",
       " \"Aree you suggesting that we shouldn't live with Africans? To think that we are genetically superior to them because of their physical characteristics is just wrong.\"]"
      ]
     },
     "execution_count": 26,
     "metadata": {},
     "output_type": "execute_result"
    }
   ],
   "source": [
    "gpt2_counterspeech"
   ]
  },
  {
   "cell_type": "code",
   "execution_count": 27,
   "metadata": {},
   "outputs": [
    {
     "data": {
      "text/plain": [
       "['The vast majority of them bring necessary skills into our economy/society. Plus, they are eager to work. I would suggest to check your sources?',\n",
       " 'So you are saying that we should only allow non-religious people into public office?',\n",
       " \"Homosexuality has been practiced throughout history in all major civilizations. It is just that today's people accept homosexuality as normal and accept people of other backgrounds too.\",\n",
       " 'Omg brown people contributing to our society. How dare they!?',\n",
       " 'Well, the argument sounds like you are trying to justify racial hatred by making some generalisations. Is that the case?']"
      ]
     },
     "execution_count": 27,
     "metadata": {},
     "output_type": "execute_result"
    }
   ],
   "source": [
    "gpt3_counterspeech"
   ]
  },
  {
   "cell_type": "markdown",
   "metadata": {},
   "source": [
    "Creating a df comparing the generated responses:"
   ]
  },
  {
   "cell_type": "code",
   "execution_count": 29,
   "metadata": {},
   "outputs": [],
   "source": [
    "data = {}\n",
    "for i, hs in enumerate(hatespeeches):\n",
    "    target = target_labels[i]\n",
    "    if np.random.random() < 0.5:\n",
    "        model1_cs = gpt2_counterspeech[i]\n",
    "        model2_cs = gpt3_counterspeech[i]\n",
    "        model1_is_gpt2 = True\n",
    "    else:\n",
    "        model2_cs = gpt2_counterspeech[i]\n",
    "        model1_cs = gpt3_counterspeech[i]\n",
    "        model1_is_gpt2 = False\n",
    "    data[i] = {\n",
    "        'Hatespeech': hs,\n",
    "        'Target': target,\n",
    "        'Model 1 CS': model1_cs,\n",
    "        'Model 2 CS': model2_cs,\n",
    "        'Model 1 is GPT2': model1_is_gpt2\n",
    "    }"
   ]
  },
  {
   "cell_type": "code",
   "execution_count": 30,
   "metadata": {},
   "outputs": [
    {
     "data": {
      "text/plain": [
       "{0: {'Hatespeech': '99% of Muslims in the UK are unemployable and refuse to work.',\n",
       "  'Target': 'MUSLIMS',\n",
       "  'Model 1 CS': 'The vast majority of them bring necessary skills into our economy/society. Plus, they are eager to work. I would suggest to check your sources?',\n",
       "  'Model 2 CS': 'That is a blatant lie. (attach unemployment statistics)',\n",
       "  'Model 1 is GPT2': False},\n",
       " 1: {'Hatespeech': \"A Muslim's only real allegiance is to Allah (as a comment in relation to election for public office etc.)\",\n",
       "  'Target': 'MUSLIMS',\n",
       "  'Model 1 CS': 'So their faith and belief in the teachings of God guides them to a virtuous path of public service. What exactly are you complaining about?',\n",
       "  'Model 2 CS': 'So you are saying that we should only allow non-religious people into public office?',\n",
       "  'Model 1 is GPT2': True},\n",
       " 2: {'Hatespeech': 'According to the Bible, then gays are an abomination to God.',\n",
       "  'Target': 'LGBT+',\n",
       "  'Model 1 CS': \"Homosexuality has been practiced throughout history in all major civilizations. It is just that today's people accept homosexuality as normal and accept people of other backgrounds too.\",\n",
       "  'Model 2 CS': 'The Bible clearly teaches that everyone is born equal in dignity with the Lord.',\n",
       "  'Model 1 is GPT2': False},\n",
       " 3: {'Hatespeech': 'Afghanistan or maybe Pakistan? I bet this does not look like an English town to you? #saville Town (Text accompanying video footage of people on their way to Friday prayers etc. )',\n",
       "  'Target': 'MUSLIMS',\n",
       "  'Model 1 CS': 'Omg brown people contributing to our society. How dare they!?',\n",
       "  'Model 2 CS': 'Small groups of people peacefully gather to pray, but because they do not look like you, you are outraged? Why am I not surprised?',\n",
       "  'Model 1 is GPT2': False},\n",
       " 4: {'Hatespeech': 'Africans are the cause of all the ills in the world. Plus, their bodies are weak and we are born to dominate them.',\n",
       "  'Target': 'POC',\n",
       "  'Model 1 CS': 'Well, the argument sounds like you are trying to justify racial hatred by making some generalisations. Is that the case?',\n",
       "  'Model 2 CS': \"Aree you suggesting that we shouldn't live with Africans? To think that we are genetically superior to them because of their physical characteristics is just wrong.\",\n",
       "  'Model 1 is GPT2': False}}"
      ]
     },
     "execution_count": 30,
     "metadata": {},
     "output_type": "execute_result"
    }
   ],
   "source": [
    "data"
   ]
  },
  {
   "cell_type": "code",
   "execution_count": 31,
   "metadata": {},
   "outputs": [],
   "source": [
    "df = pd.DataFrame(data)"
   ]
  },
  {
   "cell_type": "code",
   "execution_count": 34,
   "metadata": {},
   "outputs": [],
   "source": [
    "df = df.T"
   ]
  },
  {
   "cell_type": "markdown",
   "metadata": {},
   "source": [
    "Write to excel file:"
   ]
  },
  {
   "cell_type": "code",
   "execution_count": 35,
   "metadata": {},
   "outputs": [],
   "source": [
    "df.to_excel('gpt_comparison.xlsx')"
   ]
  }
 ],
 "metadata": {
  "interpreter": {
   "hash": "31f2aee4e71d21fbe5cf8b01ff0e069b9275f58929596ceb00d14d90e3e16cd6"
  },
  "kernelspec": {
   "display_name": "Python 3.6.8 64-bit",
   "language": "python",
   "name": "python3"
  },
  "language_info": {
   "codemirror_mode": {
    "name": "ipython",
    "version": 3
   },
   "file_extension": ".py",
   "mimetype": "text/x-python",
   "name": "python",
   "nbconvert_exporter": "python",
   "pygments_lexer": "ipython3",
   "version": "3.6.8"
  },
  "orig_nbformat": 4
 },
 "nbformat": 4,
 "nbformat_minor": 2
}
