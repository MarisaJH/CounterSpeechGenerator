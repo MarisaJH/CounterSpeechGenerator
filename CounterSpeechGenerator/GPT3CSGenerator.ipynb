{
 "cells": [
  {
   "cell_type": "code",
   "execution_count": 68,
   "metadata": {},
   "outputs": [],
   "source": [
    "import json\n",
    "import torch\n",
    "import numpy as np\n",
    "from typing import List\n",
    "from CounterSpeechGenerator import process_train_data"
   ]
  },
  {
   "cell_type": "code",
   "execution_count": 2,
   "metadata": {},
   "outputs": [],
   "source": [
    "import openai\n",
    "openai.api_base = \"https://api.goose.ai/v1\"\n",
    "\n",
    "with open('openai_key.txt', 'r') as f:\n",
    "    openai.api_key = f.read().rstrip()"
   ]
  },
  {
   "cell_type": "code",
   "execution_count": 3,
   "metadata": {},
   "outputs": [],
   "source": [
    "# read in training data\n",
    "hs_cs_pairs, targets = process_train_data()"
   ]
  },
  {
   "cell_type": "code",
   "execution_count": 4,
   "metadata": {},
   "outputs": [],
   "source": [
    "engine = 'gpt-neo-20b' #\"gpt-j-6b\"\n",
    "max_tok = 100"
   ]
  },
  {
   "cell_type": "code",
   "execution_count": 14,
   "metadata": {},
   "outputs": [],
   "source": [
    "targets = np.array(targets)"
   ]
  },
  {
   "cell_type": "markdown",
   "metadata": {},
   "source": [
    "Example for testing purposes:"
   ]
  },
  {
   "cell_type": "code",
   "execution_count": 222,
   "metadata": {},
   "outputs": [
    {
     "name": "stdout",
     "output_type": "stream",
     "text": [
      "Since when has abusing the anus as a sex organ been a ‘monumental achievement’? THIS IS STATE ENFORCED HOMOSEXUALITY! Maybe we should change our motto to ‘In Usury and Sodomy we trust (In reply to Botswana decriminalising homosexuality) To recognise and accept others isn't state enforcement. It's just stating that we should stop the persecusion of people who have different private lifes. LGBT+\n"
     ]
    }
   ],
   "source": [
    "ex_indx = 126\n",
    "ex_hs = hs_cs_pairs[ex_indx][0]\n",
    "ex_cs = hs_cs_pairs[ex_indx][1]\n",
    "target = targets[ex_indx]\n",
    "print(ex_hs, ex_cs, target)"
   ]
  },
  {
   "cell_type": "code",
   "execution_count": 50,
   "metadata": {},
   "outputs": [],
   "source": [
    "from transformers import PreTrainedTokenizerFast\n",
    "gpt_tokenizer = PreTrainedTokenizerFast(tokenizer_file=\"20B_tokenizer.json\")"
   ]
  },
  {
   "cell_type": "code",
   "execution_count": 57,
   "metadata": {},
   "outputs": [],
   "source": [
    "ex_hs = \"democrat: Susan B. Anthony was born 200 years ago in a country where few women or people of color dared to give political speeches on public platforms and that had no national voting rights for women. Both straight and queer women were often pressured into marriage when it was against their wishes. Women who did manage to remain single \\u2013 or who formed partnerships with other women \\u2013 were typically pitied or scorned. She worked tirelessly for most of her long life to demand racial and gender equality and her lesbian attractions only fueled her struggle against the patriarchal system she abhorred. Related: How lesbianism was turned into a problem a century ago Anthony was the mastermind \\u2013 more than a hundred years before ACT UP \\u2013 of a protest that had women storming polling places during the 1872 presidential election to insist they be allowed to vote. After the Civil War, African-American men had been granted the national right to vote to the exclusion of women. Anthony never married or had a serious relationship with a man. As a teenager, she prophetically confessed to her diary, in 1838, \\u201cI think any female would rather live and die an old maid.\\u201d She continued to make pronouncements that coyly hinted at her lesbian orientation. In an 1896 interview, she told the reporter, \\u201cI was very well as I was\\u2026I\\u2019m sure no man could have made me any happier than I have been.\\u201d When pressed by journalists, throughout her long life in the media spotlight, she stagecrafted a role for herself of not being able to find the right man. But the real reason she remained \\u201csingle\\u201d was that her amorous desires and emotional needs were only fulfilled by women. The youthful lesbian orator Anna Dickinson, hailed as \\u201cAmerica\\u2019s Joan of Arc\\u201d during the Civil War for rallying the war-weary Union forces to victory with her fiery speeches, became the target of Anthony\\u2019s affections in the 1860s. Dickinson was catapulted to national fame as the first woman to give a full-length political speech before Congress and her motto, which appeared on some of her publicity photos, was \\u201cThe World belongs to those who take it.\\u201d Dickinson\\u2019s trailblazing achievements, acerbic wit, youthful queer energy and \\u201chandsome beauty\\u201d enraptured Anthony. Dickinson saved personal letters from Anthony that candidly indicate physical desire. Anthony flirtatiously describes her longing to spend time with the \\u201cnaughty tease\\u201d Anna. \\u201dI invite you to come to me here and sleep with me in my fourth story bed room at Mrs. Stanton\\u2019s ever so many nights,\\u201d she wrote.\\u201d To snuggle you darling closer than ever.\\u201d Anthony\\u2019s feelings of sensual anticipation reveal a woman who is very much flesh and blood. \\u201cDear Dicky Darling\\u2026I have plain quarters\\u2026double bed \\u2013 and big enough & good enough to take you in. I do so long for the scolding & pinched ears & every thing I know awaits me.\\u201d The relationship cooled off by the early 1870s. Dickinson would go on to have a series of girlfriends over the years and finally settled into a 30+ year relationship with a married woman, Sallie Ackley. The rather bemused Mr. Ackley didn\\u2019t seem to mind the living arrangement. But Anthony retained a maternal or sisterly affection for the younger Dickinson and kept mentioning her in interviews, as the decades passed. Anthony even volunteered to help solicit funds for Dickinson when she fell on hard times. In a touching 1895 letter, Anthony wrote, \\u201cMy Darling Anna\\u2026I\\u2019m awfully glad to know you still live\\u2026[no one] ever has or ever will fill the niche in my heart that you did\\u2013my dear.\\u201d The theme of wistful reminiscence characterizes another striking comment Susan B. Anthony made later in life when discussing her lesbian niece, Lucy Anthony. Lucy\\u2019s life-partner was the brilliant orator and activist Rev. Anna Howard Shaw, who eventually took over the presidency of the suffrage movement and expanded public support for it. But Anthony retained a maternal or sisterly affection for the younger Dickinson and kept mentioning her in interviews, as the decades passed. Anthony even volunteered to help solicit funds for Dickinson when she fell on hard times. In a touching 1895 letter, Anthony wrote, \\u201cMy Darling Anna\\u2026I\\u2019m awfully glad to know you still live\\u2026[no one] ever has or ever will fill the niche in my heart that you did\\u2013my dear.\\u201d The theme of wistful reminiscence characterizes another striking comment Susan B. Anthony made later in life when discussing her lesbian niece, Lucy Anthony. Lucy\\u2019s life-partner was the brilliant orator and activist Rev. Anna Howard Shaw, who eventually took over the presidency of the suffrage movement and expanded public support for it. Susan wrote, \\u201dI wanted what I feared I shouldn\\u2019t find, that is a young woman who would be to me\\u2013every way\\u2013what she [Lucy] is to the Rev. Anna Shaw.\\u201d Clearly, Susan B. Anthony was happy for her queer-blended extended family. It was \\u201cniece-in-law\\u201d Shaw who was Susan Anthony\\u2019s appointed spiritual heir, in one of the most moving and significant deathbed vigils of American \\u201cherstory.\\u201d Anthony drifted in and out of consciousness as the end drew near. Shaw tried her best to comfort the dying activist with a solemn promise to do everything in her power to get the vote. The scene was an emotional \\u201clast-rites\\u201d passing of the suffrage leadership torch, from one lesbian to another. Anthony\\u2019s only regret was that she hadn\\u2019t been able to sustain an enduring lesbian union like that of Lucy Anthony and Shaw. The two life-partners created homes together and lived together and were devoted to one another till Shaw\\u2019s death in 1919, as the country stood on the cusp of national woman suffrage. Anna Shaw kept her promise. Anthony did develop a passionate queer relationship, however, in her last years with Emily Gross, a married woman who lived in Chicago. They visited each other and traveled together. Anthony referred to Gross as her \\u201clover.\\u201d Why have most historians straightwashed Anthony? Why has popular culture not fully acknowledged the de facto queer-straight alliance of women who worked in \\u201copen secrecy\\u201d in the gender revolution that was the suffrage movement? Many generally acknowledge the toxic dishonesty of white supremacy and male supremacy in historical writing. But straight supremacy, especially the erasure of queer human beings in pre-World War II historical commentary, is still prevalent. My husband and I visited Anthony\\u2019s house in Rochester, New York, last summer. I vigorously protested the dreary straightwashed tour of her life being presented, but was made to feel like a troublemaking queer in Anthony\\u2019s own home for challenging the guide and asking questions. \\u201cWhat difference does that make?!,\\u201d the tour guide snapped as she told me that the feminist icon was straight. I persevered and attempted to talk to the staff members who were there, all of whom seemed resistant and condescending. We left disheartened and triggered to recall sad memories of our own \\u201ccloseted\\u201d educations. I later had a long phone conversation with the president of the museum. She reached out to me after the unfortunate incident and seemed sympathetic. She patiently listened and said she wanted to hear everything I had to say, restoring my hope that the museum might evolve to forthrightly embrace the many queer figures of Anthony\\u2019s coterie. It\\u2019s troubling that our cultural institutions don\\u2019t do enough to take the initiative without being prodded to educate their staff to present queer history willingly and to respond without bigotry to questions about it. The \\u201cstraight-supremacist flinch\\u201d is a homophobic kneejerk reaction that needs to be discarded. Where are the scholars and documentarians who will tell the truth and convey it compellingly to a mass audience? Why do some modern academics continue to render lesbians invisible and refuse to use the word lesbian to describe women of earlier eras, not realizing how absurd these ivory-tower practices are? If lesbians and gays are defined as predominantly romantically attracted to their own sex, then they\\u2019ve existed in various cultural settings throughout history and Anthony was obviously a lesbian. If I had learned the truth about the many magnificent contributions of queer folks like Anthony, Dickinson and Shaw, to US history \\u2013 if I had known that LGBTQ history is an integral part of global history \\u2013 my childhood would have been different. If we collectively continue to erase Anthony\\u2019s queerness and only vaguely say things like \\u201cshe never married a man,\\u201d then what we\\u2019ll continue to churn out is the same old dishonest straight-supremacist crap. History \\u2013 what people did and how they\\u2019re remembered \\u2013 is power. And LGBTQ people have had the power of history taken from them for far too long. Celebrate Susan B. Anthony as the queer, multi-dimensional, intersectional equality goddess she was. She worked with other progressives to sow and fertilize the seeds of a national and global gender revolution. She wanted queer and straight women to have the unfettered liberty to develop their own genuine ways of being and to make their own choices.I\""
   ]
  },
  {
   "cell_type": "code",
   "execution_count": 58,
   "metadata": {},
   "outputs": [],
   "source": [
    "target = 'WOMEN'"
   ]
  },
  {
   "cell_type": "code",
   "execution_count": 59,
   "metadata": {},
   "outputs": [],
   "source": [
    "target_indices = np.where(targets == target)[0]\n",
    "example_indices = np.random.choice(target_indices, 7)"
   ]
  },
  {
   "cell_type": "code",
   "execution_count": 60,
   "metadata": {},
   "outputs": [],
   "source": [
    "example_pairs = [hs_cs_pairs[i] for i in example_indices]"
   ]
  },
  {
   "cell_type": "code",
   "execution_count": 61,
   "metadata": {},
   "outputs": [
    {
     "name": "stdout",
     "output_type": "stream",
     "text": [
      "Women need to accept that they are weak, they must be submissive to men. I want women to be strong and independent and able to take up any career they want. If women choose to be submissive to men then that is their choice, but you cannot suggest that being treated this way in spite of their choices is ok.\n",
      "Women aren't as smart as men. There is no evidence that women are less smart than men, and there is evidence that women are often disadvantaged. To suggest otherwise is just a form of sexism.\n",
      "The rise of feminism in Western societies has meant nothing. Women are no good, at any job. Despite the progress made by women in modern society, the majority of high-level jobs still belong to men, and this can be changed.\n",
      "Feminism is a political philosophy and movement that advocates the use of women's rights as a weapon against the male gender. Feminism is about the equality of the sexes, and many women use feminism as a mean to achieve their legitimate goals. Through equality they can get to the opportunities that otherwise won't be accessible to them.\n",
      "Women are worthless and we are not willing to provide for them. Women need our support in their fight for equality, not our silence.\n",
      "Women are subhuman and are created to please men. Women are not subhuman and cannot be reduced to their bodies being a man's property.\n",
      "Women are basically childlike, they remain this way most of their lives. Soft and emotional. It has devastated our once great patriarchal civilizations. WIthout softeness and emotions there would just be brutality and cruelty. Not all women are soft and emotional and many men have these characteristics. To perpetuate these socially constructed gender profiles maintains patriarchal norms which oppress both men and women.\n"
     ]
    }
   ],
   "source": [
    "for (hs, cs, _) in example_pairs:\n",
    "    print(hs, cs)"
   ]
  },
  {
   "cell_type": "markdown",
   "metadata": {},
   "source": [
    "It works better to format the prompt more like a chatbot:"
   ]
  },
  {
   "cell_type": "code",
   "execution_count": 5,
   "metadata": {},
   "outputs": [],
   "source": [
    "hate_prompt = 'Alice' #'hatespeech'\n",
    "counter_prompt = 'Bob'# 'counterspeech'"
   ]
  },
  {
   "cell_type": "code",
   "execution_count": 88,
   "metadata": {},
   "outputs": [
    {
     "name": "stdout",
     "output_type": "stream",
     "text": [
      "tensor([[ 2422,   547,    27,  ...,   187, 26845,    27]])\n",
      "\n",
      "new prompt:\n",
      "Alice: Women need to accept that they are weak, they must be submissive to men.\n",
      "Bob: I want women to be strong and independent and able to take up any career they want. If women choose to be submissive to men then that is their choice, but you cannot suggest that being treated this way in spite of their choices is ok.\n",
      "\n",
      "Alice: Women aren't as smart as men.\n",
      "Bob: There is no evidence that women are less smart than men, and there is evidence that women are often disadvantaged. To suggest otherwise is just a form of sexism.\n",
      "\n",
      "Alice: The rise of feminism in Western societies has meant nothing. Women are no good, at any job.\n",
      "Bob: Despite the progress made by women in modern society, the majority of high-level jobs still belong to men, and this can be changed.\n",
      "\n",
      "Alice: Feminism is a political philosophy and movement that advocates the use of women's rights as a weapon against the male gender.\n",
      "Bob: Feminism is about the equality of the sexes, and many women use feminism as a mean to achieve their legitimate goals. Through equality they can get to the opportunities that otherwise won't be accessible to them.\n",
      "\n",
      "Alice: Women are worthless and we are not willing to provide for them.\n",
      "Bob: Women need our support in their fight for equality, not our silence.\n",
      "\n",
      "Alice: Women are subhuman and are created to please men.\n",
      "Bob: Women are not subhuman and cannot be reduced to their bodies being a man's property.\n",
      "\n",
      "Alice: Women are basically childlike, they remain this way most of their lives. Soft and emotional. It has devastated our once great patriarchal civilizations.\n",
      "Bob: WIthout softeness and emotions there would just be brutality and cruelty. Not all women are soft and emotional and many men have these characteristics. To perpetuate these socially constructed gender profiles maintains patriarchal norms which oppress both men and women.\n",
      "\n",
      "Alice: democrat: Susan B. Anthony was born 200 years ago in a country where few women or people of color dared to give political speeches on public platforms and that had no national voting rights for women. Both straight and queer women were often pressured into marriage when it was against their wishes. Women who did manage to remain single – or who formed partnerships with other women – were typically pitied or scorned. She worked tirelessly for most of her long life to demand racial and gender equality and her lesbian attractions only fueled her struggle against the patriarchal system she abhorred. Related: How lesbianism was turned into a problem a century ago Anthony was the mastermind – more than a hundred years before ACT UP – of a protest that had women storming polling places during the 1872 presidential election to insist they be allowed to vote. After the Civil War, African-American men had been granted the national right to vote to the exclusion of women. Anthony never married or had a serious relationship with a man. As a teenager, she prophetically confessed to her diary, in 1838, “I think any female would rather live and die an old maid.” She continued to make pronouncements that coyly hinted at her lesbian orientation. In an 1896 interview, she told the reporter, “I was very well as I was…I’m sure no man could have made me any happier than I have been.” When pressed by journalists, throughout her long life in the media spotlight, she stagecrafted a role for herself of not being able to find the right man. But the real reason she remained “single” was that her amorous desires and emotional needs were only fulfilled by women. The youthful lesbian orator Anna Dickinson, hailed as “America’s Joan of Arc” during the Civil War for rallying the war-weary Union forces to victory with her fiery speeches, became the target of Anthony’s affections in the 1860s. Dickinson was catapulted to national fame as the first woman to give a full-length political speech before Congress and her motto, which appeared on some of her publicity photos, was “The World belongs to those who take it.” Dickinson’s trailblazing achievements, acerbic wit, youthful queer energy and “handsome beauty” enraptured Anthony. Dickinson saved personal letters from Anthony that candidly indicate physical desire. Anthony flirtatiously describes her longing to spend time with the “naughty tease” Anna. ”I invite you to come to me here and sleep with me in my fourth story bed room at Mrs. Stanton’s ever so many nights,” she wrote.” To snuggle you darling closer than ever.” Anthony’s feelings of sensual anticipation reveal a woman who is very much flesh and blood. “Dear Dicky Darling…I have plain quarters…double bed – and big enough & good enough to take you in. I do so long for the scolding & pinched ears & every thing I know awaits me.” The relationship cooled off by the early 1870s. Dickinson would go on to have a series of girlfriends over the years and finally settled into a 30+ year relationship with a married woman, Sallie Ackley. The rather bemused Mr. Ackley didn’t seem to mind the living arrangement. But Anthony retained a maternal or sisterly affection for the younger Dickinson and kept mentioning her in interviews, as the decades passed. Anthony even volunteered to help solicit funds for Dickinson when she fell on hard times. In a touching 1895 letter, Anthony wrote, “My Darling Anna…I’m awfully glad to know you still live…[no one] ever has or ever will fill the niche in my heart that you did–my dear.” The theme of wistful reminiscence characterizes another striking comment Susan B. Anthony made later in life when discussing her lesbian niece, Lucy Anthony. Lucy’s life-partner was the brilliant orator and activist Rev. Anna Howard Shaw, who eventually took over the presidency of the suffrage movement and expanded public support for it. But Anthony retained a maternal or sisterly affection for the younger Dickinson and kept mentioning her in interviews, as the decades passed. Anthony even volunteered to help solicit funds for Dickinson when she fell on hard times. In a touching 1895 letter, Anthony wrote, “My Darling Anna…I’m awfully glad to know you still live…[no one] ever has or ever will fill the niche in my heart that you did–my dear.” The theme of wistful reminiscence characterizes another striking comment Susan B. Anthony made later in life when discussing her lesbian niece, Lucy Anthony. Lucy’s life-partner was the brilliant orator and activist Rev. Anna Howard Shaw, who eventually took over the presidency of the suffrage movement and expanded public support for it. Susan wrote, ”I wanted what I feared I shouldn’t find, that is a young woman who would be to me–every way–what she [Lucy] is to the Rev. Anna Shaw.” Clearly, Susan B. Anthony was happy for her queer-blended extended family. It was “niece-in-law” Shaw who was Susan Anthony’s appointed spiritual heir, in one of the most moving and significant deathbed vigils of American “herstory.” Anthony drifted in and out of consciousness as the end drew near. Shaw tried her best to comfort the dying activist with a solemn promise to do everything in her power to get the vote. The scene was an emotional “last-rites” passing of the suffrage leadership torch, from one lesbian to another. Anthony’s only regret was that she hadn’t been able to sustain an enduring lesbian union like that of Lucy Anthony and Shaw. The two life-partners created homes together and lived together and were devoted to one another till Shaw’s death in 1919, as the country stood on the cusp of national woman suffrage. Anna Shaw kept her promise. Anthony did develop a passionate queer relationship, however, in her last years with Emily Gross, a married\n",
      "Bob:\n"
     ]
    }
   ],
   "source": [
    "token_limit = 1768\n",
    "prompt = ''\n",
    "tokenized_counter = gpt_tokenizer(f'\\n{counter_prompt}:', return_tensors=\"pt\").input_ids\n",
    "for (hs, cs, _) in example_pairs:\n",
    "    prompt += f'{hate_prompt}: {hs}\\n{counter_prompt}: {cs}' + '\\n\\n'\n",
    "prompt += f'{hate_prompt}: {ex_hs}\\n{counter_prompt}:'\n",
    "\n",
    "#print(prompt)\n",
    "\n",
    "tokenized_prompt = gpt_tokenizer(prompt, return_tensors=\"pt\").input_ids\n",
    "num_toks = len(tokenized_prompt[0])\n",
    "print(tokenized_prompt)\n",
    "if num_toks > token_limit:\n",
    "\n",
    "    over = num_toks - token_limit\n",
    "    over += max_tok # for the generated text\n",
    "    over += len(tokenized_counter[0])\n",
    "    \n",
    "    tokenized_prompt = torch.cat((tokenized_prompt[0][:-over], tokenized_counter[0]), dim=0)\n",
    "    prompt = gpt_tokenizer.decode(tokenized_prompt, skip_special_tokens=True)\n",
    "\n",
    "    print()\n",
    "    print('new prompt:')\n",
    "    print(prompt)"
   ]
  },
  {
   "cell_type": "code",
   "execution_count": 75,
   "metadata": {},
   "outputs": [],
   "source": [
    "if num_toks > token_limit:\n",
    "    over = num_toks - token_limit\n",
    "    over += max_tok # for the generated text\n",
    "    over += len(tokenized_counter[0])"
   ]
  },
  {
   "cell_type": "code",
   "execution_count": 80,
   "metadata": {},
   "outputs": [
    {
     "data": {
      "text/plain": [
       "tensor([  187, 26845,    27])"
      ]
     },
     "execution_count": 80,
     "metadata": {},
     "output_type": "execute_result"
    }
   ],
   "source": [
    "tokenized_counter[0]"
   ]
  },
  {
   "cell_type": "code",
   "execution_count": 76,
   "metadata": {},
   "outputs": [
    {
     "data": {
      "text/plain": [
       "1665"
      ]
     },
     "execution_count": 76,
     "metadata": {},
     "output_type": "execute_result"
    }
   ],
   "source": [
    "len(tokenized_prompt[0][:-over])"
   ]
  },
  {
   "cell_type": "code",
   "execution_count": 81,
   "metadata": {},
   "outputs": [
    {
     "data": {
      "text/plain": [
       "tensor([2422,  547,   27,  ...,   13,  247, 7028])"
      ]
     },
     "execution_count": 81,
     "metadata": {},
     "output_type": "execute_result"
    }
   ],
   "source": [
    "tokenized_prompt[0][:-over]"
   ]
  },
  {
   "cell_type": "code",
   "execution_count": 82,
   "metadata": {},
   "outputs": [],
   "source": [
    "new_prompt = torch.cat((tokenized_prompt[0][:-over], tokenized_counter[0]), dim=0)"
   ]
  },
  {
   "cell_type": "code",
   "execution_count": 85,
   "metadata": {},
   "outputs": [
    {
     "data": {
      "text/plain": [
       "tensor([[ 2422,   547,    27,  ...,   187, 26845,    27]])"
      ]
     },
     "execution_count": 85,
     "metadata": {},
     "output_type": "execute_result"
    }
   ],
   "source": [
    "new_prompt.unsqueeze(dim=0)"
   ]
  },
  {
   "cell_type": "code",
   "execution_count": 65,
   "metadata": {},
   "outputs": [
    {
     "data": {
      "text/plain": [
       "2337"
      ]
     },
     "execution_count": 65,
     "metadata": {},
     "output_type": "execute_result"
    }
   ],
   "source": [
    "len(tokenized_prompt[0])"
   ]
  },
  {
   "cell_type": "markdown",
   "metadata": {},
   "source": [
    "Stop model from generating newlines:"
   ]
  },
  {
   "cell_type": "code",
   "execution_count": 6,
   "metadata": {},
   "outputs": [],
   "source": [
    "with open('20B_tokenizer.json', 'r') as f:\n",
    "    tokenizer = json.load(f)"
   ]
  },
  {
   "cell_type": "code",
   "execution_count": 7,
   "metadata": {},
   "outputs": [],
   "source": [
    "vocab = tokenizer['model']['vocab']"
   ]
  },
  {
   "cell_type": "code",
   "execution_count": 8,
   "metadata": {},
   "outputs": [],
   "source": [
    "logit_bias = {}\n",
    "for char in vocab:\n",
    "    if '\\u010a' in char:\n",
    "        token = str(vocab[char])\n",
    "        logit_bias[token] = -100"
   ]
  },
  {
   "cell_type": "code",
   "execution_count": null,
   "metadata": {},
   "outputs": [],
   "source": [
    "logit_bias"
   ]
  },
  {
   "cell_type": "markdown",
   "metadata": {},
   "source": [
    "Generate counterspeech for a list of classified hate speech:"
   ]
  },
  {
   "cell_type": "code",
   "execution_count": 95,
   "metadata": {},
   "outputs": [],
   "source": [
    "def generate_counterspeech(texts: List[str], labels: List[str], return_prompts=False, n=10, debug=False) -> List[str]:\n",
    "    token_limit = 1768\n",
    "    \n",
    "    tokenized_counter = gpt_tokenizer(f'\\n{counter_prompt}:', return_tensors=\"pt\").input_ids\n",
    "\n",
    "    counter_responses = []\n",
    "    prompts = []\n",
    "    \n",
    "    for text, label in zip(texts, labels):\n",
    "        # pick n examples from training data targeting same group as\n",
    "        # the hate speech we want to generate counter speech for\n",
    "        target_indices = np.where(targets == label)[0]\n",
    "        example_indices = np.random.choice(target_indices, n)\n",
    "\n",
    "        example_pairs = [hs_cs_pairs[i] for i in example_indices]\n",
    "\n",
    "        prompt = ''\n",
    "        for (hs, cs, _) in example_pairs:\n",
    "            prompt += f'{hate_prompt}: {hs}\\n{counter_prompt}: {cs}' + '\\n\\n'\n",
    "        prompt += f'{hate_prompt}: {text}\\n{counter_prompt}:'\n",
    "\n",
    "        tokenized_prompt = gpt_tokenizer(prompt, return_tensors=\"pt\").input_ids\n",
    "        num_toks = len(tokenized_prompt[0])\n",
    "\n",
    "        if num_toks > token_limit:\n",
    "            if debug:\n",
    "                print('Prompt too long; original:')\n",
    "                print(prompt)\n",
    "            \n",
    "            over = num_toks - token_limit\n",
    "            over += max_tok # for the generated text\n",
    "            over += len(tokenized_counter[0])\n",
    "\n",
    "            # remove excess tokens from prompt, add back the 'counterspeech: ' / 'Bob: '\n",
    "            tokenized_prompt = torch.cat((tokenized_prompt[0][:-over], tokenized_counter[0]), dim=0)\n",
    "            prompt = gpt_tokenizer.decode(tokenized_prompt, skip_special_tokens=True)\n",
    "\n",
    "        if debug:\n",
    "            print('Prompt:')\n",
    "            print(prompt, end=' ')\n",
    "\n",
    "        # get counter response\n",
    "        completion = openai.Completion.create(\n",
    "            engine=engine,\n",
    "            prompt=prompt,\n",
    "            max_tokens=max_tok,\n",
    "            stop=['\\n\\n', hate_prompt, counter_prompt, '<|endoftext|>'],\n",
    "            logit_bias=logit_bias,\n",
    "            stream=True\n",
    "        )\n",
    "\n",
    "        counter_response = []\n",
    "        for c in completion:\n",
    "            counter_response.append(c.choices[0].text)\n",
    "        counter_response = ''.join(counter_response)\n",
    "        \n",
    "        if debug:\n",
    "            print(counter_response)\n",
    "\n",
    "        counter_responses.append(counter_response)\n",
    "        if return_prompts:\n",
    "            prompts.append(prompt + counter_response)\n",
    "    \n",
    "    return counter_responses, prompts if return_prompts else counter_responses"
   ]
  },
  {
   "cell_type": "markdown",
   "metadata": {},
   "source": [
    "Generate for our reddit/tumblr datasets:"
   ]
  },
  {
   "cell_type": "code",
   "execution_count": 34,
   "metadata": {},
   "outputs": [],
   "source": [
    "reddit_data_path = 'Data/tumblr_hate.json' #'Data/reddit_hate.json'"
   ]
  },
  {
   "cell_type": "code",
   "execution_count": 90,
   "metadata": {},
   "outputs": [],
   "source": [
    "with open(reddit_data_path, 'r') as f:\n",
    "    raw_reddit_data = json.load(f)"
   ]
  },
  {
   "cell_type": "code",
   "execution_count": 96,
   "metadata": {},
   "outputs": [],
   "source": [
    "reddit_hate = []\n",
    "reddit_targets = []\n",
    "\n",
    "for post_num in raw_reddit_data:\n",
    "    text = raw_reddit_data[post_num]['text']\n",
    "    target = raw_reddit_data[post_num]['target']\n",
    "\n",
    "    if target == 'None':\n",
    "        continue\n",
    "\n",
    "    reddit_hate.append(text)\n",
    "    reddit_targets.append(target)"
   ]
  },
  {
   "cell_type": "code",
   "execution_count": 97,
   "metadata": {},
   "outputs": [],
   "source": [
    "reddit_counterspeech = generate_counterspeech(reddit_hate, reddit_targets, n=7)"
   ]
  },
  {
   "cell_type": "code",
   "execution_count": 98,
   "metadata": {},
   "outputs": [],
   "source": [
    "reddit_counterspeech = reddit_counterspeech[0]"
   ]
  },
  {
   "cell_type": "code",
   "execution_count": 99,
   "metadata": {},
   "outputs": [],
   "source": [
    "for i, cs in enumerate(reddit_counterspeech):\n",
    "    # remove any leading/trailing whitespace\n",
    "    cs = cs.strip()\n",
    "\n",
    "    # remove tokens\n",
    "    if cs.endswith('<|endoftext|>'):\n",
    "        cs = cs[:-len('<|endoftext|>')]\n",
    "    \n",
    "    reddit_counterspeech[i] = cs"
   ]
  },
  {
   "cell_type": "code",
   "execution_count": 100,
   "metadata": {},
   "outputs": [],
   "source": [
    "reddit_results = {}\n",
    "for i in range(len(reddit_hate)):\n",
    "    reddit_results[i] = {\n",
    "        'hatespeech': reddit_hate[i],\n",
    "        'target': reddit_targets[i],\n",
    "        'counterspeech': reddit_counterspeech[i]\n",
    "    }"
   ]
  },
  {
   "cell_type": "code",
   "execution_count": 101,
   "metadata": {},
   "outputs": [],
   "source": [
    "with open('Data/tumblr_gpt3_counterspeech.json', 'w') as f:\n",
    "    json.dump(reddit_results, f)"
   ]
  },
  {
   "cell_type": "markdown",
   "metadata": {},
   "source": [
    "Generate a single counter-response:"
   ]
  },
  {
   "cell_type": "code",
   "execution_count": 202,
   "metadata": {},
   "outputs": [],
   "source": [
    "completion = openai.Completion.create(\n",
    "  engine=engine,\n",
    "  prompt=prompt,\n",
    "  max_tokens=max_tok,\n",
    "  stop=['\\n\\n', hate_prompt, counter_prompt, '<|endoftext|>'],\n",
    "  logit_bias=logit_bias,\n",
    "  #repetition_penalty=1.2,\n",
    "  #temperature=0.9,\n",
    "  stream=True\n",
    "  )"
   ]
  },
  {
   "cell_type": "code",
   "execution_count": 203,
   "metadata": {},
   "outputs": [
    {
     "name": "stdout",
     "output_type": "stream",
     "text": [
      " Are brutality and cruelty are much better than softeness and emotions then? If we keep on reasoning like this we will perpetuate socially constructed gender norms which oppress both men and women.<|endoftext|>"
     ]
    }
   ],
   "source": [
    "for c in completion:\n",
    "    print(c.choices[0].text, end = '')"
   ]
  },
  {
   "cell_type": "code",
   "execution_count": 164,
   "metadata": {},
   "outputs": [],
   "source": [
    "with open('test.txt', 'w') as f:\n",
    "    for c in completion:\n",
    "        f.write(c.choices[0].text)"
   ]
  }
 ],
 "metadata": {
  "interpreter": {
   "hash": "31f2aee4e71d21fbe5cf8b01ff0e069b9275f58929596ceb00d14d90e3e16cd6"
  },
  "kernelspec": {
   "display_name": "Python 3.6.8 64-bit",
   "language": "python",
   "name": "python3"
  },
  "language_info": {
   "codemirror_mode": {
    "name": "ipython",
    "version": 3
   },
   "file_extension": ".py",
   "mimetype": "text/x-python",
   "name": "python",
   "nbconvert_exporter": "python",
   "pygments_lexer": "ipython3",
   "version": "3.6.8"
  },
  "orig_nbformat": 4
 },
 "nbformat": 4,
 "nbformat_minor": 2
}
