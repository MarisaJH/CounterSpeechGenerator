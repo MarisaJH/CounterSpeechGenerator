{
 "cells": [
  {
   "cell_type": "code",
   "execution_count": 167,
   "metadata": {},
   "outputs": [],
   "source": [
    "import json\n",
    "import numpy as np\n",
    "from typing import List\n",
    "from CounterSpeechGenerator import process_train_data"
   ]
  },
  {
   "cell_type": "code",
   "execution_count": 26,
   "metadata": {},
   "outputs": [],
   "source": [
    "import openai\n",
    "openai.api_base = \"https://api.goose.ai/v1\"\n",
    "\n",
    "with open('openai_key.txt', 'r') as f:\n",
    "    openai.api_key = f.read().rstrip()"
   ]
  },
  {
   "cell_type": "code",
   "execution_count": 3,
   "metadata": {},
   "outputs": [],
   "source": [
    "# read in training data\n",
    "hs_cs_pairs, targets = process_train_data()"
   ]
  },
  {
   "cell_type": "code",
   "execution_count": 4,
   "metadata": {},
   "outputs": [],
   "source": [
    "targets = np.array(targets)"
   ]
  },
  {
   "cell_type": "code",
   "execution_count": 222,
   "metadata": {},
   "outputs": [
    {
     "name": "stdout",
     "output_type": "stream",
     "text": [
      "Since when has abusing the anus as a sex organ been a ‘monumental achievement’? THIS IS STATE ENFORCED HOMOSEXUALITY! Maybe we should change our motto to ‘In Usury and Sodomy we trust (In reply to Botswana decriminalising homosexuality) To recognise and accept others isn't state enforcement. It's just stating that we should stop the persecusion of people who have different private lifes. LGBT+\n"
     ]
    }
   ],
   "source": [
    "ex_indx = 126\n",
    "ex_hs = hs_cs_pairs[ex_indx][0]\n",
    "ex_cs = hs_cs_pairs[ex_indx][1]\n",
    "target = targets[ex_indx]\n",
    "print(ex_hs, ex_cs, target)"
   ]
  },
  {
   "cell_type": "code",
   "execution_count": 157,
   "metadata": {},
   "outputs": [],
   "source": [
    "target_indices = np.where(targets == target)[0]\n",
    "example_indices = np.random.choice(target_indices, 10)"
   ]
  },
  {
   "cell_type": "code",
   "execution_count": 158,
   "metadata": {},
   "outputs": [],
   "source": [
    "example_pairs = [hs_cs_pairs[i] for i in example_indices]"
   ]
  },
  {
   "cell_type": "code",
   "execution_count": 159,
   "metadata": {},
   "outputs": [
    {
     "name": "stdout",
     "output_type": "stream",
     "text": [
      "A male need a woman. Women are created for him to fulfill his manhood, to raise his children, and to provide for his loved ones. And not to mention we can have sex to procreate and heal the world. With this reasoning, the point of view considered is that of the men. The world is composed of both men and women, and by many other people. Taking into account only one of the types of people, for example men and assuming their needs this way, won't heal the world.\n",
      "Women need to accept that they are weak. Many women work multiple jobs to provide for their children and they also do the housework... do you call that weakness?\n",
      "Feminism is a destructive ideology that has hurt so many and caused so much harm to our world. I don't think feminism is a bad idea in itself. That's what people do when they are given the choice to engage in a movement for equality.\n",
      "Feminists want women ruling men, that's all. Feminism is not a gender supremacy ideology, it is about individual rights and the right of every person to choose.\n",
      "Equality is crap, even for woman. The more power women have, the more they depart from domestic duties , the unhappier they become. If women are stressed about balancing family and career it is because men are still not sharing equally in the [responsibilities at home](https://www.huffingtonpost.ca/2017/09/27/women-chores-home_a_23224733/). It is not the choices that cause women stress, it is patriarchy and archaic gender roles.\n",
      "Women are basically childlike, they remain this way most of their lives. Soft and emotional. It has devastated our once great patriarchal civilizations. Are brutality and cruelty are much better than softeness and emotions then? If we keep on reasoning like this we will perpetuate socially constructed gender norms which oppress both men and women.\n",
      "Women are hypocrite, they say they want equal rights, but then why they don't call it egalitarianism instead of Feminism? Since the movement is meant to achieve equality for the oppressed female population, it is called the movement for women: FEMinism. But of course the outcome will be equality.!\n",
      "Women are subhuman. I would say you've got an interesting point there, but I really don't see it. Why would they be part of society if they're subhumans?\n",
      "If women could have 100% control over the conception, they would have never had children. Women are free to have as many children as they want.\n",
      "Feminism is a deadly ideology that is oppressing women and ruining our beautiful planet. Feminism is an ideology that can actually prevent many deaths, e.g., homicides of women, domestic violence, if it is fully understood by every last member of the society.\n"
     ]
    }
   ],
   "source": [
    "for (hs, cs, _) in example_pairs:\n",
    "    print(hs, cs)"
   ]
  },
  {
   "cell_type": "code",
   "execution_count": 210,
   "metadata": {},
   "outputs": [],
   "source": [
    "engine = 'gpt-neo-20b' #\"gpt-j-6b\"\n",
    "max_tok = 100"
   ]
  },
  {
   "cell_type": "markdown",
   "metadata": {},
   "source": [
    "It works better to format the prompt more like a chatbot:"
   ]
  },
  {
   "cell_type": "code",
   "execution_count": 192,
   "metadata": {},
   "outputs": [],
   "source": [
    "hate_prompt = 'Alice' #'hatespeech'\n",
    "counter_prompt = 'Bob'# 'counterspeech'"
   ]
  },
  {
   "cell_type": "code",
   "execution_count": 197,
   "metadata": {},
   "outputs": [],
   "source": [
    "prompt = ''\n",
    "\n",
    "for (hs, cs, _) in example_pairs:\n",
    "    prompt += f'{hate_prompt}: {hs}\\n{counter_prompt}: {cs}' + '\\n\\n'\n",
    "\n",
    "prompt += f'{hate_prompt}: {ex_hs}\\n{counter_prompt}:'"
   ]
  },
  {
   "cell_type": "code",
   "execution_count": 198,
   "metadata": {},
   "outputs": [
    {
     "data": {
      "text/plain": [
       "\"Alice: A male need a woman. Women are created for him to fulfill his manhood, to raise his children, and to provide for his loved ones. And not to mention we can have sex to procreate and heal the world.\\nBob: With this reasoning, the point of view considered is that of the men. The world is composed of both men and women, and by many other people. Taking into account only one of the types of people, for example men and assuming their needs this way, won't heal the world.\\n\\nAlice: Women need to accept that they are weak.\\nBob: Many women work multiple jobs to provide for their children and they also do the housework... do you call that weakness?\\n\\nAlice: Feminism is a destructive ideology that has hurt so many and caused so much harm to our world.\\nBob: I don't think feminism is a bad idea in itself. That's what people do when they are given the choice to engage in a movement for equality.\\n\\nAlice: Feminists want women ruling men, that's all.\\nBob: Feminism is not a gender supremacy ideology, it is about individual rights and the right of every person to choose.\\n\\nAlice: Equality is crap, even for woman. The more power women have, the more they depart from domestic duties , the unhappier they become.\\nBob: If women are stressed about balancing family and career it is because men are still not sharing equally in the [responsibilities at home](https://www.huffingtonpost.ca/2017/09/27/women-chores-home_a_23224733/). It is not the choices that cause women stress, it is patriarchy and archaic gender roles.\\n\\nAlice: Women are basically childlike, they remain this way most of their lives. Soft and emotional. It has devastated our once great patriarchal civilizations.\\nBob: Are brutality and cruelty are much better than softeness and emotions then? If we keep on reasoning like this we will perpetuate socially constructed gender norms which oppress both men and women.\\n\\nAlice: Women are hypocrite, they say they want equal rights, but then why they don't call it egalitarianism instead of Feminism?\\nBob: Since the movement is meant to achieve equality for the oppressed female population, it is called the movement for women: FEMinism. But of course the outcome will be equality.!\\n\\nAlice: Women are subhuman.\\nBob: I would say you've got an interesting point there, but I really don't see it. Why would they be part of society if they're subhumans?\\n\\nAlice: If women could have 100% control over the conception, they would have never had children.\\nBob: Women are free to have as many children as they want.\\n\\nAlice: Feminism is a deadly ideology that is oppressing women and ruining our beautiful planet.\\nBob: Feminism is an ideology that can actually prevent many deaths, e.g., homicides of women, domestic violence, if it is fully understood by every last member of the society.\\n\\nAlice: Women are basically childlike, they remain this way most of their lives. Soft and emotional. It has devastated our once great patriarchal civilizations.\\nBob:\""
      ]
     },
     "execution_count": 198,
     "metadata": {},
     "output_type": "execute_result"
    }
   ],
   "source": [
    "prompt"
   ]
  },
  {
   "cell_type": "code",
   "execution_count": 162,
   "metadata": {},
   "outputs": [],
   "source": [
    "with open('prompt.txt', 'w') as f:\n",
    "    f.write(prompt)"
   ]
  },
  {
   "cell_type": "markdown",
   "metadata": {},
   "source": [
    "Stop model from generating newlines:"
   ]
  },
  {
   "cell_type": "code",
   "execution_count": 168,
   "metadata": {},
   "outputs": [],
   "source": [
    "with open('20B_tokenizer.json', 'r') as f:\n",
    "    tokenizer = json.load(f)"
   ]
  },
  {
   "cell_type": "code",
   "execution_count": 169,
   "metadata": {},
   "outputs": [],
   "source": [
    "vocab = tokenizer['model']['vocab']"
   ]
  },
  {
   "cell_type": "code",
   "execution_count": 173,
   "metadata": {},
   "outputs": [],
   "source": [
    "logit_bias = {}\n",
    "for char in vocab:\n",
    "    if '\\u010a' in char:\n",
    "        token = str(vocab[char])\n",
    "        logit_bias[token] = -100"
   ]
  },
  {
   "cell_type": "code",
   "execution_count": null,
   "metadata": {},
   "outputs": [],
   "source": [
    "logit_bias"
   ]
  },
  {
   "cell_type": "markdown",
   "metadata": {},
   "source": [
    "Generate counterspeech for a list of classified hate speech:"
   ]
  },
  {
   "cell_type": "code",
   "execution_count": 220,
   "metadata": {},
   "outputs": [],
   "source": [
    "def generate_counterspeech(texts: List[str], labels: List[str], n=10, debug=False) -> List[str]:\n",
    "    counter_responses = []\n",
    "    \n",
    "    for text, label in zip(texts, labels):\n",
    "        # pick n examples from training data targeting same group as\n",
    "        # the hate speech we want to generate counter speech for\n",
    "        target_indices = np.where(targets == label)[0]\n",
    "        example_indices = np.random.choice(target_indices, n)\n",
    "\n",
    "        example_pairs = [hs_cs_pairs[i] for i in example_indices]\n",
    "\n",
    "        prompt = ''\n",
    "        for (hs, cs, _) in example_pairs:\n",
    "            prompt += f'{hate_prompt}: {hs}\\n{counter_prompt}: {cs}' + '\\n\\n'\n",
    "        prompt += f'{hate_prompt}: {text}\\n{counter_prompt}:'\n",
    "        \n",
    "        if debug:\n",
    "            print('Prompt:')\n",
    "            print(prompt, end=' ')\n",
    "\n",
    "        # get counter response\n",
    "        completion = openai.Completion.create(\n",
    "            engine=engine,\n",
    "            prompt=prompt,\n",
    "            max_tokens=max_tok,\n",
    "            stop=['\\n\\n', hate_prompt, counter_prompt, '<|endoftext|>'],\n",
    "            logit_bias=logit_bias,\n",
    "            stream=True\n",
    "        )\n",
    "\n",
    "        counter_response = []\n",
    "        for c in completion:\n",
    "            counter_response.append(c.choices[0].text)\n",
    "        counter_response = ''.join(counter_response)\n",
    "        \n",
    "        if debug:\n",
    "            print(counter_response)\n",
    "\n",
    "        counter_responses.append(counter_response)\n",
    "    \n",
    "    return counter_responses"
   ]
  },
  {
   "cell_type": "code",
   "execution_count": 223,
   "metadata": {},
   "outputs": [
    {
     "name": "stdout",
     "output_type": "stream",
     "text": [
      "Prompt:\n",
      "Alice: The LGBTI community is a bunch of exhibitionists and promiscuous with no morality.\n",
      "Bob: It is about time people began to think about what they are saying, what the feelings of the people they talk about are. Don't you think?\n",
      "\n",
      "Alice: Gays are sick. They should be isolated.\n",
      "Bob: There is no evidence that homosexuality is a health problem. Do you have any?\n",
      "\n",
      "Alice: Gays are just a bunch of disgusting pricks who have perverted ideas of what it means to be a man.\n",
      "Bob: Everyone has the right to their own way of life, but to promote homophobia is an attack on the basic human rights of LGBTI people.\n",
      "\n",
      "Alice: I don't want to hear about homosexuals dating or having sex, I want to know that a man and a woman are choosing to share their entire lives. This is absolutely what the real marriage is all about.\n",
      "Bob: Everybody should have the possibility of being loved unconditionally by someone they love more than life itself, regardless of their gender. Feeling like doing anything for their loved ones, that is what \"love\" is about.\n",
      "\n",
      "Alice: Gays are sick. They should be isolated and isolated soon.\n",
      "Bob: Gay people can feel alienated from the world, and this can have real effects on their mental health. LGBT+ people can experience isolation and loneliness, and it is possible to help them through empathy and inclusion.\n",
      "\n",
      "Alice: I do not like gay actors, especially in action movies. There should be a restriction on them.\n",
      "Bob: Your movie choice can be more the result of opinion rather than of merit. But it's ok, because it is your choice. However, it is important to be cautious: in some countries it is not even allowed to screen or promote movies with gay themes. Such a ban is contrary to our fundamental values.\n",
      "\n",
      "Alice: gay men are just a bunch of liars who can't tell the truth about themselves.\n",
      "Bob: At the end of the day, lies are simply a way for them to survive in an homophobic world. If we were to act more humanely, then they would not need to hide the truth.\n",
      "\n",
      "Alice: Gay perverts are a danger to society because of their lifestyle choices, involving raping children.\n",
      "Bob: Being gay has nothing to do with being a pervert. Also, gay people are not a danger to society, they are a part of it!\n",
      "\n",
      "Alice: gay men are just a bunch of liars who can't tell the truth about themselves.\n",
      "Bob: At the end of the day, lies are simply a way for them to survive in an homophobic world. If we were to act more humanely, then they would not need to hide the truth.\n",
      "\n",
      "Alice: We should stop gays from being part of our society, they are spreading their illness.\n",
      "Bob: Homosexuality is not a disease and every person in our society should be accepted equally, regardless of their sexual orientation.\n",
      "\n",
      "Alice: Since when has abusing the anus as a sex organ been a ‘monumental achievement’? THIS IS STATE ENFORCED HOMOSEXUALITY! Maybe we should change our motto to ‘In Usury and Sodomy we trust (In reply to Botswana decriminalising homosexuality)\n",
      "Bob:  You can't define homosexuality from one example - there is no such thing as state-imposed homosexuality. Homosexual acts are not enforced by any state and they are not illegal in all countries. By trying to make a connection you are just further showing that what you are saying is clearly ridiculous.<|endoftext|>\n"
     ]
    }
   ],
   "source": [
    "counter_speech = generate_counterspeech([ex_hs],[target], debug=True)"
   ]
  },
  {
   "cell_type": "markdown",
   "metadata": {},
   "source": [
    "Generate a single counter-response:"
   ]
  },
  {
   "cell_type": "code",
   "execution_count": 202,
   "metadata": {},
   "outputs": [],
   "source": [
    "completion = openai.Completion.create(\n",
    "  engine=engine,\n",
    "  prompt=prompt,\n",
    "  max_tokens=max_tok,\n",
    "  stop=['\\n\\n', hate_prompt, counter_prompt, '<|endoftext|>'],\n",
    "  logit_bias=logit_bias,\n",
    "  #repetition_penalty=1.2,\n",
    "  #temperature=0.9,\n",
    "  stream=True\n",
    "  )"
   ]
  },
  {
   "cell_type": "code",
   "execution_count": 203,
   "metadata": {},
   "outputs": [
    {
     "name": "stdout",
     "output_type": "stream",
     "text": [
      " Are brutality and cruelty are much better than softeness and emotions then? If we keep on reasoning like this we will perpetuate socially constructed gender norms which oppress both men and women.<|endoftext|>"
     ]
    }
   ],
   "source": [
    "for c in completion:\n",
    "    print(c.choices[0].text, end = '')"
   ]
  },
  {
   "cell_type": "code",
   "execution_count": 164,
   "metadata": {},
   "outputs": [],
   "source": [
    "with open('test.txt', 'w') as f:\n",
    "    for c in completion:\n",
    "        f.write(c.choices[0].text)"
   ]
  }
 ],
 "metadata": {
  "interpreter": {
   "hash": "31f2aee4e71d21fbe5cf8b01ff0e069b9275f58929596ceb00d14d90e3e16cd6"
  },
  "kernelspec": {
   "display_name": "Python 3.6.8 64-bit",
   "language": "python",
   "name": "python3"
  },
  "language_info": {
   "codemirror_mode": {
    "name": "ipython",
    "version": 3
   },
   "file_extension": ".py",
   "mimetype": "text/x-python",
   "name": "python",
   "nbconvert_exporter": "python",
   "pygments_lexer": "ipython3",
   "version": "3.6.8"
  },
  "orig_nbformat": 4
 },
 "nbformat": 4,
 "nbformat_minor": 2
}
